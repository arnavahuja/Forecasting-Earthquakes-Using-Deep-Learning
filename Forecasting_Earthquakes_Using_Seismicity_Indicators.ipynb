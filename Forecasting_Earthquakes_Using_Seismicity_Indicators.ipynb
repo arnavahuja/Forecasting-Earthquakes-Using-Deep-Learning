{
  "nbformat": 4,
  "nbformat_minor": 0,
  "metadata": {
    "colab": {
      "name": "Forecasting Earthquakes Using Seismicity Indicators.ipynb",
      "provenance": [],
      "collapsed_sections": [
        "zZHXuHBGHIal"
      ],
      "toc_visible": true,
      "authorship_tag": "ABX9TyMvff2U4UveuCyDeOgO1yyg"
    },
    "kernelspec": {
      "name": "python3",
      "display_name": "Python 3"
    },
    "accelerator": "GPU"
  },
  "cells": [
    {
      "cell_type": "code",
      "metadata": {
        "id": "AYz6n2Qhun5J"
      },
      "source": [
        "import pandas as pd\n",
        "import matplotlib.pyplot as plt\n",
        "import numpy as np\n",
        "import math\n",
        "from sklearn.metrics import accuracy_score\n",
        "import pickle\n",
        "from IPython.display import clear_output\n",
        "import torch.nn as nn\n",
        "import torch\n",
        "from sklearn.model_selection import train_test_split\n",
        "from torch import optim"
      ],
      "execution_count": null,
      "outputs": []
    },
    {
      "cell_type": "code",
      "metadata": {
        "id": "ogUbre7QfhS7"
      },
      "source": [
        "device_gpu = torch.device('cuda:0' if torch.cuda.is_available() else 'cpu')"
      ],
      "execution_count": null,
      "outputs": []
    },
    {
      "cell_type": "markdown",
      "metadata": {
        "id": "pLkksMBeYjL2"
      },
      "source": [
        "#BASIC IMPORTS AND DATASET READING"
      ]
    },
    {
      "cell_type": "code",
      "metadata": {
        "id": "ey0hmYlHvTnE",
        "outputId": "574c5b15-a43d-4cdb-bc48-a46d23afee98",
        "colab": {
          "base_uri": "https://localhost:8080/",
          "height": 195
        }
      },
      "source": [
        "dataf = pd.read_csv('Dataset Earthquake(3 greater).txt',error_bad_lines=False)\n",
        "dataf.head()"
      ],
      "execution_count": null,
      "outputs": [
        {
          "output_type": "execute_result",
          "data": {
            "text/html": [
              "<div>\n",
              "<style scoped>\n",
              "    .dataframe tbody tr th:only-of-type {\n",
              "        vertical-align: middle;\n",
              "    }\n",
              "\n",
              "    .dataframe tbody tr th {\n",
              "        vertical-align: top;\n",
              "    }\n",
              "\n",
              "    .dataframe thead th {\n",
              "        text-align: right;\n",
              "    }\n",
              "</style>\n",
              "<table border=\"1\" class=\"dataframe\">\n",
              "  <thead>\n",
              "    <tr style=\"text-align: right;\">\n",
              "      <th></th>\n",
              "      <th>EVENTID</th>\n",
              "      <th>AUTHOR</th>\n",
              "      <th>DATE</th>\n",
              "      <th>TIME</th>\n",
              "      <th>LAT</th>\n",
              "      <th>LON</th>\n",
              "      <th>DEPTH</th>\n",
              "      <th>DEPFIX</th>\n",
              "      <th>AUTHOR   .1</th>\n",
              "      <th>TYPE</th>\n",
              "      <th>MAG</th>\n",
              "    </tr>\n",
              "  </thead>\n",
              "  <tbody>\n",
              "    <tr>\n",
              "      <th>0</th>\n",
              "      <td>589363</td>\n",
              "      <td>NDI</td>\n",
              "      <td>1982-11-21</td>\n",
              "      <td>08:10:21</td>\n",
              "      <td>28.80</td>\n",
              "      <td>81.05</td>\n",
              "      <td></td>\n",
              "      <td></td>\n",
              "      <td>NDI</td>\n",
              "      <td>ML</td>\n",
              "      <td>3.6</td>\n",
              "    </tr>\n",
              "    <tr>\n",
              "      <th>1</th>\n",
              "      <td>500434</td>\n",
              "      <td>NDI</td>\n",
              "      <td>1986-03-13</td>\n",
              "      <td>20:58:43</td>\n",
              "      <td>28.60</td>\n",
              "      <td>80.60</td>\n",
              "      <td></td>\n",
              "      <td></td>\n",
              "      <td>NDI</td>\n",
              "      <td>mL</td>\n",
              "      <td>3.3</td>\n",
              "    </tr>\n",
              "    <tr>\n",
              "      <th>2</th>\n",
              "      <td>495770</td>\n",
              "      <td>NEIC</td>\n",
              "      <td>1986-05-16</td>\n",
              "      <td>05:16:13.70</td>\n",
              "      <td>34.00</td>\n",
              "      <td>72.58</td>\n",
              "      <td>15.0</td>\n",
              "      <td>TRUE</td>\n",
              "      <td>NEIC</td>\n",
              "      <td>mL</td>\n",
              "      <td>4.0</td>\n",
              "    </tr>\n",
              "    <tr>\n",
              "      <th>3</th>\n",
              "      <td>490430</td>\n",
              "      <td>QUE</td>\n",
              "      <td>1986-07-10</td>\n",
              "      <td>07:56:12</td>\n",
              "      <td>34.15</td>\n",
              "      <td>72.69</td>\n",
              "      <td>2.0</td>\n",
              "      <td></td>\n",
              "      <td>QUE</td>\n",
              "      <td>mL</td>\n",
              "      <td>4.5</td>\n",
              "    </tr>\n",
              "    <tr>\n",
              "      <th>4</th>\n",
              "      <td>384489</td>\n",
              "      <td>BJI</td>\n",
              "      <td>1989-12-20</td>\n",
              "      <td>21:47:53.50</td>\n",
              "      <td>36.82</td>\n",
              "      <td>73.85</td>\n",
              "      <td>23.0</td>\n",
              "      <td></td>\n",
              "      <td>BJI</td>\n",
              "      <td>mL</td>\n",
              "      <td>4.2</td>\n",
              "    </tr>\n",
              "  </tbody>\n",
              "</table>\n",
              "</div>"
            ],
            "text/plain": [
              "   EVENTID  AUTHOR     DATE        ... AUTHOR   .1  TYPE    MAG \n",
              "0   589363  NDI        1982-11-21  ...   NDI        ML       3.6\n",
              "1   500434  NDI        1986-03-13  ...   NDI        mL       3.3\n",
              "2   495770  NEIC       1986-05-16  ...   NEIC       mL       4.0\n",
              "3   490430  QUE        1986-07-10  ...   QUE        mL       4.5\n",
              "4   384489  BJI        1989-12-20  ...   BJI        mL       4.2\n",
              "\n",
              "[5 rows x 11 columns]"
            ]
          },
          "metadata": {
            "tags": []
          },
          "execution_count": 6
        }
      ]
    },
    {
      "cell_type": "markdown",
      "metadata": {
        "id": "ORSf2USq8G31"
      },
      "source": [
        "SIMPLE PREPROCESSING"
      ]
    },
    {
      "cell_type": "code",
      "metadata": {
        "id": "6jkOIvp00yeW"
      },
      "source": [
        "dataf = dataf.drop([\"AUTHOR   .1\",\"DEPFIX\"],axis=1)"
      ],
      "execution_count": null,
      "outputs": []
    },
    {
      "cell_type": "code",
      "metadata": {
        "id": "diZTIEC6wsml"
      },
      "source": [
        "dataf = dataf.rename(columns={'AUTHOR   ':'AUTHOR',\n",
        "                              'DATE      ':'DATE',\n",
        "                              'TIME       ':'TIME',\n",
        "                              'LAT     ':'LATITUDE',\n",
        "                              'LON      ':'LONGITUDE',\n",
        "                              'TYPE  ':'TYPE',\n",
        "                              'MAG ':'MAG'})"
      ],
      "execution_count": null,
      "outputs": []
    },
    {
      "cell_type": "code",
      "metadata": {
        "id": "p6HvsgOh2HKV"
      },
      "source": [
        "def clean_column(data,colname):\n",
        "    depth_list=[]\n",
        "    for i in range(len(data)):\n",
        "\n",
        "        if data.iloc[i][colname].strip()=='':\n",
        "            depth_list.append(0)\n",
        "        elif data.iloc[i][colname].strip()=='9999999999':\n",
        "            depth_list.append(0)\n",
        "        else:\n",
        "            depth_list.append(float(data.iloc[i][colname].strip()))\n",
        "\n",
        "    return depth_list"
      ],
      "execution_count": null,
      "outputs": []
    },
    {
      "cell_type": "code",
      "metadata": {
        "id": "_GlVGvHQ4Ooj"
      },
      "source": [
        "dataf[\"DEPTH\"] = clean_column(dataf,\"DEPTH\")"
      ],
      "execution_count": null,
      "outputs": []
    },
    {
      "cell_type": "code",
      "metadata": {
        "id": "3979Psb2wKKy",
        "outputId": "96e01a33-551d-47ba-e261-dcbc54481575",
        "colab": {
          "base_uri": "https://localhost:8080/",
          "height": 67
        }
      },
      "source": [
        "dataf.columns"
      ],
      "execution_count": null,
      "outputs": [
        {
          "output_type": "execute_result",
          "data": {
            "text/plain": [
              "Index(['EVENTID', 'AUTHOR', 'DATE', 'TIME', 'LATITUDE', 'LONGITUDE', 'DEPTH',\n",
              "       'TYPE', 'MAG'],\n",
              "      dtype='object')"
            ]
          },
          "metadata": {
            "tags": []
          },
          "execution_count": 11
        }
      ]
    },
    {
      "cell_type": "markdown",
      "metadata": {
        "id": "uqVkc0IOvsmB"
      },
      "source": [
        "#PREPROCESSING"
      ]
    },
    {
      "cell_type": "markdown",
      "metadata": {
        "id": "JaZfdtCTS3S2"
      },
      "source": [
        "Convert DATE to Usable format"
      ]
    },
    {
      "cell_type": "code",
      "metadata": {
        "id": "f-pRJPnZvaxl"
      },
      "source": [
        "N = 50\n",
        "threshold_min_mag = 3"
      ],
      "execution_count": null,
      "outputs": []
    },
    {
      "cell_type": "code",
      "metadata": {
        "id": "Qnn8KLD-Adik"
      },
      "source": [
        "dataf[\"DATE\"] = pd.to_datetime(dataf[\"DATE\"])"
      ],
      "execution_count": null,
      "outputs": []
    },
    {
      "cell_type": "code",
      "metadata": {
        "id": "0lL0cLEKFkIa"
      },
      "source": [
        "def get_root_energy(mag):\n",
        "    energy = 11.8+(1.5*mag)\n",
        "    energy = 10**energy\n",
        "    return energy**0.5"
      ],
      "execution_count": null,
      "outputs": []
    },
    {
      "cell_type": "markdown",
      "metadata": {
        "id": "MvyD9YcxS7KS"
      },
      "source": [
        "TVAL,MEAN MAGNITUDE, ENERGY"
      ]
    },
    {
      "cell_type": "code",
      "metadata": {
        "id": "ieigHk82HJb6"
      },
      "source": [
        "dataf[\"TVAL\"] = 0\n",
        "dataf[\"MEAN_MAG\"] = 0\n",
        "dataf[\"ENERGY\"] = 0"
      ],
      "execution_count": null,
      "outputs": []
    },
    {
      "cell_type": "code",
      "metadata": {
        "id": "fxLJxpSrBP3C"
      },
      "source": [
        "for i in range(N,len(dataf)):\n",
        "    dataf.loc[i,(\"TVAL\")] = dataf.iloc[i][\"DATE\"]-dataf.iloc[i-N][\"DATE\"]\n",
        "    dataf.loc[i,(\"MEAN_MAG\")] = sum(dataf.iloc[i-N:i][\"MAG\"])/N\n",
        "    dataf.loc[i,(\"ENERGY\")] = sum(get_root_energy(dataf.iloc[i-N:i][\"MAG\"]))/dataf.iloc[i][\"TVAL\"].days"
      ],
      "execution_count": null,
      "outputs": []
    },
    {
      "cell_type": "code",
      "metadata": {
        "id": "pfLbs3nEUb_O"
      },
      "source": [
        "for i in range(len(dataf)):\n",
        "    dataf.loc[i,\"TVAL\"] = int(str(dataf.iloc[i][\"TVAL\"]).split()[0])"
      ],
      "execution_count": null,
      "outputs": []
    },
    {
      "cell_type": "code",
      "metadata": {
        "id": "Qu9LAgPk7MML"
      },
      "source": [
        "def no_of_events(dataf,mag,i,N=50):\n",
        "    count=0\n",
        "    if i-N<0:\n",
        "        K=0\n",
        "    else:\n",
        "        K=i-N\n",
        "    for j in range(K,i):\n",
        "        if(dataf.iloc[j][\"MAG\"]>=mag):\n",
        "            count+=1\n",
        "    if count==0:\n",
        "        count=1\n",
        "    return count"
      ],
      "execution_count": null,
      "outputs": []
    },
    {
      "cell_type": "code",
      "metadata": {
        "id": "VKusKoW9GZXB"
      },
      "source": [
        "dataf[\"NO_OF_EVENTS\"] = 1\n",
        "for i in range(N,len(dataf)):\n",
        "    dataf.loc[i,\"NO_OF_EVENTS\"] = no_of_events(dataf,dataf.iloc[i][\"MAG\"],i)"
      ],
      "execution_count": null,
      "outputs": []
    },
    {
      "cell_type": "markdown",
      "metadata": {
        "id": "I6P1F_V-79hH"
      },
      "source": [
        "a and b values GUTENBERG RICHTER LAW"
      ]
    },
    {
      "cell_type": "code",
      "metadata": {
        "id": "1_Df3BgeyPXG",
        "outputId": "efc544be-a209-4beb-9717-837de2fe1f51",
        "colab": {
          "base_uri": "https://localhost:8080/",
          "height": 34
        }
      },
      "source": [
        "min_mag = np.min(np.array(dataf[\"MAG\"]))\n",
        "mean_mag = np.mean(np.array(dataf[\"MAG\"]))\n",
        "b_VAL = np.log10(np.exp(1))/(mean_mag-min_mag)\n",
        "b_VAL           #final"
      ],
      "execution_count": null,
      "outputs": [
        {
          "output_type": "execute_result",
          "data": {
            "text/plain": [
              "1.1104403023946299"
            ]
          },
          "metadata": {
            "tags": []
          },
          "execution_count": 20
        }
      ]
    },
    {
      "cell_type": "code",
      "metadata": {
        "id": "fLzDeyKu3pkH"
      },
      "source": [
        "a_VAL = sum(np.log10(np.array(dataf[\"NO_OF_EVENTS\"])) + b_VAL*(np.array(dataf[\"MAG\"])))/len(dataf)      #final"
      ],
      "execution_count": null,
      "outputs": []
    },
    {
      "cell_type": "code",
      "metadata": {
        "id": "6A8sBQ1W0sZd",
        "outputId": "d0cd3231-1925-4280-cfc3-b5ea40f88855",
        "colab": {
          "base_uri": "https://localhost:8080/",
          "height": 50
        }
      },
      "source": [
        "m = dataf.iloc[181][\"MAG\"]\n",
        "print(\"NUMBER OF EVENTS(PREDICTED)\",10**(a_VAL-(b_VAL*m)))\n",
        "print(\"NUMBER OF EVENTS(DATA)\",dataf.iloc[105][\"NO_OF_EVENTS\"])"
      ],
      "execution_count": null,
      "outputs": [
        {
          "output_type": "stream",
          "text": [
            "NUMBER OF EVENTS(PREDICTED) 14.40038299382052\n",
            "NUMBER OF EVENTS(DATA) 9\n"
          ],
          "name": "stdout"
        }
      ]
    },
    {
      "cell_type": "code",
      "metadata": {
        "id": "_AS9MshjU1Rb"
      },
      "source": [
        "dataf[\"b\"] = b_VAL"
      ],
      "execution_count": null,
      "outputs": []
    },
    {
      "cell_type": "markdown",
      "metadata": {
        "id": "O3eaNF_O5ETV"
      },
      "source": [
        "ETA VALUE"
      ]
    },
    {
      "cell_type": "code",
      "metadata": {
        "id": "azK9gJ8E4_hW"
      },
      "source": [
        "predicted = a_VAL-b_VAL*np.array(dataf[\"MAG\"])\n",
        "real = np.log10(np.array(dataf[\"NO_OF_EVENTS\"])) \n",
        "dataf[\"ETA\"] = 0\n",
        "eta = (real-predicted)**2/N-1\n",
        "dataf[\"ETA\"] = eta"
      ],
      "execution_count": null,
      "outputs": []
    },
    {
      "cell_type": "markdown",
      "metadata": {
        "id": "PYBhWMQk6HmO"
      },
      "source": [
        "MAGNITUDE DEFICIT"
      ]
    },
    {
      "cell_type": "code",
      "metadata": {
        "id": "LzrvH0XZ6SCG",
        "outputId": "7d8bb51d-6698-4b7d-bcc4-02d6a9a8055f",
        "colab": {
          "base_uri": "https://localhost:8080/",
          "height": 34
        }
      },
      "source": [
        "a_VAL/b_VAL"
      ],
      "execution_count": null,
      "outputs": [
        {
          "output_type": "execute_result",
          "data": {
            "text/plain": [
              "4.543166427122758"
            ]
          },
          "metadata": {
            "tags": []
          },
          "execution_count": 25
        }
      ]
    },
    {
      "cell_type": "code",
      "metadata": {
        "id": "JvUrVcfg6Fqi"
      },
      "source": [
        "dataf[\"MAG_DEF\"]=0\n",
        "M_exp = a_VAL/b_VAL\n",
        "for i in range(N,len(dataf)):\n",
        "    dataf.loc[i,\"MAG_DEF\"] = np.max(np.array(dataf.iloc[i-N:i][\"MAG\"]))\n",
        "dataf[\"MAG_DEF\"] = np.array(dataf[\"MAG_DEF\"]) - M_exp"
      ],
      "execution_count": null,
      "outputs": []
    },
    {
      "cell_type": "markdown",
      "metadata": {
        "id": "ClVdgD9FTKes"
      },
      "source": [
        "MU and C value"
      ]
    },
    {
      "cell_type": "code",
      "metadata": {
        "id": "6JCwiSFNdXdB"
      },
      "source": [
        "def calc_mu(dataf,i,char_mag=3.5,N=50):\n",
        "    count=0\n",
        "    char_times=[]\n",
        "    if i-N<0:\n",
        "        K=0\n",
        "    else:\n",
        "        K=i-N\n",
        "    for j in range(K,i):\n",
        "        if(dataf.iloc[j][\"MAG\"]>=char_mag):\n",
        "            count+=1\n",
        "            if count>1:\n",
        "                #print(dataf.iloc[j][\"DATE\"]-last_time)\n",
        "                temp = dataf.iloc[j][\"DATE\"]-last_time\n",
        "                temp = int(str(temp).split()[0])\n",
        "                char_times.append(temp)\n",
        "            last_time = dataf.iloc[j][\"DATE\"]\n",
        "    if count==0:\n",
        "        count=1\n",
        "    mu = sum(np.array(char_times))/count\n",
        "    if mu==0:\n",
        "        mu=-100\n",
        "    c = np.std(np.array(char_times))/mu\n",
        "    if math.isnan(c):\n",
        "        c=-100\n",
        "    return mu,c"
      ],
      "execution_count": null,
      "outputs": []
    },
    {
      "cell_type": "code",
      "metadata": {
        "id": "r1fpQ2-xcZOf"
      },
      "source": [
        "dataf[\"MU\"] = 0\n",
        "dataf[\"c\"] = 0\n",
        "for i in range(N,len(dataf)):\n",
        "    dataf.loc[i,\"MU\"],dataf.loc[i,\"c\"] = calc_mu(dataf,i)"
      ],
      "execution_count": null,
      "outputs": []
    },
    {
      "cell_type": "markdown",
      "metadata": {
        "id": "f-XiJ5dm982P"
      },
      "source": [
        "REMOVE ILLEGAL ROWS"
      ]
    },
    {
      "cell_type": "code",
      "metadata": {
        "id": "ZaQRaV9YIAM3",
        "outputId": "de4f94ac-d6e4-4592-f930-678f433e827a",
        "colab": {
          "base_uri": "https://localhost:8080/",
          "height": 34
        }
      },
      "source": [
        "count=0\n",
        "rem_rows=[]\n",
        "for i in range(len(dataf)):\n",
        "    if dataf.iloc[i][\"MU\"]==-100:\n",
        "        rem_rows.append(i)\n",
        "        count+=1\n",
        "    if dataf.iloc[i][\"c\"]==-100:\n",
        "        rem_rows.append(i)\n",
        "        count+=1\n",
        "        \n",
        "dataf = dataf.drop(rem_rows,axis=0)\n",
        "print(count)"
      ],
      "execution_count": null,
      "outputs": [
        {
          "output_type": "stream",
          "text": [
            "2\n"
          ],
          "name": "stdout"
        }
      ]
    },
    {
      "cell_type": "code",
      "metadata": {
        "id": "ES1M7u69hhvV"
      },
      "source": [
        "k=30\n",
        "req_mag=4.3\n",
        "dataf[\"OUTPUT\"] = 0\n",
        "for i in range(len(dataf)-k):\n",
        "    for j in range(i,i+k):\n",
        "        if dataf.iloc[j][\"MAG\"]>=req_mag:\n",
        "            dataf.loc[i,\"OUTPUT\"] = 1"
      ],
      "execution_count": null,
      "outputs": []
    },
    {
      "cell_type": "code",
      "metadata": {
        "id": "J4HtJVKsTU1X"
      },
      "source": [
        "final_dataf = pd.DataFrame(dataf.loc[N:,(\"TVAL\",\"MEAN_MAG\",\"ENERGY\",\"b\",\"ETA\",\"MAG_DEF\",\"MU\",\"c\")])"
      ],
      "execution_count": null,
      "outputs": []
    },
    {
      "cell_type": "code",
      "metadata": {
        "id": "FBXB6jN1609C"
      },
      "source": [
        "def func(x):\n",
        "    return (x-x.min())/(x.max()-x.min())        "
      ],
      "execution_count": null,
      "outputs": []
    },
    {
      "cell_type": "code",
      "metadata": {
        "id": "j-KvGGEH6-MD"
      },
      "source": [
        "final_dataf = final_dataf.aggregate(func,0)\n",
        "final_dataf[\"b\"] = b_VAL"
      ],
      "execution_count": null,
      "outputs": []
    },
    {
      "cell_type": "code",
      "metadata": {
        "id": "F-4UQiPEK-up",
        "outputId": "d4664297-8ef6-44c0-c4a2-399ac019d419",
        "colab": {
          "base_uri": "https://localhost:8080/",
          "height": 402
        }
      },
      "source": [
        "final_dataf"
      ],
      "execution_count": null,
      "outputs": [
        {
          "output_type": "execute_result",
          "data": {
            "text/html": [
              "<div>\n",
              "<style scoped>\n",
              "    .dataframe tbody tr th:only-of-type {\n",
              "        vertical-align: middle;\n",
              "    }\n",
              "\n",
              "    .dataframe tbody tr th {\n",
              "        vertical-align: top;\n",
              "    }\n",
              "\n",
              "    .dataframe thead th {\n",
              "        text-align: right;\n",
              "    }\n",
              "</style>\n",
              "<table border=\"1\" class=\"dataframe\">\n",
              "  <thead>\n",
              "    <tr style=\"text-align: right;\">\n",
              "      <th></th>\n",
              "      <th>TVAL</th>\n",
              "      <th>MEAN_MAG</th>\n",
              "      <th>ENERGY</th>\n",
              "      <th>b</th>\n",
              "      <th>ETA</th>\n",
              "      <th>MAG_DEF</th>\n",
              "      <th>MU</th>\n",
              "      <th>c</th>\n",
              "    </tr>\n",
              "  </thead>\n",
              "  <tbody>\n",
              "    <tr>\n",
              "      <th>50</th>\n",
              "      <td>1</td>\n",
              "      <td>0.863799</td>\n",
              "      <td>0.000000</td>\n",
              "      <td>1.11044</td>\n",
              "      <td>2.817449e-01</td>\n",
              "      <td>0.571429</td>\n",
              "      <td>1.000000</td>\n",
              "      <td>0.360621</td>\n",
              "    </tr>\n",
              "    <tr>\n",
              "      <th>51</th>\n",
              "      <td>0.805451</td>\n",
              "      <td>0.870968</td>\n",
              "      <td>0.000030</td>\n",
              "      <td>1.11044</td>\n",
              "      <td>3.051178e-01</td>\n",
              "      <td>0.571429</td>\n",
              "      <td>0.796922</td>\n",
              "      <td>0.416747</td>\n",
              "    </tr>\n",
              "    <tr>\n",
              "      <th>52</th>\n",
              "      <td>0.795928</td>\n",
              "      <td>0.888889</td>\n",
              "      <td>0.000034</td>\n",
              "      <td>1.11044</td>\n",
              "      <td>3.744529e-01</td>\n",
              "      <td>0.571429</td>\n",
              "      <td>0.774890</td>\n",
              "      <td>0.423402</td>\n",
              "    </tr>\n",
              "    <tr>\n",
              "      <th>53</th>\n",
              "      <td>0.788705</td>\n",
              "      <td>0.888889</td>\n",
              "      <td>0.000035</td>\n",
              "      <td>1.11044</td>\n",
              "      <td>1.979879e-02</td>\n",
              "      <td>0.571429</td>\n",
              "      <td>0.767048</td>\n",
              "      <td>0.429292</td>\n",
              "    </tr>\n",
              "    <tr>\n",
              "      <th>54</th>\n",
              "      <td>0.582499</td>\n",
              "      <td>0.842294</td>\n",
              "      <td>0.000080</td>\n",
              "      <td>1.11044</td>\n",
              "      <td>1.979879e-02</td>\n",
              "      <td>0.571429</td>\n",
              "      <td>0.584417</td>\n",
              "      <td>0.505512</td>\n",
              "    </tr>\n",
              "    <tr>\n",
              "      <th>...</th>\n",
              "      <td>...</td>\n",
              "      <td>...</td>\n",
              "      <td>...</td>\n",
              "      <td>...</td>\n",
              "      <td>...</td>\n",
              "      <td>...</td>\n",
              "      <td>...</td>\n",
              "      <td>...</td>\n",
              "    </tr>\n",
              "    <tr>\n",
              "      <th>1558</th>\n",
              "      <td>0.016746</td>\n",
              "      <td>0.415771</td>\n",
              "      <td>0.004293</td>\n",
              "      <td>1.11044</td>\n",
              "      <td>2.439407e-04</td>\n",
              "      <td>0.500000</td>\n",
              "      <td>0.029006</td>\n",
              "      <td>0.174341</td>\n",
              "    </tr>\n",
              "    <tr>\n",
              "      <th>1559</th>\n",
              "      <td>0.0162535</td>\n",
              "      <td>0.412186</td>\n",
              "      <td>0.004419</td>\n",
              "      <td>1.11044</td>\n",
              "      <td>2.502833e-07</td>\n",
              "      <td>0.500000</td>\n",
              "      <td>0.029006</td>\n",
              "      <td>0.174341</td>\n",
              "    </tr>\n",
              "    <tr>\n",
              "      <th>1560</th>\n",
              "      <td>0.0159251</td>\n",
              "      <td>0.394265</td>\n",
              "      <td>0.004455</td>\n",
              "      <td>1.11044</td>\n",
              "      <td>5.074340e-03</td>\n",
              "      <td>0.500000</td>\n",
              "      <td>0.029590</td>\n",
              "      <td>0.176852</td>\n",
              "    </tr>\n",
              "    <tr>\n",
              "      <th>1561</th>\n",
              "      <td>0.0159251</td>\n",
              "      <td>0.390681</td>\n",
              "      <td>0.004444</td>\n",
              "      <td>1.11044</td>\n",
              "      <td>2.502833e-07</td>\n",
              "      <td>0.500000</td>\n",
              "      <td>0.029590</td>\n",
              "      <td>0.176852</td>\n",
              "    </tr>\n",
              "    <tr>\n",
              "      <th>929</th>\n",
              "      <td>NaN</td>\n",
              "      <td>NaN</td>\n",
              "      <td>NaN</td>\n",
              "      <td>1.11044</td>\n",
              "      <td>NaN</td>\n",
              "      <td>NaN</td>\n",
              "      <td>NaN</td>\n",
              "      <td>NaN</td>\n",
              "    </tr>\n",
              "  </tbody>\n",
              "</table>\n",
              "<p>1511 rows × 8 columns</p>\n",
              "</div>"
            ],
            "text/plain": [
              "           TVAL  MEAN_MAG    ENERGY  ...   MAG_DEF        MU         c\n",
              "50            1  0.863799  0.000000  ...  0.571429  1.000000  0.360621\n",
              "51     0.805451  0.870968  0.000030  ...  0.571429  0.796922  0.416747\n",
              "52     0.795928  0.888889  0.000034  ...  0.571429  0.774890  0.423402\n",
              "53     0.788705  0.888889  0.000035  ...  0.571429  0.767048  0.429292\n",
              "54     0.582499  0.842294  0.000080  ...  0.571429  0.584417  0.505512\n",
              "...         ...       ...       ...  ...       ...       ...       ...\n",
              "1558   0.016746  0.415771  0.004293  ...  0.500000  0.029006  0.174341\n",
              "1559  0.0162535  0.412186  0.004419  ...  0.500000  0.029006  0.174341\n",
              "1560  0.0159251  0.394265  0.004455  ...  0.500000  0.029590  0.176852\n",
              "1561  0.0159251  0.390681  0.004444  ...  0.500000  0.029590  0.176852\n",
              "929         NaN       NaN       NaN  ...       NaN       NaN       NaN\n",
              "\n",
              "[1511 rows x 8 columns]"
            ]
          },
          "metadata": {
            "tags": []
          },
          "execution_count": 35
        }
      ]
    },
    {
      "cell_type": "code",
      "metadata": {
        "id": "DyD1U9GfKvr2"
      },
      "source": [
        "final_dataf = final_dataf.drop(929,axis=0)\n",
        "dataf = dataf.drop(929,axis=0)"
      ],
      "execution_count": null,
      "outputs": []
    },
    {
      "cell_type": "code",
      "metadata": {
        "id": "y_tsjo8tiyxY",
        "outputId": "129ce6ce-33a9-4a04-f8ff-ca6fd8f9044d",
        "colab": {
          "base_uri": "https://localhost:8080/",
          "height": 265
        }
      },
      "source": [
        "plt.plot(dataf[\"OUTPUT\"])\n",
        "plt.show()"
      ],
      "execution_count": null,
      "outputs": [
        {
          "output_type": "display_data",
          "data": {
            "image/png": "[encoded data removed]",
            "text/plain": [
              "<Figure size 432x288 with 1 Axes>"
            ]
          },
          "metadata": {
            "tags": [],
            "needs_background": "light"
          }
        }
      ]
    },
    {
      "cell_type": "markdown",
      "metadata": {
        "id": "zZHXuHBGHIal"
      },
      "source": [
        "#DATA VISUALIZATION"
      ]
    },
    {
      "cell_type": "markdown",
      "metadata": {
        "id": "kUTXxOF6MUhL"
      },
      "source": [
        "GUTENBERG RICHTER LAW VISUALIZATION"
      ]
    },
    {
      "cell_type": "code",
      "metadata": {
        "id": "kinnVjPuIkpr",
        "outputId": "81be1dc3-b60f-4d17-bdc5-44d4576dda1f",
        "colab": {
          "base_uri": "https://localhost:8080/",
          "height": 279
        }
      },
      "source": [
        "plt.hist(dataf[\"MAG\"])\n",
        "plt.xlabel(\"MAGNITUDE\")\n",
        "plt.ylabel(\"FREQUENCY OF EVENTS\")\n",
        "plt.show()"
      ],
      "execution_count": null,
      "outputs": [
        {
          "output_type": "display_data",
          "data": {
            "image/png": "[encoded data removed]",
            "text/plain": [
              "<Figure size 432x288 with 1 Axes>"
            ]
          },
          "metadata": {
            "tags": [],
            "needs_background": "light"
          }
        }
      ]
    },
    {
      "cell_type": "markdown",
      "metadata": {
        "id": "6CjGWJkhccAv"
      },
      "source": [
        "T VALUES (SEISMICITY INDICATOR)"
      ]
    },
    {
      "cell_type": "code",
      "metadata": {
        "id": "e3WlK8ilWVUI",
        "outputId": "9555557a-b677-412d-8a57-d5c0f29b149c",
        "colab": {
          "base_uri": "https://localhost:8080/",
          "height": 279
        }
      },
      "source": [
        "plt.plot(dataf.loc[60:,(\"TVAL\")])\n",
        "plt.xlabel(\"EVENT NUMBER\")\n",
        "plt.ylabel(\"T VALUE\")\n",
        "plt.show()"
      ],
      "execution_count": null,
      "outputs": [
        {
          "output_type": "display_data",
          "data": {
            "image/png": "[encoded data removed]",
            "text/plain": [
              "<Figure size 432x288 with 1 Axes>"
            ]
          },
          "metadata": {
            "tags": [],
            "needs_background": "light"
          }
        }
      ]
    },
    {
      "cell_type": "markdown",
      "metadata": {
        "id": "O83SMcgScikm"
      },
      "source": [
        "MEAN MAGNITUDE (SEISMICITY INDICATOR)"
      ]
    },
    {
      "cell_type": "code",
      "metadata": {
        "id": "8KhN-feBWx1v",
        "outputId": "f71f3371-84d6-4657-9df8-d05f2eb56a1e",
        "colab": {
          "base_uri": "https://localhost:8080/",
          "height": 279
        }
      },
      "source": [
        "plt.plot(final_dataf[\"MEAN_MAG\"])\n",
        "plt.xlabel(\"EVENT NUMBER\")\n",
        "plt.ylabel(\"MEAN MAGNITUDE\")\n",
        "plt.show()"
      ],
      "execution_count": null,
      "outputs": [
        {
          "output_type": "display_data",
          "data": {
            "image/png": "[encoded data removed]",
            "text/plain": [
              "<Figure size 432x288 with 1 Axes>"
            ]
          },
          "metadata": {
            "tags": [],
            "needs_background": "light"
          }
        }
      ]
    },
    {
      "cell_type": "markdown",
      "metadata": {
        "id": "IAQ_pMECck8t"
      },
      "source": [
        "ENERGY ((SEISMICITY INDICATOR)"
      ]
    },
    {
      "cell_type": "code",
      "metadata": {
        "id": "Ed5OCKqeXDvQ",
        "outputId": "bbd24d01-06df-471f-e0f6-a34dbe77a1f9",
        "colab": {
          "base_uri": "https://localhost:8080/",
          "height": 279
        }
      },
      "source": [
        "plt.plot(final_dataf[\"ENERGY\"])\n",
        "plt.xlabel(\"EVENT NUMBER\")\n",
        "plt.ylabel(\"ENERGY\")\n",
        "plt.show()"
      ],
      "execution_count": null,
      "outputs": [
        {
          "output_type": "display_data",
          "data": {
            "image/png": "[encoded data removed]",
            "text/plain": [
              "<Figure size 432x288 with 1 Axes>"
            ]
          },
          "metadata": {
            "tags": [],
            "needs_background": "light"
          }
        }
      ]
    },
    {
      "cell_type": "markdown",
      "metadata": {
        "id": "bSYtQ6fOco7-"
      },
      "source": [
        "ETA VALUE (SEISMICITY INDICATOR)"
      ]
    },
    {
      "cell_type": "code",
      "metadata": {
        "id": "Hk5JanS1XO3S",
        "outputId": "ac02840f-972b-4058-9bd5-03cfef3d0c27",
        "colab": {
          "base_uri": "https://localhost:8080/",
          "height": 279
        }
      },
      "source": [
        "plt.plot(np.array(final_dataf[\"ETA\"])*-1)\n",
        "plt.xlabel(\"EVENT NUMBER\")\n",
        "plt.ylabel(\"DEVIATION (ETA VALUE)\")\n",
        "plt.show()"
      ],
      "execution_count": null,
      "outputs": [
        {
          "output_type": "display_data",
          "data": {
            "image/png": "[encoded data removed]",
            "text/plain": [
              "<Figure size 432x288 with 1 Axes>"
            ]
          },
          "metadata": {
            "tags": [],
            "needs_background": "light"
          }
        }
      ]
    },
    {
      "cell_type": "markdown",
      "metadata": {
        "id": "Ou7SbcsGcsPn"
      },
      "source": [
        "MAGNITUDE DEFICIT (SEISMICITY INDICATOR)"
      ]
    },
    {
      "cell_type": "code",
      "metadata": {
        "id": "HHhCBfptXqhq",
        "outputId": "e7d893f2-8202-461c-bb8b-7acb5b914de5",
        "colab": {
          "base_uri": "https://localhost:8080/",
          "height": 279
        }
      },
      "source": [
        "plt.plot(final_dataf[\"MAG_DEF\"])\n",
        "plt.xlabel(\"EVENT NUMBER\")\n",
        "plt.ylabel(\"MAGNITUDE DEFICIT\")\n",
        "plt.show()"
      ],
      "execution_count": null,
      "outputs": [
        {
          "output_type": "display_data",
          "data": {
            "image/png": "[encoded data removed]",
            "text/plain": [
              "<Figure size 432x288 with 1 Axes>"
            ]
          },
          "metadata": {
            "tags": [],
            "needs_background": "light"
          }
        }
      ]
    },
    {
      "cell_type": "markdown",
      "metadata": {
        "id": "uSBTOEJ2fnfk"
      },
      "source": [
        "#MODEL"
      ]
    },
    {
      "cell_type": "code",
      "metadata": {
        "id": "v4sI0NvJjaHw"
      },
      "source": [
        "arr_in = np.zeros((len(final_dataf),8))\n",
        "arr_out = np.zeros((len(final_dataf),1)) \n",
        "for i in range(len(final_dataf)):\n",
        "    arr_in[i] = np.array(final_dataf.iloc[i])\n",
        "    arr_out[i] = dataf.iloc[i+N][\"OUTPUT\"]"
      ],
      "execution_count": null,
      "outputs": []
    },
    {
      "cell_type": "code",
      "metadata": {
        "id": "ujQI6dE8pQbS"
      },
      "source": [
        "X_train,X_val,Y_train,Y_val = train_test_split(arr_in,arr_out,random_state=0)"
      ],
      "execution_count": null,
      "outputs": []
    },
    {
      "cell_type": "code",
      "metadata": {
        "id": "3DHPVBL4xo3N"
      },
      "source": [
        "X_train,X_val,Y_train,Y_val = map(torch.Tensor,(X_train,X_val,Y_train,Y_val))"
      ],
      "execution_count": null,
      "outputs": []
    },
    {
      "cell_type": "code",
      "metadata": {
        "id": "TW0lfvd8lJcp"
      },
      "source": [
        "class earthquake_model(nn.Module):\n",
        "    def __init__(self):\n",
        "        super().__init__()\n",
        "        self.net = nn.Sequential(\n",
        "            nn.Linear(8,24),\n",
        "            nn.ReLU(),\n",
        "            nn.Linear(24,24),\n",
        "            nn.ReLU(),\n",
        "            nn.Linear(24,12),\n",
        "            nn.ReLU(),\n",
        "            nn.Linear(12,1),\n",
        "            nn.Sigmoid()\n",
        "        )\n",
        "    def forward(self,x):\n",
        "        return self.net(x)"
      ],
      "execution_count": null,
      "outputs": []
    },
    {
      "cell_type": "code",
      "metadata": {
        "id": "HLoicqOIl1Wa"
      },
      "source": [
        "def fit_optim2(net,epochs=1000,lr=0.1,mini_batch=64,display=True,device=\"cpu\"):\n",
        "    loss_arr=[]\n",
        "    accuracy_arr=[]\n",
        "    torch.autograd.set_detect_anomaly(True)\n",
        "    min_loss=10000\n",
        "    opt.zero_grad()\n",
        "    for i in range(epochs):\n",
        "        j=0\n",
        "        while j<len(X_train):\n",
        "            y_hat = net(X_train[j:j+mini_batch,:])\n",
        "            loss = loss_fn(y_hat.squeeze(),Y_train.squeeze()[j:j+mini_batch])    \n",
        "            if loss<min_loss:\n",
        "                min_loss=loss\n",
        "                best_model=net\n",
        "            loss.backward()\n",
        "            j+=mini_batch\n",
        "            opt.step()\n",
        "\n",
        "        loss_arr.append(loss.item())\n",
        "\n",
        "        if display and (i%5==0):\n",
        "            clear_output(wait=True)\n",
        "            print('Iteration',i,'Loss',loss_arr[-1])\n",
        "            plt.figure()\n",
        "            plt.plot(loss_arr[0:i],'-*')\n",
        "            plt.xlabel('Iteration')\n",
        "            plt.ylabel('Loss')\n",
        "            plt.show()\n",
        "            print('\\n\\n')\n",
        "        \n",
        "        \n",
        "\n",
        "    print('The loss before training is' + str(loss_arr[0]))\n",
        "    print('The loss after training is' + str(loss_arr[-1]))\n",
        "    return loss_arr,best_model"
      ],
      "execution_count": null,
      "outputs": []
    },
    {
      "cell_type": "code",
      "metadata": {
        "id": "YbukjZfc7IYX",
        "outputId": "77bcaded-64ce-461c-87fa-1266fa06324d",
        "colab": {
          "base_uri": "https://localhost:8080/",
          "height": 34
        }
      },
      "source": [
        "print(1)"
      ],
      "execution_count": null,
      "outputs": [
        {
          "output_type": "stream",
          "text": [
            "1\n"
          ],
          "name": "stdout"
        }
      ]
    },
    {
      "cell_type": "code",
      "metadata": {
        "id": "nIzKqPS54RqN"
      },
      "source": [
        "model = earthquake_model()\n",
        "opt = optim.Adam(model.parameters(),lr=0.0001)\n",
        "loss_fn = nn.BCELoss()"
      ],
      "execution_count": null,
      "outputs": []
    },
    {
      "cell_type": "code",
      "metadata": {
        "id": "EvNbkZGw5DVX",
        "outputId": "3309fcc0-7b7d-410e-d20b-bd65b8886909",
        "colab": {
          "base_uri": "https://localhost:8080/",
          "height": 380
        }
      },
      "source": [
        "l,bm = fit_optim2(model,2000)"
      ],
      "execution_count": null,
      "outputs": [
        {
          "output_type": "stream",
          "text": [
            "Iteration 1995 Loss 0.22672905027866364\n"
          ],
          "name": "stdout"
        },
        {
          "output_type": "display_data",
          "data": {
            "image/png": "[encoded data removed]",
            "text/plain": [
              "<Figure size 432x288 with 1 Axes>"
            ]
          },
          "metadata": {
            "tags": [],
            "needs_background": "light"
          }
        },
        {
          "output_type": "stream",
          "text": [
            "\n",
            "\n",
            "\n",
            "The loss before training is0.6839534044265747\n",
            "The loss after training is0.19851984083652496\n"
          ],
          "name": "stdout"
        }
      ]
    },
    {
      "cell_type": "code",
      "metadata": {
        "id": "FvuUKt61ByVg",
        "outputId": "f965b1bf-5984-47ed-8a31-188363c036fa",
        "colab": {
          "base_uri": "https://localhost:8080/",
          "height": 34
        }
      },
      "source": [
        "temp = bm(X_val)\n",
        "for i in range(len(temp)):\n",
        "    if temp[i]>0.5:\n",
        "        temp[i]=1\n",
        "    else:\n",
        "        temp[i]=0\n",
        "print(\"The accuracy after 2000 epochs is \",accuracy_score(temp.detach(),Y_val))"
      ],
      "execution_count": null,
      "outputs": [
        {
          "output_type": "stream",
          "text": [
            "The accuracy after 2000 epochs is  0.9047619047619048\n"
          ],
          "name": "stdout"
        }
      ]
    },
    {
      "cell_type": "code",
      "metadata": {
        "id": "TmUEhz2bIkl3"
      },
      "source": [
        "torch.save(bm2,'Earthquake_Model_4(90.4%)')"
      ],
      "execution_count": null,
      "outputs": []
    },
    {
      "cell_type": "code",
      "metadata": {
        "id": "Bj9nT26I5WGG"
      },
      "source": [
        "saved_model = torch.load(\"Earthquake_Model_4(90.4%)\")"
      ],
      "execution_count": null,
      "outputs": []
    },
    {
      "cell_type": "code",
      "metadata": {
        "id": "zDvFGjDG5ec8",
        "outputId": "698b98f6-6e26-4048-dfe9-f8affcfb1938",
        "colab": {
          "base_uri": "https://localhost:8080/",
          "height": 34
        }
      },
      "source": [
        "temp = saved_model(X_val)\n",
        "for i in range(len(temp)):\n",
        "    if temp[i]>0.5:\n",
        "        temp[i]=1\n",
        "    else:\n",
        "        temp[i]=0\n",
        "print(\"The accuracy after 2000 epochs is \",accuracy_score(temp.detach(),Y_val)*100)"
      ],
      "execution_count": null,
      "outputs": [
        {
          "output_type": "stream",
          "text": [
            "The accuracy after 2000 epochs is  90.47619047619048\n"
          ],
          "name": "stdout"
        }
      ]
    },
    {
      "cell_type": "code",
      "metadata": {
        "id": "MNCzG1uJHzKP"
      },
      "source": [
        "opt = optim.Adam(model.parameters(),lr=0.0000001)"
      ],
      "execution_count": null,
      "outputs": []
    },
    {
      "cell_type": "code",
      "metadata": {
        "id": "Ki6EulmgH9ip",
        "outputId": "36acc0b5-032d-4cdf-ccff-5cf7a0a0ce49",
        "colab": {
          "base_uri": "https://localhost:8080/",
          "height": 380
        }
      },
      "source": [
        "l2,bm2 = fit_optim2(model,4000)"
      ],
      "execution_count": null,
      "outputs": [
        {
          "output_type": "stream",
          "text": [
            "Iteration 3995 Loss 0.1457221359014511\n"
          ],
          "name": "stdout"
        },
        {
          "output_type": "display_data",
          "data": {
            "image/png": "[encoded data removed]",
            "text/plain": [
              "<Figure size 432x288 with 1 Axes>"
            ]
          },
          "metadata": {
            "tags": [],
            "needs_background": "light"
          }
        },
        {
          "output_type": "stream",
          "text": [
            "\n",
            "\n",
            "\n",
            "The loss before training is0.14590245485305786\n",
            "The loss after training is0.1457282155752182\n"
          ],
          "name": "stdout"
        }
      ]
    },
    {
      "cell_type": "code",
      "metadata": {
        "id": "ZaVfPap4I3vG",
        "outputId": "30b0b92b-07ed-40b7-fc8b-5c70ad0dde1d",
        "colab": {
          "base_uri": "https://localhost:8080/",
          "height": 34
        }
      },
      "source": [
        "temp2 = bm2(X_val)\n",
        "for i in range(len(temp2)):\n",
        "    if temp2[i]>0.5:\n",
        "        temp2[i]=1\n",
        "    else:\n",
        "        temp2[i]=0\n",
        "accuracy_score(temp2.detach(),Y_val)"
      ],
      "execution_count": null,
      "outputs": [
        {
          "output_type": "execute_result",
          "data": {
            "text/plain": [
              "0.9047619047619048"
            ]
          },
          "metadata": {
            "tags": []
          },
          "execution_count": 180
        }
      ]
    }
  ]
}