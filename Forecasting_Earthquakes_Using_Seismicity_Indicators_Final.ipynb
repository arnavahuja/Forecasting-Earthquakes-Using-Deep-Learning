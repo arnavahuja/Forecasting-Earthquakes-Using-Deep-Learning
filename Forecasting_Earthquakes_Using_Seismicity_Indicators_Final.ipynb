{
  "nbformat": 4,
  "nbformat_minor": 0,
  "metadata": {
    "accelerator": "GPU",
    "colab": {
      "name": "Forecasting Earthquakes Using Seismicity Indicators.ipynb",
      "provenance": [],
      "collapsed_sections": [
        "Oqjtscwb8iBU",
        "tgvXW12qSXpT",
        "pLkksMBeYjL2",
        "zZHXuHBGHIal",
        "uSBTOEJ2fnfk",
        "MBuO2i9XE7op",
        "d7wSYo9Jo6_A",
        "g1l2eZPjnfKZ",
        "lt8hhJUu8H6G",
        "BcC5UD1E8Vqc",
        "FzbErs-_pThp",
        "kYYGmg2NpXap",
        "tZTvxTN04OKx",
        "9K4tzmq-pa0c",
        "6249EFMA48vB",
        "0b2_prbWSNc9",
        "ecwr6AFU5Voq",
        "57XmxMuvhMfM"
      ],
      "toc_visible": true,
      "authorship_tag": "ABX9TyNSujcmcHkFAjo9WunT+Wzq"
    },
    "kernelspec": {
      "display_name": "Python 3",
      "name": "python3"
    }
  },
  "cells": [
    {
      "cell_type": "markdown",
      "metadata": {
        "id": "swHeNZimITNG"
      },
      "source": [
        "#BASIC IMPORTS"
      ]
    },
    {
      "cell_type": "code",
      "metadata": {
        "id": "AYz6n2Qhun5J"
      },
      "source": [
        "import pandas as pd\n",
        "import matplotlib.pyplot as plt\n",
        "import numpy as np\n",
        "import math\n",
        "from sklearn.metrics import accuracy_score, confusion_matrix, f1_score\n",
        "import pickle\n",
        "from IPython.display import clear_output\n",
        "import torch.nn as nn\n",
        "import torch\n",
        "from sklearn.model_selection import train_test_split\n",
        "from torch import optim\n",
        "from sklearn.preprocessing import MinMaxScaler"
      ],
      "execution_count": 7,
      "outputs": []
    },
    {
      "cell_type": "code",
      "metadata": {
        "id": "ogUbre7QfhS7"
      },
      "source": [
        "device_gpu = torch.device('cuda:0' if torch.cuda.is_available() else 'cpu')"
      ],
      "execution_count": 8,
      "outputs": []
    },
    {
      "cell_type": "code",
      "metadata": {
        "id": "82IJimCHn-lK"
      },
      "source": [
        "N = 50\n",
        "threshold_min_mag = 3"
      ],
      "execution_count": 9,
      "outputs": []
    },
    {
      "cell_type": "markdown",
      "metadata": {
        "id": "Oqjtscwb8iBU"
      },
      "source": [
        "#PREPROCESSING FUNCTIONS"
      ]
    },
    {
      "cell_type": "code",
      "metadata": {
        "id": "-oLjG-wcoB8i"
      },
      "source": [
        "def check_nan(dataf,col_name):\n",
        "    return np.unique(np.isnan(np.array(dataf[col_name])),return_counts=True)"
      ],
      "execution_count": 10,
      "outputs": []
    },
    {
      "cell_type": "code",
      "metadata": {
        "id": "Cfj7nDNbjBYD"
      },
      "source": [
        "def check_all_nan(dataf):\n",
        "    d={}\n",
        "    for col in dataf.columns:\n",
        "        if col==\"DATE\" or col==\"TIME\" or col==\"DATETIME\":\n",
        "            continue\n",
        "        temp = check_nan(dataf,col)\n",
        "        if len(temp[0])>1:\n",
        "            d[col] = temp[1][1]\n",
        "    if bool(d):\n",
        "        print(\"nan found in the following columns\")\n",
        "        print(d)\n",
        "    else:\n",
        "        print(\"nan not found\")"
      ],
      "execution_count": 11,
      "outputs": []
    },
    {
      "cell_type": "code",
      "metadata": {
        "id": "pny7WQh9ErOd"
      },
      "source": [
        "def get_root_energy(mag):\n",
        "    energy = 11.8+(1.5*mag)\n",
        "    energy = 10**energy\n",
        "    return energy**0.5"
      ],
      "execution_count": 12,
      "outputs": []
    },
    {
      "cell_type": "code",
      "metadata": {
        "id": "AYr5cbxXErO6"
      },
      "source": [
        "def no_of_events(dataf,mag,i,N=50):\n",
        "    count=0\n",
        "    if i-N<0:\n",
        "        K=0\n",
        "    else:\n",
        "        K=i-N\n",
        "    for j in range(K,i):\n",
        "        if(dataf.iloc[j][\"MAG\"]>=mag):\n",
        "            count+=1\n",
        "    if count==0:\n",
        "        count=1\n",
        "    return count"
      ],
      "execution_count": 13,
      "outputs": []
    },
    {
      "cell_type": "code",
      "metadata": {
        "id": "I-N0BPMoErP5"
      },
      "source": [
        "def calc_mu(dataf,i,char_mag=3.5,N=50):\n",
        "    count=0\n",
        "    char_times=[]\n",
        "    if i-N<0:\n",
        "        K=0\n",
        "    else:\n",
        "        K=i-N\n",
        "    for j in range(K,i):\n",
        "        if(dataf.iloc[j][\"MAG\"]>=char_mag):\n",
        "            count+=1\n",
        "            if count>1:\n",
        "                #print(dataf.iloc[j][\"DATE\"]-last_time)\n",
        "                temp = dataf.iloc[j][\"DATE\"]-last_time\n",
        "                temp = int(str(temp).split()[0])\n",
        "                char_times.append(temp)\n",
        "            last_time = dataf.iloc[j][\"DATE\"]\n",
        "    if count==0:\n",
        "        count=1\n",
        "    mu = sum(np.array(char_times))/count\n",
        "    if mu==0:\n",
        "        mu=-100                 #check and change\n",
        "    c = np.std(np.array(char_times))/mu\n",
        "    if math.isnan(c):\n",
        "        c=-100\n",
        "    return mu,c"
      ],
      "execution_count": 14,
      "outputs": []
    },
    {
      "cell_type": "code",
      "metadata": {
        "id": "JLypo9-BE3U5"
      },
      "source": [
        "def process_data(dataf,N=N):\n",
        "    \n",
        "    convert_dict = {\"DATE\":str,\"TIME\":str}\n",
        "    dataf = dataf.astype(convert_dict)\n",
        "    dataf['DATETIME'] = dataf[\"DATE\"] + \" \" + dataf[\"TIME\"]\n",
        "    dataf['DATETIME'] = pd.to_datetime(dataf[\"DATETIME\"], format='%Y/%m/%d %H:%M:%S')\n",
        "    dataf[\"DATE\"] = pd.to_datetime(dataf[\"DATE\"])\n",
        "    \n",
        "    min_mag = np.min(np.array(dataf[\"MAG\"]))\n",
        "    mean_mag = np.mean(np.array(dataf[\"MAG\"]))\n",
        "    b_VAL = np.log10(np.exp(1))/(mean_mag-min_mag)\n",
        "    \n",
        "    dataf[\"TVAL\"] = 0\n",
        "    dataf[\"MEAN_MAG\"] = 0\n",
        "    dataf[\"ENERGY\"] = 0\n",
        "    dataf[\"b\"] = b_VAL\n",
        "    dataf[\"MAG_DEF\"]=0\n",
        "    dataf[\"ETA\"] = 0\n",
        "    dataf[\"MU\"] = 0\n",
        "    dataf[\"c\"] = 0\n",
        "\n",
        "    dataf[\"NO_OF_EVENTS\"] = 1\n",
        "\n",
        "    for i in range(N,len(dataf)):\n",
        "        tval = (dataf.iloc[i][\"DATETIME\"]-dataf.iloc[i-N][\"DATETIME\"]).days + (dataf.iloc[i][\"DATETIME\"]-dataf.iloc[i-N][\"DATETIME\"]).seconds/(60*60*24)\n",
        "        dataf.loc[i,(\"TVAL\")] = tval\n",
        "        dataf.loc[i,(\"MEAN_MAG\")] = sum(dataf.iloc[i-N:i][\"MAG\"])/N\n",
        "        dataf.loc[i,(\"ENERGY\")] = sum(get_root_energy(dataf.iloc[i-N:i][\"MAG\"]))/dataf.iloc[i][\"TVAL\"]\n",
        "\n",
        "        \n",
        "        dataf.loc[i,\"NO_OF_EVENTS\"] = no_of_events(dataf,dataf.iloc[i][\"MAG\"],i)\n",
        "        dataf.loc[i,\"MAG_DEF\"] = np.max(np.array(dataf.iloc[i-N:i][\"MAG\"]))\n",
        "        dataf.loc[i,\"MU\"],dataf.loc[i,\"c\"] = calc_mu(dataf,i)\n",
        "\n",
        "    a_VAL = sum(np.log10(np.array(dataf[\"NO_OF_EVENTS\"])) + b_VAL*(np.array(dataf[\"MAG\"])))/len(dataf)\n",
        "    M_exp = a_VAL/b_VAL\n",
        "\n",
        "    dataf[\"MAG_DEF\"] = np.array(dataf[\"MAG_DEF\"]) - M_exp\n",
        "\n",
        "    predicted = a_VAL-b_VAL*np.array(dataf[\"MAG\"])\n",
        "    real = np.log10(np.array(dataf[\"NO_OF_EVENTS\"])) \n",
        "    eta = (real-predicted)**2/N-1\n",
        "    dataf[\"ETA\"] = eta\n",
        "\n",
        "    return dataf"
      ],
      "execution_count": 15,
      "outputs": []
    },
    {
      "cell_type": "code",
      "metadata": {
        "id": "FBXB6jN1609C"
      },
      "source": [
        "def func(x):\n",
        "    return (x-x.min())/(x.max()-x.min())        "
      ],
      "execution_count": 16,
      "outputs": []
    },
    {
      "cell_type": "code",
      "metadata": {
        "id": "QzPcMXMFWhg6"
      },
      "source": [
        "def scale_data(dataf):\n",
        "    output_dataf = dataf.aggregate(func,0)\n",
        "    output_dataf[\"b\"] = dataf.iloc[0][\"b\"]\n",
        "    return output_dataf"
      ],
      "execution_count": 17,
      "outputs": []
    },
    {
      "cell_type": "code",
      "metadata": {
        "id": "dKjja0lnZwij"
      },
      "source": [
        "def get_output(dataf,req_mag,future_days=30):\n",
        "    temp_dataf = dataf.copy(deep=True)\n",
        "    temp_dataf[\"OUTPUT\"] = 0\n",
        "    for i in range(len(temp_dataf)-future_days):\n",
        "        for j in range(i,i+future_days):\n",
        "            if temp_dataf.iloc[j][\"MAG\"]>=req_mag:\n",
        "                temp_dataf.loc[i,\"OUTPUT\"] = 1\n",
        "                break\n",
        "    return temp_dataf[\"OUTPUT\"]"
      ],
      "execution_count": 18,
      "outputs": []
    },
    {
      "cell_type": "code",
      "metadata": {
        "id": "iH_m9gYfcoBG"
      },
      "source": [
        "def remove_illegal_rows(dataf):\n",
        "    count=0\n",
        "    rem_rows=[]\n",
        "    for i in range(len(dataf)):\n",
        "        if dataf.iloc[i][\"MU\"]==-100:\n",
        "            rem_rows.append(i)\n",
        "            count+=1\n",
        "        if dataf.iloc[i][\"c\"]==-100:\n",
        "            rem_rows.append(i)\n",
        "            count+=1\n",
        "            \n",
        "    dataf = dataf.drop(rem_rows,axis=0)\n",
        "    print(count)\n",
        "    print(rem_rows)\n",
        "    return dataf"
      ],
      "execution_count": 19,
      "outputs": []
    },
    {
      "cell_type": "markdown",
      "metadata": {
        "id": "sD2qLhtvr_eg"
      },
      "source": [
        "#TRAINING FUNCTIONS"
      ]
    },
    {
      "cell_type": "code",
      "metadata": {
        "id": "HLoicqOIl1Wa"
      },
      "source": [
        "def fit_optim(net,X_train,Y_train,epochs=1000,lr=0.0001,mini_batch=64,wd=1e-5,loss_fn=nn.BCELoss(),display=True,device=\"cpu\"):\n",
        "    loss_arr=[]\n",
        "    accuracy_arr=[]\n",
        "    torch.autograd.set_detect_anomaly(True)\n",
        "    opt = optim.Adam(net.parameters(),lr=lr,weight_decay=wd)\n",
        "    min_loss=10000\n",
        "    opt.zero_grad()\n",
        "    for i in range(epochs):\n",
        "        j=0\n",
        "        while j<len(X_train):\n",
        "            y_hat = net(X_train[j:j+mini_batch,:])\n",
        "            loss = loss_fn(y_hat.squeeze(),Y_train.squeeze()[j:j+mini_batch])    \n",
        "            loss.backward()\n",
        "            opt.step()\n",
        "            if loss<min_loss:\n",
        "                min_loss=loss\n",
        "                print(\"The minimum loss is changed to\",min_loss)\n",
        "                best_model=net\n",
        "            j+=mini_batch\n",
        "            \n",
        "\n",
        "        loss_arr.append(loss.item())\n",
        "\n",
        "        if display and (i%5==0):\n",
        "            clear_output(wait=True)\n",
        "            print('Iteration',i,'Loss',loss_arr[-1])\n",
        "            plt.figure()\n",
        "            plt.plot(loss_arr[0:i],'-*')\n",
        "            plt.xlabel('Iteration')\n",
        "            plt.ylabel('Loss')\n",
        "            plt.show()\n",
        "            print('\\n\\n')\n",
        "        \n",
        "        \n",
        "\n",
        "    print('The loss before training is' + str(loss_arr[0]))\n",
        "    print('The loss after training is' + str(min_loss))\n",
        "    return loss_arr,best_model"
      ],
      "execution_count": 21,
      "outputs": []
    },
    {
      "cell_type": "markdown",
      "metadata": {
        "id": "C-m3xF_gtI_p"
      },
      "source": [
        "**ACCURACY METRICS**"
      ]
    },
    {
      "cell_type": "code",
      "metadata": {
        "id": "sGWfOUXatIQd"
      },
      "source": [
        "def calc_metric(net,X_val,Y_val):\n",
        "    net.eval()\n",
        "    temp = net(X_val)\n",
        "    for i in range(len(temp)):\n",
        "        if temp[i]>0.5:\n",
        "            temp[i]=1\n",
        "        else:\n",
        "            temp[i]=0\n",
        "    pred = temp.detach()\n",
        "    print(\"The accuracy is \",accuracy_score(Y_val,pred)*100)\n",
        "    print(\"The confusion matrix is\\n\",confusion_matrix(Y_val,pred))\n",
        "    print(\"The f1 score is\",f1_score(Y_val,pred))"
      ],
      "execution_count": 22,
      "outputs": []
    },
    {
      "cell_type": "code",
      "metadata": {
        "id": "WTSTt99GCdHs"
      },
      "source": [
        "def calc_metric2(net,X_val,Y_val):\n",
        "    net.eval()\n",
        "    temp = net(X_val)\n",
        "    for i in range(len(temp)):\n",
        "        if temp[i]>0.5:\n",
        "            temp[i]=1\n",
        "        else:\n",
        "            temp[i]=0\n",
        "    pred = temp.detach()\n",
        "    print(\"The f1 accuracy is\",f1_score(Y_val,pred))"
      ],
      "execution_count": 85,
      "outputs": []
    },
    {
      "cell_type": "markdown",
      "metadata": {
        "id": "pLkksMBeYjL2"
      },
      "source": [
        "#HIMALAYAN DATA"
      ]
    },
    {
      "cell_type": "code",
      "metadata": {
        "colab": {
          "base_uri": "https://localhost:8080/",
          "height": 195
        },
        "id": "ey0hmYlHvTnE",
        "outputId": "bca1654c-267e-40bd-bb61-b3f178c06cb8"
      },
      "source": [
        "dataf = pd.read_csv('Dataset Earthquake(3 greater).txt',error_bad_lines=False)\n",
        "dataf.head()"
      ],
      "execution_count": null,
      "outputs": [
        {
          "output_type": "execute_result",
          "data": {
            "text/html": [
              "<div>\n",
              "<style scoped>\n",
              "    .dataframe tbody tr th:only-of-type {\n",
              "        vertical-align: middle;\n",
              "    }\n",
              "\n",
              "    .dataframe tbody tr th {\n",
              "        vertical-align: top;\n",
              "    }\n",
              "\n",
              "    .dataframe thead th {\n",
              "        text-align: right;\n",
              "    }\n",
              "</style>\n",
              "<table border=\"1\" class=\"dataframe\">\n",
              "  <thead>\n",
              "    <tr style=\"text-align: right;\">\n",
              "      <th></th>\n",
              "      <th>EVENTID</th>\n",
              "      <th>AUTHOR</th>\n",
              "      <th>DATE</th>\n",
              "      <th>TIME</th>\n",
              "      <th>LAT</th>\n",
              "      <th>LON</th>\n",
              "      <th>DEPTH</th>\n",
              "      <th>DEPFIX</th>\n",
              "      <th>AUTHOR   .1</th>\n",
              "      <th>TYPE</th>\n",
              "      <th>MAG</th>\n",
              "    </tr>\n",
              "  </thead>\n",
              "  <tbody>\n",
              "    <tr>\n",
              "      <th>0</th>\n",
              "      <td>589363</td>\n",
              "      <td>NDI</td>\n",
              "      <td>1982-11-21</td>\n",
              "      <td>08:10:21</td>\n",
              "      <td>28.80</td>\n",
              "      <td>81.05</td>\n",
              "      <td></td>\n",
              "      <td></td>\n",
              "      <td>NDI</td>\n",
              "      <td>ML</td>\n",
              "      <td>3.6</td>\n",
              "    </tr>\n",
              "    <tr>\n",
              "      <th>1</th>\n",
              "      <td>500434</td>\n",
              "      <td>NDI</td>\n",
              "      <td>1986-03-13</td>\n",
              "      <td>20:58:43</td>\n",
              "      <td>28.60</td>\n",
              "      <td>80.60</td>\n",
              "      <td></td>\n",
              "      <td></td>\n",
              "      <td>NDI</td>\n",
              "      <td>mL</td>\n",
              "      <td>3.3</td>\n",
              "    </tr>\n",
              "    <tr>\n",
              "      <th>2</th>\n",
              "      <td>495770</td>\n",
              "      <td>NEIC</td>\n",
              "      <td>1986-05-16</td>\n",
              "      <td>05:16:13.70</td>\n",
              "      <td>34.00</td>\n",
              "      <td>72.58</td>\n",
              "      <td>15.0</td>\n",
              "      <td>TRUE</td>\n",
              "      <td>NEIC</td>\n",
              "      <td>mL</td>\n",
              "      <td>4.0</td>\n",
              "    </tr>\n",
              "    <tr>\n",
              "      <th>3</th>\n",
              "      <td>490430</td>\n",
              "      <td>QUE</td>\n",
              "      <td>1986-07-10</td>\n",
              "      <td>07:56:12</td>\n",
              "      <td>34.15</td>\n",
              "      <td>72.69</td>\n",
              "      <td>2.0</td>\n",
              "      <td></td>\n",
              "      <td>QUE</td>\n",
              "      <td>mL</td>\n",
              "      <td>4.5</td>\n",
              "    </tr>\n",
              "    <tr>\n",
              "      <th>4</th>\n",
              "      <td>384489</td>\n",
              "      <td>BJI</td>\n",
              "      <td>1989-12-20</td>\n",
              "      <td>21:47:53.50</td>\n",
              "      <td>36.82</td>\n",
              "      <td>73.85</td>\n",
              "      <td>23.0</td>\n",
              "      <td></td>\n",
              "      <td>BJI</td>\n",
              "      <td>mL</td>\n",
              "      <td>4.2</td>\n",
              "    </tr>\n",
              "  </tbody>\n",
              "</table>\n",
              "</div>"
            ],
            "text/plain": [
              "   EVENTID  AUTHOR     DATE        ... AUTHOR   .1  TYPE    MAG \n",
              "0   589363  NDI        1982-11-21  ...   NDI        ML       3.6\n",
              "1   500434  NDI        1986-03-13  ...   NDI        mL       3.3\n",
              "2   495770  NEIC       1986-05-16  ...   NEIC       mL       4.0\n",
              "3   490430  QUE        1986-07-10  ...   QUE        mL       4.5\n",
              "4   384489  BJI        1989-12-20  ...   BJI        mL       4.2\n",
              "\n",
              "[5 rows x 11 columns]"
            ]
          },
          "metadata": {
            "tags": []
          },
          "execution_count": 99
        }
      ]
    },
    {
      "cell_type": "markdown",
      "metadata": {
        "id": "ORSf2USq8G31"
      },
      "source": [
        "SIMPLE PREPROCESSING"
      ]
    },
    {
      "cell_type": "code",
      "metadata": {
        "id": "6jkOIvp00yeW"
      },
      "source": [
        "dataf = dataf.drop([\"EVENTID\",\"AUTHOR   \",\"AUTHOR   .1\",\"DEPFIX\",\"TYPE  \"],axis=1)"
      ],
      "execution_count": null,
      "outputs": []
    },
    {
      "cell_type": "code",
      "metadata": {
        "id": "diZTIEC6wsml"
      },
      "source": [
        "dataf = dataf.rename(columns={'DATE      ':'DATE',\n",
        "                              'TIME       ':'TIME',\n",
        "                              'LAT     ':'LAT',\n",
        "                              'LON      ':'LONG',\n",
        "                              'MAG ':'MAG'})"
      ],
      "execution_count": null,
      "outputs": []
    },
    {
      "cell_type": "code",
      "metadata": {
        "id": "p6HvsgOh2HKV"
      },
      "source": [
        "def clean_column(data,colname):\n",
        "    depth_list=[]\n",
        "    for i in range(len(data)):\n",
        "\n",
        "        if data.iloc[i][colname].strip()=='':\n",
        "            depth_list.append(0)\n",
        "        elif data.iloc[i][colname].strip()=='9999999999':\n",
        "            depth_list.append(0)\n",
        "        else:\n",
        "            depth_list.append(float(data.iloc[i][colname].strip()))\n",
        "\n",
        "    return depth_list"
      ],
      "execution_count": null,
      "outputs": []
    },
    {
      "cell_type": "code",
      "metadata": {
        "id": "_GlVGvHQ4Ooj"
      },
      "source": [
        "dataf[\"DEPTH\"] = clean_column(dataf,\"DEPTH\")"
      ],
      "execution_count": null,
      "outputs": []
    },
    {
      "cell_type": "code",
      "metadata": {
        "id": "Acr0RLaV9JFf"
      },
      "source": [
        "himalaya_dataf = process_data(dataf)"
      ],
      "execution_count": null,
      "outputs": []
    },
    {
      "cell_type": "code",
      "metadata": {
        "colab": {
          "base_uri": "https://localhost:8080/"
        },
        "id": "8KV1V-zW9-D-",
        "outputId": "26d3963d-3103-4033-9cf3-dcb5dcb46b64"
      },
      "source": [
        "himalaya_dataf = remove_illegal_rows(himalaya_dataf)"
      ],
      "execution_count": null,
      "outputs": [
        {
          "output_type": "stream",
          "text": [
            "2\n",
            "[929, 930]\n"
          ],
          "name": "stdout"
        }
      ]
    },
    {
      "cell_type": "code",
      "metadata": {
        "colab": {
          "base_uri": "https://localhost:8080/",
          "height": 590
        },
        "id": "huQTJX6XfDMV",
        "outputId": "9c2aaeb1-3673-4d15-878c-d99c1662563d"
      },
      "source": [
        "himalaya_dataf"
      ],
      "execution_count": null,
      "outputs": [
        {
          "output_type": "execute_result",
          "data": {
            "text/html": [
              "<div>\n",
              "<style scoped>\n",
              "    .dataframe tbody tr th:only-of-type {\n",
              "        vertical-align: middle;\n",
              "    }\n",
              "\n",
              "    .dataframe tbody tr th {\n",
              "        vertical-align: top;\n",
              "    }\n",
              "\n",
              "    .dataframe thead th {\n",
              "        text-align: right;\n",
              "    }\n",
              "</style>\n",
              "<table border=\"1\" class=\"dataframe\">\n",
              "  <thead>\n",
              "    <tr style=\"text-align: right;\">\n",
              "      <th></th>\n",
              "      <th>DATE</th>\n",
              "      <th>TIME</th>\n",
              "      <th>LAT</th>\n",
              "      <th>LONG</th>\n",
              "      <th>DEPTH</th>\n",
              "      <th>MAG</th>\n",
              "      <th>DATETIME</th>\n",
              "      <th>TVAL</th>\n",
              "      <th>MEAN_MAG</th>\n",
              "      <th>ENERGY</th>\n",
              "      <th>b</th>\n",
              "      <th>MAG_DEF</th>\n",
              "      <th>ETA</th>\n",
              "      <th>MU</th>\n",
              "      <th>c</th>\n",
              "      <th>NO_OF_EVENTS</th>\n",
              "    </tr>\n",
              "  </thead>\n",
              "  <tbody>\n",
              "    <tr>\n",
              "      <th>0</th>\n",
              "      <td>1982-11-21</td>\n",
              "      <td>08:10:21</td>\n",
              "      <td>28.8000</td>\n",
              "      <td>81.0500</td>\n",
              "      <td>0.0</td>\n",
              "      <td>3.6</td>\n",
              "      <td>1982-11-21 08:10:21.000</td>\n",
              "      <td>0.000000</td>\n",
              "      <td>0.000</td>\n",
              "      <td>0.000000e+00</td>\n",
              "      <td>1.11044</td>\n",
              "      <td>-4.543166</td>\n",
              "      <td>-0.978062</td>\n",
              "      <td>0.000000</td>\n",
              "      <td>0.000000</td>\n",
              "      <td>1</td>\n",
              "    </tr>\n",
              "    <tr>\n",
              "      <th>1</th>\n",
              "      <td>1986-03-13</td>\n",
              "      <td>20:58:43</td>\n",
              "      <td>28.6000</td>\n",
              "      <td>80.6000</td>\n",
              "      <td>0.0</td>\n",
              "      <td>3.3</td>\n",
              "      <td>1986-03-13 20:58:43.000</td>\n",
              "      <td>0.000000</td>\n",
              "      <td>0.000</td>\n",
              "      <td>0.000000e+00</td>\n",
              "      <td>1.11044</td>\n",
              "      <td>-4.543166</td>\n",
              "      <td>-0.961886</td>\n",
              "      <td>0.000000</td>\n",
              "      <td>0.000000</td>\n",
              "      <td>1</td>\n",
              "    </tr>\n",
              "    <tr>\n",
              "      <th>2</th>\n",
              "      <td>1986-05-16</td>\n",
              "      <td>05:16:13.70</td>\n",
              "      <td>34.0000</td>\n",
              "      <td>72.5800</td>\n",
              "      <td>15.0</td>\n",
              "      <td>4.0</td>\n",
              "      <td>1986-05-16 05:16:13.700</td>\n",
              "      <td>0.000000</td>\n",
              "      <td>0.000</td>\n",
              "      <td>0.000000e+00</td>\n",
              "      <td>1.11044</td>\n",
              "      <td>-4.543166</td>\n",
              "      <td>-0.992724</td>\n",
              "      <td>0.000000</td>\n",
              "      <td>0.000000</td>\n",
              "      <td>1</td>\n",
              "    </tr>\n",
              "    <tr>\n",
              "      <th>3</th>\n",
              "      <td>1986-07-10</td>\n",
              "      <td>07:56:12</td>\n",
              "      <td>34.1500</td>\n",
              "      <td>72.6900</td>\n",
              "      <td>2.0</td>\n",
              "      <td>4.5</td>\n",
              "      <td>1986-07-10 07:56:12.000</td>\n",
              "      <td>0.000000</td>\n",
              "      <td>0.000</td>\n",
              "      <td>0.000000e+00</td>\n",
              "      <td>1.11044</td>\n",
              "      <td>-4.543166</td>\n",
              "      <td>-0.999954</td>\n",
              "      <td>0.000000</td>\n",
              "      <td>0.000000</td>\n",
              "      <td>1</td>\n",
              "    </tr>\n",
              "    <tr>\n",
              "      <th>4</th>\n",
              "      <td>1989-12-20</td>\n",
              "      <td>21:47:53.50</td>\n",
              "      <td>36.8200</td>\n",
              "      <td>73.8500</td>\n",
              "      <td>23.0</td>\n",
              "      <td>4.2</td>\n",
              "      <td>1989-12-20 21:47:53.500</td>\n",
              "      <td>0.000000</td>\n",
              "      <td>0.000</td>\n",
              "      <td>0.000000e+00</td>\n",
              "      <td>1.11044</td>\n",
              "      <td>-4.543166</td>\n",
              "      <td>-0.997096</td>\n",
              "      <td>0.000000</td>\n",
              "      <td>0.000000</td>\n",
              "      <td>1</td>\n",
              "    </tr>\n",
              "    <tr>\n",
              "      <th>...</th>\n",
              "      <td>...</td>\n",
              "      <td>...</td>\n",
              "      <td>...</td>\n",
              "      <td>...</td>\n",
              "      <td>...</td>\n",
              "      <td>...</td>\n",
              "      <td>...</td>\n",
              "      <td>...</td>\n",
              "      <td>...</td>\n",
              "      <td>...</td>\n",
              "      <td>...</td>\n",
              "      <td>...</td>\n",
              "      <td>...</td>\n",
              "      <td>...</td>\n",
              "      <td>...</td>\n",
              "      <td>...</td>\n",
              "    </tr>\n",
              "    <tr>\n",
              "      <th>1557</th>\n",
              "      <td>2019-12-30</td>\n",
              "      <td>17:39:14.17</td>\n",
              "      <td>35.4938</td>\n",
              "      <td>74.4632</td>\n",
              "      <td>0.0</td>\n",
              "      <td>3.2</td>\n",
              "      <td>2019-12-30 17:39:14.170</td>\n",
              "      <td>103.656713</td>\n",
              "      <td>3.420</td>\n",
              "      <td>1.829378e+08</td>\n",
              "      <td>1.11044</td>\n",
              "      <td>-0.143166</td>\n",
              "      <td>-0.999945</td>\n",
              "      <td>5.882353</td>\n",
              "      <td>1.306486</td>\n",
              "      <td>35</td>\n",
              "    </tr>\n",
              "    <tr>\n",
              "      <th>1558</th>\n",
              "      <td>2019-12-30</td>\n",
              "      <td>18:25:29.06</td>\n",
              "      <td>35.4915</td>\n",
              "      <td>74.4716</td>\n",
              "      <td>0.0</td>\n",
              "      <td>3.0</td>\n",
              "      <td>2019-12-30 18:25:29.060</td>\n",
              "      <td>102.917662</td>\n",
              "      <td>3.418</td>\n",
              "      <td>1.838860e+08</td>\n",
              "      <td>1.11044</td>\n",
              "      <td>-0.143166</td>\n",
              "      <td>-0.999996</td>\n",
              "      <td>5.882353</td>\n",
              "      <td>1.306486</td>\n",
              "      <td>50</td>\n",
              "    </tr>\n",
              "    <tr>\n",
              "      <th>1559</th>\n",
              "      <td>2019-12-30</td>\n",
              "      <td>20:25:30.77</td>\n",
              "      <td>35.6541</td>\n",
              "      <td>74.4530</td>\n",
              "      <td>0.0</td>\n",
              "      <td>3.1</td>\n",
              "      <td>2019-12-30 20:25:30.770</td>\n",
              "      <td>100.775451</td>\n",
              "      <td>3.416</td>\n",
              "      <td>1.875307e+08</td>\n",
              "      <td>1.11044</td>\n",
              "      <td>-0.143166</td>\n",
              "      <td>-1.000000</td>\n",
              "      <td>5.882353</td>\n",
              "      <td>1.306486</td>\n",
              "      <td>40</td>\n",
              "    </tr>\n",
              "    <tr>\n",
              "      <th>1560</th>\n",
              "      <td>2019-12-31</td>\n",
              "      <td>00:52:46.57</td>\n",
              "      <td>35.3951</td>\n",
              "      <td>74.8048</td>\n",
              "      <td>0.0</td>\n",
              "      <td>3.3</td>\n",
              "      <td>2019-12-31 00:52:46.570</td>\n",
              "      <td>97.563067</td>\n",
              "      <td>3.406</td>\n",
              "      <td>1.913457e+08</td>\n",
              "      <td>1.11044</td>\n",
              "      <td>-0.143166</td>\n",
              "      <td>-0.999911</td>\n",
              "      <td>6.000000</td>\n",
              "      <td>1.319091</td>\n",
              "      <td>28</td>\n",
              "    </tr>\n",
              "    <tr>\n",
              "      <th>1561</th>\n",
              "      <td>2019-12-31</td>\n",
              "      <td>04:27:55.79</td>\n",
              "      <td>35.5289</td>\n",
              "      <td>74.4619</td>\n",
              "      <td>0.0</td>\n",
              "      <td>3.1</td>\n",
              "      <td>2019-12-31 04:27:55.790</td>\n",
              "      <td>97.452778</td>\n",
              "      <td>3.404</td>\n",
              "      <td>1.911035e+08</td>\n",
              "      <td>1.11044</td>\n",
              "      <td>-0.143166</td>\n",
              "      <td>-1.000000</td>\n",
              "      <td>6.000000</td>\n",
              "      <td>1.319091</td>\n",
              "      <td>40</td>\n",
              "    </tr>\n",
              "  </tbody>\n",
              "</table>\n",
              "<p>1560 rows × 16 columns</p>\n",
              "</div>"
            ],
            "text/plain": [
              "           DATE         TIME      LAT  ...        MU         c  NO_OF_EVENTS\n",
              "0    1982-11-21  08:10:21     28.8000  ...  0.000000  0.000000             1\n",
              "1    1986-03-13  20:58:43     28.6000  ...  0.000000  0.000000             1\n",
              "2    1986-05-16  05:16:13.70  34.0000  ...  0.000000  0.000000             1\n",
              "3    1986-07-10  07:56:12     34.1500  ...  0.000000  0.000000             1\n",
              "4    1989-12-20  21:47:53.50  36.8200  ...  0.000000  0.000000             1\n",
              "...         ...          ...      ...  ...       ...       ...           ...\n",
              "1557 2019-12-30  17:39:14.17  35.4938  ...  5.882353  1.306486            35\n",
              "1558 2019-12-30  18:25:29.06  35.4915  ...  5.882353  1.306486            50\n",
              "1559 2019-12-30  20:25:30.77  35.6541  ...  5.882353  1.306486            40\n",
              "1560 2019-12-31  00:52:46.57  35.3951  ...  6.000000  1.319091            28\n",
              "1561 2019-12-31  04:27:55.79  35.5289  ...  6.000000  1.319091            40\n",
              "\n",
              "[1560 rows x 16 columns]"
            ]
          },
          "metadata": {
            "tags": []
          },
          "execution_count": 107
        }
      ]
    },
    {
      "cell_type": "code",
      "metadata": {
        "id": "oqkFIF29VY97"
      },
      "source": [
        "#himalaya_dataf.to_csv(\"himalaya_dataf.csv\")"
      ],
      "execution_count": null,
      "outputs": []
    },
    {
      "cell_type": "code",
      "metadata": {
        "id": "RpLT3noScX2p"
      },
      "source": [
        "himalaya_output = get_output(himalaya_dataf,4.3)\n",
        "pd_dict = {\"OUTPUT\":himalaya_output}\n",
        "himalaya_dataf_output = pd.DataFrame(pd_dict)\n",
        "himalaya_dataf_output.to_csv(\"himalaya4.3_output.csv\")"
      ],
      "execution_count": null,
      "outputs": []
    },
    {
      "cell_type": "code",
      "metadata": {
        "id": "0bc545_SuKef"
      },
      "source": [
        "himalaya2_output = get_output(himalaya_dataf,5.5)\n",
        "pd_dict2 = {\"OUTPUT\":himalaya2_output}\n",
        "himalaya2_dataf_output = pd.DataFrame(pd_dict2)\n",
        "himalaya2_dataf_output.to_csv(\"himalaya5.5_output.csv\")"
      ],
      "execution_count": null,
      "outputs": []
    },
    {
      "cell_type": "markdown",
      "metadata": {
        "id": "zZHXuHBGHIal"
      },
      "source": [
        "#HIMALAYAN DATA VISUALIZATION"
      ]
    },
    {
      "cell_type": "code",
      "metadata": {
        "colab": {
          "base_uri": "https://localhost:8080/",
          "height": 265
        },
        "id": "y_tsjo8tiyxY",
        "outputId": "b6f5e8ab-75ab-4367-931a-7be02ccc8ea5"
      },
      "source": [
        "plt.plot(dataf[\"OUTPUT\"])\n",
        "plt.show()"
      ],
      "execution_count": null,
      "outputs": [
        {
          "output_type": "display_data",
          "data": {
            "image/png": "[encoded data removed]",
            "text/plain": [
              "<Figure size 432x288 with 1 Axes>"
            ]
          },
          "metadata": {
            "tags": []
          }
        }
      ]
    },
    {
      "cell_type": "markdown",
      "metadata": {
        "id": "kUTXxOF6MUhL"
      },
      "source": [
        "GUTENBERG RICHTER LAW VISUALIZATION"
      ]
    },
    {
      "cell_type": "code",
      "metadata": {
        "colab": {
          "base_uri": "https://localhost:8080/",
          "height": 279
        },
        "id": "kinnVjPuIkpr",
        "outputId": "81be1dc3-b60f-4d17-bdc5-44d4576dda1f"
      },
      "source": [
        "plt.hist(dataf[\"MAG\"])\n",
        "plt.xlabel(\"MAGNITUDE\")\n",
        "plt.ylabel(\"FREQUENCY OF EVENTS\")\n",
        "plt.show()"
      ],
      "execution_count": null,
      "outputs": [
        {
          "output_type": "display_data",
          "data": {
            "image/png": "[encoded data removed]",
            "text/plain": [
              "<Figure size 432x288 with 1 Axes>"
            ]
          },
          "metadata": {
            "tags": []
          }
        }
      ]
    },
    {
      "cell_type": "markdown",
      "metadata": {
        "id": "6CjGWJkhccAv"
      },
      "source": [
        "T VALUES (SEISMICITY INDICATOR)"
      ]
    },
    {
      "cell_type": "code",
      "metadata": {
        "colab": {
          "base_uri": "https://localhost:8080/",
          "height": 279
        },
        "id": "e3WlK8ilWVUI",
        "outputId": "9555557a-b677-412d-8a57-d5c0f29b149c"
      },
      "source": [
        "plt.plot(dataf.loc[60:,(\"TVAL\")])\n",
        "plt.xlabel(\"EVENT NUMBER\")\n",
        "plt.ylabel(\"T VALUE\")\n",
        "plt.show()"
      ],
      "execution_count": null,
      "outputs": [
        {
          "output_type": "display_data",
          "data": {
            "image/png": "[encoded data removed]",
            "text/plain": [
              "<Figure size 432x288 with 1 Axes>"
            ]
          },
          "metadata": {
            "tags": []
          }
        }
      ]
    },
    {
      "cell_type": "markdown",
      "metadata": {
        "id": "O83SMcgScikm"
      },
      "source": [
        "MEAN MAGNITUDE (SEISMICITY INDICATOR)"
      ]
    },
    {
      "cell_type": "code",
      "metadata": {
        "colab": {
          "base_uri": "https://localhost:8080/",
          "height": 279
        },
        "id": "8KhN-feBWx1v",
        "outputId": "f71f3371-84d6-4657-9df8-d05f2eb56a1e"
      },
      "source": [
        "plt.plot(final_dataf[\"MEAN_MAG\"])\n",
        "plt.xlabel(\"EVENT NUMBER\")\n",
        "plt.ylabel(\"MEAN MAGNITUDE\")\n",
        "plt.show()"
      ],
      "execution_count": null,
      "outputs": [
        {
          "output_type": "display_data",
          "data": {
            "image/png": "[encoded data removed]",
            "text/plain": [
              "<Figure size 432x288 with 1 Axes>"
            ]
          },
          "metadata": {
            "tags": []
          }
        }
      ]
    },
    {
      "cell_type": "markdown",
      "metadata": {
        "id": "IAQ_pMECck8t"
      },
      "source": [
        "ENERGY ((SEISMICITY INDICATOR)"
      ]
    },
    {
      "cell_type": "code",
      "metadata": {
        "colab": {
          "base_uri": "https://localhost:8080/",
          "height": 279
        },
        "id": "Ed5OCKqeXDvQ",
        "outputId": "bbd24d01-06df-471f-e0f6-a34dbe77a1f9"
      },
      "source": [
        "plt.plot(final_dataf[\"ENERGY\"])\n",
        "plt.xlabel(\"EVENT NUMBER\")\n",
        "plt.ylabel(\"ENERGY\")\n",
        "plt.show()"
      ],
      "execution_count": null,
      "outputs": [
        {
          "output_type": "display_data",
          "data": {
            "image/png": "[encoded data removed]",
            "text/plain": [
              "<Figure size 432x288 with 1 Axes>"
            ]
          },
          "metadata": {
            "tags": []
          }
        }
      ]
    },
    {
      "cell_type": "markdown",
      "metadata": {
        "id": "bSYtQ6fOco7-"
      },
      "source": [
        "ETA VALUE (SEISMICITY INDICATOR)"
      ]
    },
    {
      "cell_type": "code",
      "metadata": {
        "colab": {
          "base_uri": "https://localhost:8080/",
          "height": 279
        },
        "id": "Hk5JanS1XO3S",
        "outputId": "ac02840f-972b-4058-9bd5-03cfef3d0c27"
      },
      "source": [
        "plt.plot(np.array(final_dataf[\"ETA\"])*-1)\n",
        "plt.xlabel(\"EVENT NUMBER\")\n",
        "plt.ylabel(\"DEVIATION (ETA VALUE)\")\n",
        "plt.show()"
      ],
      "execution_count": null,
      "outputs": [
        {
          "output_type": "display_data",
          "data": {
            "image/png": "[encoded data removed]",
            "text/plain": [
              "<Figure size 432x288 with 1 Axes>"
            ]
          },
          "metadata": {
            "tags": []
          }
        }
      ]
    },
    {
      "cell_type": "markdown",
      "metadata": {
        "id": "Ou7SbcsGcsPn"
      },
      "source": [
        "MAGNITUDE DEFICIT (SEISMICITY INDICATOR)"
      ]
    },
    {
      "cell_type": "code",
      "metadata": {
        "colab": {
          "base_uri": "https://localhost:8080/",
          "height": 279
        },
        "id": "HHhCBfptXqhq",
        "outputId": "e7d893f2-8202-461c-bb8b-7acb5b914de5"
      },
      "source": [
        "plt.plot(final_dataf[\"MAG_DEF\"])\n",
        "plt.xlabel(\"EVENT NUMBER\")\n",
        "plt.ylabel(\"MAGNITUDE DEFICIT\")\n",
        "plt.show()"
      ],
      "execution_count": null,
      "outputs": [
        {
          "output_type": "display_data",
          "data": {
            "image/png": "[encoded data removed]",
            "text/plain": [
              "<Figure size 432x288 with 1 Axes>"
            ]
          },
          "metadata": {
            "tags": []
          }
        }
      ]
    },
    {
      "cell_type": "markdown",
      "metadata": {
        "id": "uSBTOEJ2fnfk"
      },
      "source": [
        "#HIMALAYAN DATA MODEL TRAINING "
      ]
    },
    {
      "cell_type": "code",
      "metadata": {
        "id": "TW0lfvd8lJcp"
      },
      "source": [
        "class earthquake_model(nn.Module):\n",
        "    def __init__(self):\n",
        "        super().__init__()\n",
        "        self.net = nn.Sequential(\n",
        "            nn.Linear(8,24),\n",
        "            nn.ReLU(),\n",
        "            nn.Linear(24,24),\n",
        "            nn.ReLU(),\n",
        "            nn.Linear(24,12),\n",
        "            nn.ReLU(),\n",
        "            nn.Linear(12,1),\n",
        "            nn.Sigmoid()\n",
        "        )\n",
        "    def forward(self,x):\n",
        "        return self.net(x)"
      ],
      "execution_count": null,
      "outputs": []
    },
    {
      "cell_type": "markdown",
      "metadata": {
        "id": "CnwMUmEApGNy"
      },
      "source": [
        "**SPLIT DATA INTO TRAIN AND VALIDATION SETS**"
      ]
    },
    {
      "cell_type": "code",
      "metadata": {
        "id": "v4sI0NvJjaHw"
      },
      "source": [
        "arr_in = np.zeros((len(final_dataf),8))\n",
        "arr_out = np.zeros((len(final_dataf),1)) \n",
        "for i in range(len(final_dataf)):\n",
        "    arr_in[i] = np.array(final_dataf.iloc[i])\n",
        "    arr_out[i] = dataf.iloc[i+N][\"OUTPUT\"]"
      ],
      "execution_count": null,
      "outputs": []
    },
    {
      "cell_type": "code",
      "metadata": {
        "id": "ujQI6dE8pQbS"
      },
      "source": [
        "X_train,X_val,Y_train,Y_val = train_test_split(arr_in,arr_out,random_state=0)"
      ],
      "execution_count": null,
      "outputs": []
    },
    {
      "cell_type": "code",
      "metadata": {
        "id": "3DHPVBL4xo3N"
      },
      "source": [
        "X_train,X_val,Y_train,Y_val = map(torch.Tensor,(X_train,X_val,Y_train,Y_val))"
      ],
      "execution_count": null,
      "outputs": []
    },
    {
      "cell_type": "markdown",
      "metadata": {
        "id": "Im-9GAKTpQYK"
      },
      "source": [
        "**TRAINING MODEL**"
      ]
    },
    {
      "cell_type": "code",
      "metadata": {
        "id": "nIzKqPS54RqN"
      },
      "source": [
        "model = earthquake_model()\n",
        "opt = optim.Adam(model.parameters(),lr=0.0001)\n",
        "loss_fn = nn.BCELoss()"
      ],
      "execution_count": null,
      "outputs": []
    },
    {
      "cell_type": "code",
      "metadata": {
        "colab": {
          "base_uri": "https://localhost:8080/",
          "height": 380
        },
        "id": "EvNbkZGw5DVX",
        "outputId": "3309fcc0-7b7d-410e-d20b-bd65b8886909"
      },
      "source": [
        "l,bm = fit_optim(model,2000)"
      ],
      "execution_count": null,
      "outputs": [
        {
          "output_type": "stream",
          "text": [
            "Iteration 1995 Loss 0.22672905027866364\n"
          ],
          "name": "stdout"
        },
        {
          "output_type": "display_data",
          "data": {
            "image/png": "[encoded data removed]",
            "text/plain": [
              "<Figure size 432x288 with 1 Axes>"
            ]
          },
          "metadata": {
            "tags": []
          }
        },
        {
          "output_type": "stream",
          "text": [
            "\n",
            "\n",
            "\n",
            "The loss before training is0.6839534044265747\n",
            "The loss after training is0.19851984083652496\n"
          ],
          "name": "stdout"
        }
      ]
    },
    {
      "cell_type": "markdown",
      "metadata": {
        "id": "p7hLf6nFsh8M"
      },
      "source": [
        "**RESULTS**"
      ]
    },
    {
      "cell_type": "code",
      "metadata": {
        "id": "FvuUKt61ByVg"
      },
      "source": [
        "temp = bm(X_val)\n",
        "for i in range(len(temp)):\n",
        "    if temp[i]>0.5:\n",
        "        temp[i]=1\n",
        "    else:\n",
        "        temp[i]=0\n",
        "print(\"The accuracy after 2000 epochs is \",accuracy_score(temp.detach(),Y_val))"
      ],
      "execution_count": null,
      "outputs": []
    },
    {
      "cell_type": "code",
      "metadata": {
        "id": "TmUEhz2bIkl3"
      },
      "source": [
        "torch.save(bm2,'Earthquake_Model_4(90.4%)')"
      ],
      "execution_count": null,
      "outputs": []
    },
    {
      "cell_type": "code",
      "metadata": {
        "id": "Bj9nT26I5WGG"
      },
      "source": [
        "saved_model = torch.load(\"Earthquake_Model_4(90.4%)\")"
      ],
      "execution_count": null,
      "outputs": []
    },
    {
      "cell_type": "code",
      "metadata": {
        "colab": {
          "base_uri": "https://localhost:8080/",
          "height": 84
        },
        "id": "zDvFGjDG5ec8",
        "outputId": "f930eb2a-0808-4536-da83-2a7838a57ee6"
      },
      "source": [
        "calc_metric(saved_model,X_val,Y_val)"
      ],
      "execution_count": null,
      "outputs": [
        {
          "output_type": "stream",
          "text": [
            "The accuracy after 2000 epochs is  90.47619047619048\n",
            "[[192  15]\n",
            " [ 21 150]]\n",
            "0.8928571428571428\n"
          ],
          "name": "stdout"
        }
      ]
    },
    {
      "cell_type": "code",
      "metadata": {
        "colab": {
          "base_uri": "https://localhost:8080/",
          "height": 380
        },
        "id": "Ki6EulmgH9ip",
        "outputId": "36acc0b5-032d-4cdf-ccff-5cf7a0a0ce49"
      },
      "source": [
        "#l2,bm2 = fit_optim(model,4000)"
      ],
      "execution_count": null,
      "outputs": [
        {
          "output_type": "stream",
          "text": [
            "Iteration 3995 Loss 0.1457221359014511\n"
          ],
          "name": "stdout"
        },
        {
          "output_type": "display_data",
          "data": {
            "image/png": "[encoded data removed]",
            "text/plain": [
              "<Figure size 432x288 with 1 Axes>"
            ]
          },
          "metadata": {
            "tags": []
          }
        },
        {
          "output_type": "stream",
          "text": [
            "\n",
            "\n",
            "\n",
            "The loss before training is0.14590245485305786\n",
            "The loss after training is0.1457282155752182\n"
          ],
          "name": "stdout"
        }
      ]
    },
    {
      "cell_type": "markdown",
      "metadata": {
        "id": "MBuO2i9XE7op"
      },
      "source": [
        "#SUMATRA DATA"
      ]
    },
    {
      "cell_type": "code",
      "metadata": {
        "colab": {
          "base_uri": "https://localhost:8080/",
          "height": 402
        },
        "id": "yrqwC0DrE_iw",
        "outputId": "26730ad6-b464-4357-b1a6-bcc4362a322b"
      },
      "source": [
        "sumatra_dataf = pd.read_excel('Sumatra.xlsx')\n",
        "sumatra_dataf"
      ],
      "execution_count": null,
      "outputs": [
        {
          "output_type": "execute_result",
          "data": {
            "text/html": [
              "<div>\n",
              "<style scoped>\n",
              "    .dataframe tbody tr th:only-of-type {\n",
              "        vertical-align: middle;\n",
              "    }\n",
              "\n",
              "    .dataframe tbody tr th {\n",
              "        vertical-align: top;\n",
              "    }\n",
              "\n",
              "    .dataframe thead th {\n",
              "        text-align: right;\n",
              "    }\n",
              "</style>\n",
              "<table border=\"1\" class=\"dataframe\">\n",
              "  <thead>\n",
              "    <tr style=\"text-align: right;\">\n",
              "      <th></th>\n",
              "      <th>Date</th>\n",
              "      <th>Time</th>\n",
              "      <th>Lat</th>\n",
              "      <th>Long</th>\n",
              "      <th>Depth</th>\n",
              "      <th>Mag</th>\n",
              "    </tr>\n",
              "  </thead>\n",
              "  <tbody>\n",
              "    <tr>\n",
              "      <th>0</th>\n",
              "      <td>1970-01-01</td>\n",
              "      <td>03:29:16.800000</td>\n",
              "      <td>-4.9300</td>\n",
              "      <td>102.7330</td>\n",
              "      <td>58.0</td>\n",
              "      <td>5.4</td>\n",
              "    </tr>\n",
              "    <tr>\n",
              "      <th>1</th>\n",
              "      <td>1970-01-06</td>\n",
              "      <td>23:26:47.200000</td>\n",
              "      <td>-7.6830</td>\n",
              "      <td>107.0690</td>\n",
              "      <td>90.0</td>\n",
              "      <td>4.8</td>\n",
              "    </tr>\n",
              "    <tr>\n",
              "      <th>2</th>\n",
              "      <td>1970-01-07</td>\n",
              "      <td>13:53:52.400000</td>\n",
              "      <td>-1.8460</td>\n",
              "      <td>100.3990</td>\n",
              "      <td>40.0</td>\n",
              "      <td>5.2</td>\n",
              "    </tr>\n",
              "    <tr>\n",
              "      <th>3</th>\n",
              "      <td>1970-01-16</td>\n",
              "      <td>02:27:30.100000</td>\n",
              "      <td>-7.1800</td>\n",
              "      <td>106.5520</td>\n",
              "      <td>92.0</td>\n",
              "      <td>5.1</td>\n",
              "    </tr>\n",
              "    <tr>\n",
              "      <th>4</th>\n",
              "      <td>1970-01-21</td>\n",
              "      <td>03:34:04.600000</td>\n",
              "      <td>7.5610</td>\n",
              "      <td>94.2650</td>\n",
              "      <td>19.0</td>\n",
              "      <td>5.0</td>\n",
              "    </tr>\n",
              "    <tr>\n",
              "      <th>...</th>\n",
              "      <td>...</td>\n",
              "      <td>...</td>\n",
              "      <td>...</td>\n",
              "      <td>...</td>\n",
              "      <td>...</td>\n",
              "      <td>...</td>\n",
              "    </tr>\n",
              "    <tr>\n",
              "      <th>21852</th>\n",
              "      <td>2020-08-24</td>\n",
              "      <td>10:24:30.430000</td>\n",
              "      <td>-3.9355</td>\n",
              "      <td>101.0578</td>\n",
              "      <td>0.0</td>\n",
              "      <td>5.0</td>\n",
              "    </tr>\n",
              "    <tr>\n",
              "      <th>21853</th>\n",
              "      <td>2020-08-25</td>\n",
              "      <td>23:27:55.840000</td>\n",
              "      <td>-6.4711</td>\n",
              "      <td>104.7137</td>\n",
              "      <td>17.3</td>\n",
              "      <td>5.1</td>\n",
              "    </tr>\n",
              "    <tr>\n",
              "      <th>21854</th>\n",
              "      <td>2020-08-26</td>\n",
              "      <td>02:36:54.130000</td>\n",
              "      <td>-5.0410</td>\n",
              "      <td>102.8504</td>\n",
              "      <td>0.0</td>\n",
              "      <td>4.3</td>\n",
              "    </tr>\n",
              "    <tr>\n",
              "      <th>21855</th>\n",
              "      <td>2020-08-29</td>\n",
              "      <td>05:35:40.410000</td>\n",
              "      <td>-4.1794</td>\n",
              "      <td>101.1399</td>\n",
              "      <td>0.0</td>\n",
              "      <td>4.9</td>\n",
              "    </tr>\n",
              "    <tr>\n",
              "      <th>21856</th>\n",
              "      <td>2020-08-30</td>\n",
              "      <td>18:27:53.140000</td>\n",
              "      <td>-8.4310</td>\n",
              "      <td>111.0805</td>\n",
              "      <td>0.0</td>\n",
              "      <td>4.2</td>\n",
              "    </tr>\n",
              "  </tbody>\n",
              "</table>\n",
              "<p>21857 rows × 6 columns</p>\n",
              "</div>"
            ],
            "text/plain": [
              "            Date             Time     Lat      Long  Depth  Mag\n",
              "0     1970-01-01  03:29:16.800000 -4.9300  102.7330   58.0  5.4\n",
              "1     1970-01-06  23:26:47.200000 -7.6830  107.0690   90.0  4.8\n",
              "2     1970-01-07  13:53:52.400000 -1.8460  100.3990   40.0  5.2\n",
              "3     1970-01-16  02:27:30.100000 -7.1800  106.5520   92.0  5.1\n",
              "4     1970-01-21  03:34:04.600000  7.5610   94.2650   19.0  5.0\n",
              "...          ...              ...     ...       ...    ...  ...\n",
              "21852 2020-08-24  10:24:30.430000 -3.9355  101.0578    0.0  5.0\n",
              "21853 2020-08-25  23:27:55.840000 -6.4711  104.7137   17.3  5.1\n",
              "21854 2020-08-26  02:36:54.130000 -5.0410  102.8504    0.0  4.3\n",
              "21855 2020-08-29  05:35:40.410000 -4.1794  101.1399    0.0  4.9\n",
              "21856 2020-08-30  18:27:53.140000 -8.4310  111.0805    0.0  4.2\n",
              "\n",
              "[21857 rows x 6 columns]"
            ]
          },
          "metadata": {
            "tags": []
          },
          "execution_count": 52
        }
      ]
    },
    {
      "cell_type": "markdown",
      "metadata": {
        "id": "XgGTTeaOphVu"
      },
      "source": [
        "**SIMPLE PREPROCESSING**"
      ]
    },
    {
      "cell_type": "code",
      "metadata": {
        "id": "tMRigK1EF5BO"
      },
      "source": [
        "sumatra_dataf = sumatra_dataf.rename(columns={'Date':'DATE',\n",
        "                              'Time':'TIME',\n",
        "                              'Lat':'LATITUDE',\n",
        "                              'Long':'LONGITUDE',\n",
        "                              'Depth':'DEPTH',\n",
        "                              'Mag':'MAG'})"
      ],
      "execution_count": null,
      "outputs": []
    },
    {
      "cell_type": "code",
      "metadata": {
        "id": "hwdcILqMWF5q"
      },
      "source": [
        "convert_dict = {\"DATE\":str,\"TIME\":str}\n",
        "sumatra_dataf = sumatra_dataf.astype(convert_dict)"
      ],
      "execution_count": null,
      "outputs": []
    },
    {
      "cell_type": "code",
      "metadata": {
        "id": "YQeJ1s4UVMd5"
      },
      "source": [
        "sumatra_dataf['DATETIME'] = sumatra_dataf[\"DATE\"] + \" \" + sumatra_dataf[\"TIME\"]\n",
        "sumatra_dataf['DATETIME'] = pd.to_datetime(sumatra_dataf[\"DATETIME\"], format='%Y/%m/%d %H:%M:%S')"
      ],
      "execution_count": null,
      "outputs": []
    },
    {
      "cell_type": "code",
      "metadata": {
        "id": "LLRjUT0vcVy2"
      },
      "source": [
        "sumatra_dataf[\"DATE\"] = pd.to_datetime(sumatra_dataf[\"DATE\"])"
      ],
      "execution_count": null,
      "outputs": []
    },
    {
      "cell_type": "code",
      "metadata": {
        "colab": {
          "base_uri": "https://localhost:8080/",
          "height": 402
        },
        "id": "P7dvt3ZTWW1R",
        "outputId": "cce3f08b-79a8-4ed9-eb9c-0a3d815730ea"
      },
      "source": [
        "sumatra_dataf"
      ],
      "execution_count": null,
      "outputs": [
        {
          "output_type": "execute_result",
          "data": {
            "text/html": [
              "<div>\n",
              "<style scoped>\n",
              "    .dataframe tbody tr th:only-of-type {\n",
              "        vertical-align: middle;\n",
              "    }\n",
              "\n",
              "    .dataframe tbody tr th {\n",
              "        vertical-align: top;\n",
              "    }\n",
              "\n",
              "    .dataframe thead th {\n",
              "        text-align: right;\n",
              "    }\n",
              "</style>\n",
              "<table border=\"1\" class=\"dataframe\">\n",
              "  <thead>\n",
              "    <tr style=\"text-align: right;\">\n",
              "      <th></th>\n",
              "      <th>DATE</th>\n",
              "      <th>TIME</th>\n",
              "      <th>LATITUDE</th>\n",
              "      <th>LONGITUDE</th>\n",
              "      <th>DEPTH</th>\n",
              "      <th>MAG</th>\n",
              "      <th>DATETIME</th>\n",
              "    </tr>\n",
              "  </thead>\n",
              "  <tbody>\n",
              "    <tr>\n",
              "      <th>0</th>\n",
              "      <td>1970-01-01</td>\n",
              "      <td>03:29:16.800000</td>\n",
              "      <td>-4.9300</td>\n",
              "      <td>102.7330</td>\n",
              "      <td>58.0</td>\n",
              "      <td>5.4</td>\n",
              "      <td>1970-01-01 03:29:16.800</td>\n",
              "    </tr>\n",
              "    <tr>\n",
              "      <th>1</th>\n",
              "      <td>1970-01-06</td>\n",
              "      <td>23:26:47.200000</td>\n",
              "      <td>-7.6830</td>\n",
              "      <td>107.0690</td>\n",
              "      <td>90.0</td>\n",
              "      <td>4.8</td>\n",
              "      <td>1970-01-06 23:26:47.200</td>\n",
              "    </tr>\n",
              "    <tr>\n",
              "      <th>2</th>\n",
              "      <td>1970-01-07</td>\n",
              "      <td>13:53:52.400000</td>\n",
              "      <td>-1.8460</td>\n",
              "      <td>100.3990</td>\n",
              "      <td>40.0</td>\n",
              "      <td>5.2</td>\n",
              "      <td>1970-01-07 13:53:52.400</td>\n",
              "    </tr>\n",
              "    <tr>\n",
              "      <th>3</th>\n",
              "      <td>1970-01-16</td>\n",
              "      <td>02:27:30.100000</td>\n",
              "      <td>-7.1800</td>\n",
              "      <td>106.5520</td>\n",
              "      <td>92.0</td>\n",
              "      <td>5.1</td>\n",
              "      <td>1970-01-16 02:27:30.100</td>\n",
              "    </tr>\n",
              "    <tr>\n",
              "      <th>4</th>\n",
              "      <td>1970-01-21</td>\n",
              "      <td>03:34:04.600000</td>\n",
              "      <td>7.5610</td>\n",
              "      <td>94.2650</td>\n",
              "      <td>19.0</td>\n",
              "      <td>5.0</td>\n",
              "      <td>1970-01-21 03:34:04.600</td>\n",
              "    </tr>\n",
              "    <tr>\n",
              "      <th>...</th>\n",
              "      <td>...</td>\n",
              "      <td>...</td>\n",
              "      <td>...</td>\n",
              "      <td>...</td>\n",
              "      <td>...</td>\n",
              "      <td>...</td>\n",
              "      <td>...</td>\n",
              "    </tr>\n",
              "    <tr>\n",
              "      <th>21852</th>\n",
              "      <td>2020-08-24</td>\n",
              "      <td>10:24:30.430000</td>\n",
              "      <td>-3.9355</td>\n",
              "      <td>101.0578</td>\n",
              "      <td>0.0</td>\n",
              "      <td>5.0</td>\n",
              "      <td>2020-08-24 10:24:30.430</td>\n",
              "    </tr>\n",
              "    <tr>\n",
              "      <th>21853</th>\n",
              "      <td>2020-08-25</td>\n",
              "      <td>23:27:55.840000</td>\n",
              "      <td>-6.4711</td>\n",
              "      <td>104.7137</td>\n",
              "      <td>17.3</td>\n",
              "      <td>5.1</td>\n",
              "      <td>2020-08-25 23:27:55.840</td>\n",
              "    </tr>\n",
              "    <tr>\n",
              "      <th>21854</th>\n",
              "      <td>2020-08-26</td>\n",
              "      <td>02:36:54.130000</td>\n",
              "      <td>-5.0410</td>\n",
              "      <td>102.8504</td>\n",
              "      <td>0.0</td>\n",
              "      <td>4.3</td>\n",
              "      <td>2020-08-26 02:36:54.130</td>\n",
              "    </tr>\n",
              "    <tr>\n",
              "      <th>21855</th>\n",
              "      <td>2020-08-29</td>\n",
              "      <td>05:35:40.410000</td>\n",
              "      <td>-4.1794</td>\n",
              "      <td>101.1399</td>\n",
              "      <td>0.0</td>\n",
              "      <td>4.9</td>\n",
              "      <td>2020-08-29 05:35:40.410</td>\n",
              "    </tr>\n",
              "    <tr>\n",
              "      <th>21856</th>\n",
              "      <td>2020-08-30</td>\n",
              "      <td>18:27:53.140000</td>\n",
              "      <td>-8.4310</td>\n",
              "      <td>111.0805</td>\n",
              "      <td>0.0</td>\n",
              "      <td>4.2</td>\n",
              "      <td>2020-08-30 18:27:53.140</td>\n",
              "    </tr>\n",
              "  </tbody>\n",
              "</table>\n",
              "<p>21857 rows × 7 columns</p>\n",
              "</div>"
            ],
            "text/plain": [
              "            DATE             TIME  LATITUDE  ...  DEPTH  MAG                DATETIME\n",
              "0     1970-01-01  03:29:16.800000   -4.9300  ...   58.0  5.4 1970-01-01 03:29:16.800\n",
              "1     1970-01-06  23:26:47.200000   -7.6830  ...   90.0  4.8 1970-01-06 23:26:47.200\n",
              "2     1970-01-07  13:53:52.400000   -1.8460  ...   40.0  5.2 1970-01-07 13:53:52.400\n",
              "3     1970-01-16  02:27:30.100000   -7.1800  ...   92.0  5.1 1970-01-16 02:27:30.100\n",
              "4     1970-01-21  03:34:04.600000    7.5610  ...   19.0  5.0 1970-01-21 03:34:04.600\n",
              "...          ...              ...       ...  ...    ...  ...                     ...\n",
              "21852 2020-08-24  10:24:30.430000   -3.9355  ...    0.0  5.0 2020-08-24 10:24:30.430\n",
              "21853 2020-08-25  23:27:55.840000   -6.4711  ...   17.3  5.1 2020-08-25 23:27:55.840\n",
              "21854 2020-08-26  02:36:54.130000   -5.0410  ...    0.0  4.3 2020-08-26 02:36:54.130\n",
              "21855 2020-08-29  05:35:40.410000   -4.1794  ...    0.0  4.9 2020-08-29 05:35:40.410\n",
              "21856 2020-08-30  18:27:53.140000   -8.4310  ...    0.0  4.2 2020-08-30 18:27:53.140\n",
              "\n",
              "[21857 rows x 7 columns]"
            ]
          },
          "metadata": {
            "tags": []
          },
          "execution_count": 57
        }
      ]
    },
    {
      "cell_type": "code",
      "metadata": {
        "id": "T3JQUECA_vZE"
      },
      "source": [
        "sumatra_dataf = process_data(sumatra_dataf)"
      ],
      "execution_count": null,
      "outputs": []
    },
    {
      "cell_type": "code",
      "metadata": {
        "colab": {
          "base_uri": "https://localhost:8080/",
          "height": 299
        },
        "id": "aDfc9SC1__zV",
        "outputId": "161230e0-fdc7-41b3-938f-03a56905886a"
      },
      "source": [
        "sumatra_dataf.head()"
      ],
      "execution_count": null,
      "outputs": [
        {
          "output_type": "execute_result",
          "data": {
            "text/html": [
              "<div>\n",
              "<style scoped>\n",
              "    .dataframe tbody tr th:only-of-type {\n",
              "        vertical-align: middle;\n",
              "    }\n",
              "\n",
              "    .dataframe tbody tr th {\n",
              "        vertical-align: top;\n",
              "    }\n",
              "\n",
              "    .dataframe thead th {\n",
              "        text-align: right;\n",
              "    }\n",
              "</style>\n",
              "<table border=\"1\" class=\"dataframe\">\n",
              "  <thead>\n",
              "    <tr style=\"text-align: right;\">\n",
              "      <th></th>\n",
              "      <th>DATE</th>\n",
              "      <th>TIME</th>\n",
              "      <th>LATITUDE</th>\n",
              "      <th>LONGITUDE</th>\n",
              "      <th>DEPTH</th>\n",
              "      <th>MAG</th>\n",
              "      <th>DATETIME</th>\n",
              "      <th>TVAL</th>\n",
              "      <th>MEAN_MAG</th>\n",
              "      <th>ENERGY</th>\n",
              "      <th>NO_OF_EVENTS</th>\n",
              "      <th>b</th>\n",
              "      <th>ETA</th>\n",
              "      <th>MAG_DEF</th>\n",
              "      <th>MU</th>\n",
              "      <th>c</th>\n",
              "    </tr>\n",
              "  </thead>\n",
              "  <tbody>\n",
              "    <tr>\n",
              "      <th>0</th>\n",
              "      <td>1970-01-01 00:00:00.000</td>\n",
              "      <td>03:29:16.800000</td>\n",
              "      <td>-4.930</td>\n",
              "      <td>102.733</td>\n",
              "      <td>58.0</td>\n",
              "      <td>5.4</td>\n",
              "      <td>1970-01-01 03:29:16.800</td>\n",
              "      <td>0.0</td>\n",
              "      <td>0.0</td>\n",
              "      <td>0.0</td>\n",
              "      <td>1</td>\n",
              "      <td>0.682507</td>\n",
              "      <td>-0.987617</td>\n",
              "      <td>-6.552883</td>\n",
              "      <td>0.0</td>\n",
              "      <td>0.0</td>\n",
              "    </tr>\n",
              "    <tr>\n",
              "      <th>1</th>\n",
              "      <td>1970-01-06 00:00:00.000</td>\n",
              "      <td>23:26:47.200000</td>\n",
              "      <td>-7.683</td>\n",
              "      <td>107.069</td>\n",
              "      <td>90.0</td>\n",
              "      <td>4.8</td>\n",
              "      <td>1970-01-06 23:26:47.200</td>\n",
              "      <td>0.0</td>\n",
              "      <td>0.0</td>\n",
              "      <td>0.0</td>\n",
              "      <td>1</td>\n",
              "      <td>0.682507</td>\n",
              "      <td>-0.971375</td>\n",
              "      <td>-6.552883</td>\n",
              "      <td>0.0</td>\n",
              "      <td>0.0</td>\n",
              "    </tr>\n",
              "    <tr>\n",
              "      <th>2</th>\n",
              "      <td>1970-01-07 00:00:00.000</td>\n",
              "      <td>13:53:52.400000</td>\n",
              "      <td>-1.846</td>\n",
              "      <td>100.399</td>\n",
              "      <td>40.0</td>\n",
              "      <td>5.2</td>\n",
              "      <td>1970-01-07 13:53:52.400</td>\n",
              "      <td>0.0</td>\n",
              "      <td>0.0</td>\n",
              "      <td>0.0</td>\n",
              "      <td>1</td>\n",
              "      <td>0.682507</td>\n",
              "      <td>-0.982948</td>\n",
              "      <td>-6.552883</td>\n",
              "      <td>0.0</td>\n",
              "      <td>0.0</td>\n",
              "    </tr>\n",
              "    <tr>\n",
              "      <th>3</th>\n",
              "      <td>1970-01-16 00:00:00.000</td>\n",
              "      <td>02:27:30.100000</td>\n",
              "      <td>-7.180</td>\n",
              "      <td>106.552</td>\n",
              "      <td>92.0</td>\n",
              "      <td>5.1</td>\n",
              "      <td>1970-01-16 02:27:30.100</td>\n",
              "      <td>0.0</td>\n",
              "      <td>0.0</td>\n",
              "      <td>0.0</td>\n",
              "      <td>1</td>\n",
              "      <td>0.682507</td>\n",
              "      <td>-0.980334</td>\n",
              "      <td>-6.552883</td>\n",
              "      <td>0.0</td>\n",
              "      <td>0.0</td>\n",
              "    </tr>\n",
              "    <tr>\n",
              "      <th>4</th>\n",
              "      <td>1970-01-21 00:00:00.000</td>\n",
              "      <td>03:34:04.600000</td>\n",
              "      <td>7.561</td>\n",
              "      <td>94.265</td>\n",
              "      <td>19.0</td>\n",
              "      <td>5.0</td>\n",
              "      <td>1970-01-21 03:34:04.600</td>\n",
              "      <td>0.0</td>\n",
              "      <td>0.0</td>\n",
              "      <td>0.0</td>\n",
              "      <td>1</td>\n",
              "      <td>0.682507</td>\n",
              "      <td>-0.977534</td>\n",
              "      <td>-6.552883</td>\n",
              "      <td>0.0</td>\n",
              "      <td>0.0</td>\n",
              "    </tr>\n",
              "  </tbody>\n",
              "</table>\n",
              "</div>"
            ],
            "text/plain": [
              "                      DATE             TIME  LATITUDE  ...   MAG_DEF   MU    c\n",
              "0  1970-01-01 00:00:00.000  03:29:16.800000    -4.930  ... -6.552883  0.0  0.0\n",
              "1  1970-01-06 00:00:00.000  23:26:47.200000    -7.683  ... -6.552883  0.0  0.0\n",
              "2  1970-01-07 00:00:00.000  13:53:52.400000    -1.846  ... -6.552883  0.0  0.0\n",
              "3  1970-01-16 00:00:00.000  02:27:30.100000    -7.180  ... -6.552883  0.0  0.0\n",
              "4  1970-01-21 00:00:00.000  03:34:04.600000     7.561  ... -6.552883  0.0  0.0\n",
              "\n",
              "[5 rows x 16 columns]"
            ]
          },
          "metadata": {
            "tags": []
          },
          "execution_count": 145
        }
      ]
    },
    {
      "cell_type": "code",
      "metadata": {
        "colab": {
          "base_uri": "https://localhost:8080/"
        },
        "id": "lMGgG-B5uH5i",
        "outputId": "32c931ef-ee82-475f-d42b-58c29d1d792c"
      },
      "source": [
        "check_all_nan(sumatra_dataf)"
      ],
      "execution_count": null,
      "outputs": [
        {
          "output_type": "stream",
          "text": [
            "nan not found\n"
          ],
          "name": "stdout"
        }
      ]
    },
    {
      "cell_type": "code",
      "metadata": {
        "colab": {
          "base_uri": "https://localhost:8080/"
        },
        "id": "VgOQpG_MrHmA",
        "outputId": "1e96bdd9-9ac9-43e5-bc4b-c410d2451b67"
      },
      "source": [
        "sumatra_dataf=remove_illegal_rows(sumatra_dataf)"
      ],
      "execution_count": null,
      "outputs": [
        {
          "output_type": "stream",
          "text": [
            "0\n",
            "[]\n"
          ],
          "name": "stdout"
        }
      ]
    },
    {
      "cell_type": "code",
      "metadata": {
        "id": "qGbC7tNufk16"
      },
      "source": [
        "#sumatra_dataf.to_csv(\"sumatra_dataf.csv\")"
      ],
      "execution_count": null,
      "outputs": []
    },
    {
      "cell_type": "markdown",
      "metadata": {
        "id": "e-wEKgUsrOly"
      },
      "source": [
        "**OUTPUT**"
      ]
    },
    {
      "cell_type": "code",
      "metadata": {
        "id": "F_m0OiTshyEh"
      },
      "source": [
        "sumatra_output = get_output(sumatra_dataf,5.5)\n",
        "pd_dict = {\"OUTPUT\":sumatra_output}\n",
        "sumatra_dataf_output = pd.DataFrame(pd_dict)\n",
        "sumatra_dataf_output.to_csv(\"sumatra5.5_output.csv\")"
      ],
      "execution_count": null,
      "outputs": []
    },
    {
      "cell_type": "code",
      "metadata": {
        "colab": {
          "base_uri": "https://localhost:8080/"
        },
        "id": "dk01ZsuLo1-A",
        "outputId": "45c07937-a7ad-4857-97f5-d56fec5303b3"
      },
      "source": [
        "np.unique(np.array(sumatra_output),return_counts=True)"
      ],
      "execution_count": null,
      "outputs": [
        {
          "output_type": "execute_result",
          "data": {
            "text/plain": [
              "(array([0, 1]), array([ 7031, 14826]))"
            ]
          },
          "metadata": {
            "tags": []
          },
          "execution_count": 173
        }
      ]
    },
    {
      "cell_type": "markdown",
      "metadata": {
        "id": "d7wSYo9Jo6_A"
      },
      "source": [
        "#SUMATRA DATA VISUALIZATION"
      ]
    },
    {
      "cell_type": "markdown",
      "metadata": {
        "id": "RjPl8U_CpI5y"
      },
      "source": [
        "GUTENBERG RICHTER LAW VISUALIZATION"
      ]
    },
    {
      "cell_type": "code",
      "metadata": {
        "colab": {
          "base_uri": "https://localhost:8080/",
          "height": 279
        },
        "id": "uwUKuagSpI55",
        "outputId": "1231c644-d215-4f2f-fcaa-e49724ec5241"
      },
      "source": [
        "plt.hist(sumatra_dataf[\"MAG\"])\n",
        "plt.xlabel(\"MAGNITUDE\")\n",
        "plt.ylabel(\"FREQUENCY OF EVENTS\")\n",
        "plt.show()"
      ],
      "execution_count": null,
      "outputs": [
        {
          "output_type": "display_data",
          "data": {
            "image/png": "[encoded data removed]",
            "text/plain": [
              "<Figure size 432x288 with 1 Axes>"
            ]
          },
          "metadata": {
            "tags": []
          }
        }
      ]
    },
    {
      "cell_type": "markdown",
      "metadata": {
        "id": "GjxG5ZbkpI6E"
      },
      "source": [
        "T VALUES (SEISMICITY INDICATOR)"
      ]
    },
    {
      "cell_type": "code",
      "metadata": {
        "colab": {
          "base_uri": "https://localhost:8080/",
          "height": 279
        },
        "id": "iycJZj4-pI6G",
        "outputId": "d64393f1-d2de-47c6-97a1-8fe1d4c1ebd5"
      },
      "source": [
        "plt.plot(sumatra_dataf.loc[60:,(\"TVAL\")])\n",
        "plt.xlabel(\"EVENT NUMBER\")\n",
        "plt.ylabel(\"T VALUE\")\n",
        "plt.show()"
      ],
      "execution_count": null,
      "outputs": [
        {
          "output_type": "display_data",
          "data": {
            "image/png": "[encoded data removed]",
            "text/plain": [
              "<Figure size 432x288 with 1 Axes>"
            ]
          },
          "metadata": {
            "tags": []
          }
        }
      ]
    },
    {
      "cell_type": "markdown",
      "metadata": {
        "id": "z8DTH7fZpI6N"
      },
      "source": [
        "MEAN MAGNITUDE (SEISMICITY INDICATOR)"
      ]
    },
    {
      "cell_type": "code",
      "metadata": {
        "colab": {
          "base_uri": "https://localhost:8080/",
          "height": 279
        },
        "id": "dBZRFbi8pI6P",
        "outputId": "e3ab5591-63a8-4be9-8d05-3e938a502a74"
      },
      "source": [
        "plt.plot(final_dataf[\"MEAN_MAG\"])\n",
        "plt.xlabel(\"EVENT NUMBER\")\n",
        "plt.ylabel(\"MEAN MAGNITUDE\")\n",
        "plt.show()"
      ],
      "execution_count": null,
      "outputs": [
        {
          "output_type": "display_data",
          "data": {
            "image/png": "[encoded data removed]",
            "text/plain": [
              "<Figure size 432x288 with 1 Axes>"
            ]
          },
          "metadata": {
            "tags": []
          }
        }
      ]
    },
    {
      "cell_type": "markdown",
      "metadata": {
        "id": "WA-7UONrpI6Z"
      },
      "source": [
        "ENERGY ((SEISMICITY INDICATOR)"
      ]
    },
    {
      "cell_type": "code",
      "metadata": {
        "colab": {
          "base_uri": "https://localhost:8080/",
          "height": 279
        },
        "id": "Y2yxgwx_pI6a",
        "outputId": "dcbcd99a-e798-46fd-bfc1-b36e62dd45c4"
      },
      "source": [
        "plt.plot(final_dataf[\"ENERGY\"])\n",
        "plt.xlabel(\"EVENT NUMBER\")\n",
        "plt.ylabel(\"ENERGY\")\n",
        "plt.show()"
      ],
      "execution_count": null,
      "outputs": [
        {
          "output_type": "display_data",
          "data": {
            "image/png": "[encoded data removed]",
            "text/plain": [
              "<Figure size 432x288 with 1 Axes>"
            ]
          },
          "metadata": {
            "tags": []
          }
        }
      ]
    },
    {
      "cell_type": "markdown",
      "metadata": {
        "id": "bVy_QqthpI6h"
      },
      "source": [
        "ETA VALUE (SEISMICITY INDICATOR)"
      ]
    },
    {
      "cell_type": "code",
      "metadata": {
        "colab": {
          "base_uri": "https://localhost:8080/",
          "height": 279
        },
        "id": "WSiDRyTvpI6i",
        "outputId": "08563e3a-b1e1-41ec-f992-4164a85d1d06"
      },
      "source": [
        "plt.plot(np.array(final_dataf[\"ETA\"])*-1)\n",
        "plt.xlabel(\"EVENT NUMBER\")\n",
        "plt.ylabel(\"DEVIATION (ETA VALUE)\")\n",
        "plt.show()"
      ],
      "execution_count": null,
      "outputs": [
        {
          "output_type": "display_data",
          "data": {
            "image/png": "[encoded data removed]",
            "text/plain": [
              "<Figure size 432x288 with 1 Axes>"
            ]
          },
          "metadata": {
            "tags": []
          }
        }
      ]
    },
    {
      "cell_type": "markdown",
      "metadata": {
        "id": "icT9FSoipI6o"
      },
      "source": [
        "MAGNITUDE DEFICIT (SEISMICITY INDICATOR)"
      ]
    },
    {
      "cell_type": "code",
      "metadata": {
        "colab": {
          "base_uri": "https://localhost:8080/",
          "height": 279
        },
        "id": "YYaYSzpIpI6q",
        "outputId": "d994d4d3-a003-49ea-9e86-dea01e488ccb"
      },
      "source": [
        "plt.plot(final_dataf[\"MAG_DEF\"])\n",
        "plt.xlabel(\"EVENT NUMBER\")\n",
        "plt.ylabel(\"MAGNITUDE DEFICIT\")\n",
        "plt.show()"
      ],
      "execution_count": null,
      "outputs": [
        {
          "output_type": "display_data",
          "data": {
            "image/png": "[encoded data removed]",
            "text/plain": [
              "<Figure size 432x288 with 1 Axes>"
            ]
          },
          "metadata": {
            "tags": []
          }
        }
      ]
    },
    {
      "cell_type": "markdown",
      "metadata": {
        "id": "kYYGmg2NpXap"
      },
      "source": [
        "#SULAWESI DATA"
      ]
    },
    {
      "cell_type": "markdown",
      "metadata": {
        "id": "P1H9b2cWqatH"
      },
      "source": [
        "**MIN 3.5 DATA**"
      ]
    },
    {
      "cell_type": "code",
      "metadata": {
        "colab": {
          "base_uri": "https://localhost:8080/",
          "height": 402
        },
        "id": "Z7eBYIwQpugp",
        "outputId": "7f92c823-fb92-4d34-dbce-0bf186e2adbb"
      },
      "source": [
        "sulawesi_dataf = pd.read_excel('Sulawesi Min3.5 data.xlsx')\n",
        "sulawesi_dataf"
      ],
      "execution_count": null,
      "outputs": [
        {
          "output_type": "execute_result",
          "data": {
            "text/html": [
              "<div>\n",
              "<style scoped>\n",
              "    .dataframe tbody tr th:only-of-type {\n",
              "        vertical-align: middle;\n",
              "    }\n",
              "\n",
              "    .dataframe tbody tr th {\n",
              "        vertical-align: top;\n",
              "    }\n",
              "\n",
              "    .dataframe thead th {\n",
              "        text-align: right;\n",
              "    }\n",
              "</style>\n",
              "<table border=\"1\" class=\"dataframe\">\n",
              "  <thead>\n",
              "    <tr style=\"text-align: right;\">\n",
              "      <th></th>\n",
              "      <th>Date</th>\n",
              "      <th>Time</th>\n",
              "      <th>Lat</th>\n",
              "      <th>Long</th>\n",
              "      <th>Depth</th>\n",
              "      <th>Mag</th>\n",
              "    </tr>\n",
              "  </thead>\n",
              "  <tbody>\n",
              "    <tr>\n",
              "      <th>0</th>\n",
              "      <td>1963-02-06</td>\n",
              "      <td>00:00:00</td>\n",
              "      <td>0.000</td>\n",
              "      <td>124.000</td>\n",
              "      <td>139.0</td>\n",
              "      <td>4.2</td>\n",
              "    </tr>\n",
              "    <tr>\n",
              "      <th>1</th>\n",
              "      <td>1963-02-10</td>\n",
              "      <td>00:00:00</td>\n",
              "      <td>4.100</td>\n",
              "      <td>126.300</td>\n",
              "      <td>40.0</td>\n",
              "      <td>4.3</td>\n",
              "    </tr>\n",
              "    <tr>\n",
              "      <th>2</th>\n",
              "      <td>1963-02-14</td>\n",
              "      <td>00:00:00</td>\n",
              "      <td>-7.400</td>\n",
              "      <td>128.200</td>\n",
              "      <td>197.0</td>\n",
              "      <td>5.3</td>\n",
              "    </tr>\n",
              "    <tr>\n",
              "      <th>3</th>\n",
              "      <td>1963-02-18</td>\n",
              "      <td>00:00:00</td>\n",
              "      <td>0.800</td>\n",
              "      <td>125.100</td>\n",
              "      <td>56.0</td>\n",
              "      <td>4.3</td>\n",
              "    </tr>\n",
              "    <tr>\n",
              "      <th>4</th>\n",
              "      <td>1963-02-21</td>\n",
              "      <td>00:00:00</td>\n",
              "      <td>0.800</td>\n",
              "      <td>126.700</td>\n",
              "      <td>107.0</td>\n",
              "      <td>4.4</td>\n",
              "    </tr>\n",
              "    <tr>\n",
              "      <th>...</th>\n",
              "      <td>...</td>\n",
              "      <td>...</td>\n",
              "      <td>...</td>\n",
              "      <td>...</td>\n",
              "      <td>...</td>\n",
              "      <td>...</td>\n",
              "    </tr>\n",
              "    <tr>\n",
              "      <th>34622</th>\n",
              "      <td>2019-12-27</td>\n",
              "      <td>00:00:00</td>\n",
              "      <td>2.889</td>\n",
              "      <td>127.343</td>\n",
              "      <td>75.0</td>\n",
              "      <td>4.5</td>\n",
              "    </tr>\n",
              "    <tr>\n",
              "      <th>34623</th>\n",
              "      <td>2019-12-28</td>\n",
              "      <td>00:00:00</td>\n",
              "      <td>1.550</td>\n",
              "      <td>128.570</td>\n",
              "      <td>41.0</td>\n",
              "      <td>5.0</td>\n",
              "    </tr>\n",
              "    <tr>\n",
              "      <th>34624</th>\n",
              "      <td>2019-12-29</td>\n",
              "      <td>00:00:00</td>\n",
              "      <td>4.690</td>\n",
              "      <td>125.480</td>\n",
              "      <td>10.0</td>\n",
              "      <td>5.2</td>\n",
              "    </tr>\n",
              "    <tr>\n",
              "      <th>34625</th>\n",
              "      <td>2019-12-29</td>\n",
              "      <td>00:00:00</td>\n",
              "      <td>4.670</td>\n",
              "      <td>125.450</td>\n",
              "      <td>22.0</td>\n",
              "      <td>4.8</td>\n",
              "    </tr>\n",
              "    <tr>\n",
              "      <th>34626</th>\n",
              "      <td>2019-12-29</td>\n",
              "      <td>00:00:00</td>\n",
              "      <td>4.750</td>\n",
              "      <td>125.190</td>\n",
              "      <td>57.0</td>\n",
              "      <td>4.7</td>\n",
              "    </tr>\n",
              "  </tbody>\n",
              "</table>\n",
              "<p>34627 rows × 6 columns</p>\n",
              "</div>"
            ],
            "text/plain": [
              "            Date      Time    Lat     Long  Depth  Mag\n",
              "0     1963-02-06  00:00:00  0.000  124.000  139.0  4.2\n",
              "1     1963-02-10  00:00:00  4.100  126.300   40.0  4.3\n",
              "2     1963-02-14  00:00:00 -7.400  128.200  197.0  5.3\n",
              "3     1963-02-18  00:00:00  0.800  125.100   56.0  4.3\n",
              "4     1963-02-21  00:00:00  0.800  126.700  107.0  4.4\n",
              "...          ...       ...    ...      ...    ...  ...\n",
              "34622 2019-12-27  00:00:00  2.889  127.343   75.0  4.5\n",
              "34623 2019-12-28  00:00:00  1.550  128.570   41.0  5.0\n",
              "34624 2019-12-29  00:00:00  4.690  125.480   10.0  5.2\n",
              "34625 2019-12-29  00:00:00  4.670  125.450   22.0  4.8\n",
              "34626 2019-12-29  00:00:00  4.750  125.190   57.0  4.7\n",
              "\n",
              "[34627 rows x 6 columns]"
            ]
          },
          "metadata": {
            "tags": []
          },
          "execution_count": 13
        }
      ]
    },
    {
      "cell_type": "code",
      "metadata": {
        "id": "MdXRrE47puhQ"
      },
      "source": [
        "sulawesi_dataf = sulawesi_dataf.rename(columns={'Date':'DATE',\n",
        "                              'Time':'TIME',\n",
        "                              'Lat':'LATITUDE',\n",
        "                              'Long':'LONGITUDE',\n",
        "                              'Depth':'DEPTH',\n",
        "                              'Mag':'MAG'})"
      ],
      "execution_count": null,
      "outputs": []
    },
    {
      "cell_type": "code",
      "metadata": {
        "id": "Vk9C6GWmpuhX"
      },
      "source": [
        "convert_dict = {\"DATE\":str,\"TIME\":str}\n",
        "sulawesi_dataf = sulawesi_dataf.astype(convert_dict)"
      ],
      "execution_count": null,
      "outputs": []
    },
    {
      "cell_type": "code",
      "metadata": {
        "id": "xBtQRxl1puhe"
      },
      "source": [
        "sulawesi_dataf['DATETIME'] = sulawesi_dataf[\"DATE\"] + \" \" + sulawesi_dataf[\"TIME\"]\n",
        "sulawesi_dataf['DATETIME'] = pd.to_datetime(sulawesi_dataf[\"DATETIME\"], format='%Y/%m/%d %H:%M:%S')"
      ],
      "execution_count": null,
      "outputs": []
    },
    {
      "cell_type": "code",
      "metadata": {
        "id": "Ryo7Gle4puhl"
      },
      "source": [
        "sulawesi_dataf[\"DATE\"] = pd.to_datetime(sulawesi_dataf[\"DATE\"])"
      ],
      "execution_count": null,
      "outputs": []
    },
    {
      "cell_type": "code",
      "metadata": {
        "colab": {
          "base_uri": "https://localhost:8080/"
        },
        "id": "Gt2GugqMqIPu",
        "outputId": "8633551d-2736-4545-e079-7c27ddba3f93"
      },
      "source": [
        "sulawesi_dataf = process_data(sulawesi_dataf)"
      ],
      "execution_count": null,
      "outputs": [
        {
          "output_type": "stream",
          "text": [
            "/usr/local/lib/python3.6/dist-packages/ipykernel_launcher.py:28: RuntimeWarning: divide by zero encountered in true_divide\n"
          ],
          "name": "stderr"
        }
      ]
    },
    {
      "cell_type": "code",
      "metadata": {
        "colab": {
          "base_uri": "https://localhost:8080/",
          "height": 590
        },
        "id": "AyTELRa0tDzh",
        "outputId": "8ae65760-0c5a-4b74-9d5f-d7c15b6eb3c1"
      },
      "source": [
        "sulawesi_dataf"
      ],
      "execution_count": null,
      "outputs": [
        {
          "output_type": "execute_result",
          "data": {
            "text/html": [
              "<div>\n",
              "<style scoped>\n",
              "    .dataframe tbody tr th:only-of-type {\n",
              "        vertical-align: middle;\n",
              "    }\n",
              "\n",
              "    .dataframe tbody tr th {\n",
              "        vertical-align: top;\n",
              "    }\n",
              "\n",
              "    .dataframe thead th {\n",
              "        text-align: right;\n",
              "    }\n",
              "</style>\n",
              "<table border=\"1\" class=\"dataframe\">\n",
              "  <thead>\n",
              "    <tr style=\"text-align: right;\">\n",
              "      <th></th>\n",
              "      <th>DATE</th>\n",
              "      <th>TIME</th>\n",
              "      <th>LATITUDE</th>\n",
              "      <th>LONGITUDE</th>\n",
              "      <th>DEPTH</th>\n",
              "      <th>MAG</th>\n",
              "      <th>DATETIME</th>\n",
              "      <th>TVAL</th>\n",
              "      <th>MEAN_MAG</th>\n",
              "      <th>ENERGY</th>\n",
              "      <th>b</th>\n",
              "      <th>MAG_DEF</th>\n",
              "      <th>ETA</th>\n",
              "      <th>MU</th>\n",
              "      <th>c</th>\n",
              "      <th>NO_OF_EVENTS</th>\n",
              "    </tr>\n",
              "  </thead>\n",
              "  <tbody>\n",
              "    <tr>\n",
              "      <th>0</th>\n",
              "      <td>1963-02-06</td>\n",
              "      <td>00:00:00</td>\n",
              "      <td>0.000</td>\n",
              "      <td>124.000</td>\n",
              "      <td>139.0</td>\n",
              "      <td>4.2</td>\n",
              "      <td>1963-02-06</td>\n",
              "      <td>0</td>\n",
              "      <td>0.000</td>\n",
              "      <td>0.000000e+00</td>\n",
              "      <td>0.446588</td>\n",
              "      <td>-7.391975</td>\n",
              "      <td>-0.959359</td>\n",
              "      <td>0.00</td>\n",
              "      <td>0.000000</td>\n",
              "      <td>1</td>\n",
              "    </tr>\n",
              "    <tr>\n",
              "      <th>1</th>\n",
              "      <td>1963-02-10</td>\n",
              "      <td>00:00:00</td>\n",
              "      <td>4.100</td>\n",
              "      <td>126.300</td>\n",
              "      <td>40.0</td>\n",
              "      <td>4.3</td>\n",
              "      <td>1963-02-10</td>\n",
              "      <td>0</td>\n",
              "      <td>0.000</td>\n",
              "      <td>0.000000e+00</td>\n",
              "      <td>0.446588</td>\n",
              "      <td>-7.391975</td>\n",
              "      <td>-0.961866</td>\n",
              "      <td>0.00</td>\n",
              "      <td>0.000000</td>\n",
              "      <td>1</td>\n",
              "    </tr>\n",
              "    <tr>\n",
              "      <th>2</th>\n",
              "      <td>1963-02-14</td>\n",
              "      <td>00:00:00</td>\n",
              "      <td>-7.400</td>\n",
              "      <td>128.200</td>\n",
              "      <td>197.0</td>\n",
              "      <td>5.3</td>\n",
              "      <td>1963-02-14</td>\n",
              "      <td>0</td>\n",
              "      <td>0.000</td>\n",
              "      <td>0.000000e+00</td>\n",
              "      <td>0.446588</td>\n",
              "      <td>-7.391975</td>\n",
              "      <td>-0.982543</td>\n",
              "      <td>0.00</td>\n",
              "      <td>0.000000</td>\n",
              "      <td>1</td>\n",
              "    </tr>\n",
              "    <tr>\n",
              "      <th>3</th>\n",
              "      <td>1963-02-18</td>\n",
              "      <td>00:00:00</td>\n",
              "      <td>0.800</td>\n",
              "      <td>125.100</td>\n",
              "      <td>56.0</td>\n",
              "      <td>4.3</td>\n",
              "      <td>1963-02-18</td>\n",
              "      <td>0</td>\n",
              "      <td>0.000</td>\n",
              "      <td>0.000000e+00</td>\n",
              "      <td>0.446588</td>\n",
              "      <td>-7.391975</td>\n",
              "      <td>-0.961866</td>\n",
              "      <td>0.00</td>\n",
              "      <td>0.000000</td>\n",
              "      <td>1</td>\n",
              "    </tr>\n",
              "    <tr>\n",
              "      <th>4</th>\n",
              "      <td>1963-02-21</td>\n",
              "      <td>00:00:00</td>\n",
              "      <td>0.800</td>\n",
              "      <td>126.700</td>\n",
              "      <td>107.0</td>\n",
              "      <td>4.4</td>\n",
              "      <td>1963-02-21</td>\n",
              "      <td>0</td>\n",
              "      <td>0.000</td>\n",
              "      <td>0.000000e+00</td>\n",
              "      <td>0.446588</td>\n",
              "      <td>-7.391975</td>\n",
              "      <td>-0.964292</td>\n",
              "      <td>0.00</td>\n",
              "      <td>0.000000</td>\n",
              "      <td>1</td>\n",
              "    </tr>\n",
              "    <tr>\n",
              "      <th>...</th>\n",
              "      <td>...</td>\n",
              "      <td>...</td>\n",
              "      <td>...</td>\n",
              "      <td>...</td>\n",
              "      <td>...</td>\n",
              "      <td>...</td>\n",
              "      <td>...</td>\n",
              "      <td>...</td>\n",
              "      <td>...</td>\n",
              "      <td>...</td>\n",
              "      <td>...</td>\n",
              "      <td>...</td>\n",
              "      <td>...</td>\n",
              "      <td>...</td>\n",
              "      <td>...</td>\n",
              "      <td>...</td>\n",
              "    </tr>\n",
              "    <tr>\n",
              "      <th>34622</th>\n",
              "      <td>2019-12-27</td>\n",
              "      <td>00:00:00</td>\n",
              "      <td>2.889</td>\n",
              "      <td>127.343</td>\n",
              "      <td>75.0</td>\n",
              "      <td>4.5</td>\n",
              "      <td>2019-12-27</td>\n",
              "      <td>43</td>\n",
              "      <td>4.624</td>\n",
              "      <td>3.857924e+09</td>\n",
              "      <td>0.446588</td>\n",
              "      <td>-1.491975</td>\n",
              "      <td>-0.999311</td>\n",
              "      <td>0.82</td>\n",
              "      <td>1.422758</td>\n",
              "      <td>30</td>\n",
              "    </tr>\n",
              "    <tr>\n",
              "      <th>34623</th>\n",
              "      <td>2019-12-28</td>\n",
              "      <td>00:00:00</td>\n",
              "      <td>1.550</td>\n",
              "      <td>128.570</td>\n",
              "      <td>41.0</td>\n",
              "      <td>5.0</td>\n",
              "      <td>2019-12-28</td>\n",
              "      <td>44</td>\n",
              "      <td>4.638</td>\n",
              "      <td>3.800274e+09</td>\n",
              "      <td>0.446588</td>\n",
              "      <td>-1.491975</td>\n",
              "      <td>-0.999907</td>\n",
              "      <td>0.86</td>\n",
              "      <td>1.362383</td>\n",
              "      <td>10</td>\n",
              "    </tr>\n",
              "    <tr>\n",
              "      <th>34624</th>\n",
              "      <td>2019-12-29</td>\n",
              "      <td>00:00:00</td>\n",
              "      <td>4.690</td>\n",
              "      <td>125.480</td>\n",
              "      <td>10.0</td>\n",
              "      <td>5.2</td>\n",
              "      <td>2019-12-29</td>\n",
              "      <td>45</td>\n",
              "      <td>4.660</td>\n",
              "      <td>3.800234e+09</td>\n",
              "      <td>0.446588</td>\n",
              "      <td>-1.491975</td>\n",
              "      <td>-0.999194</td>\n",
              "      <td>0.88</td>\n",
              "      <td>1.323722</td>\n",
              "      <td>6</td>\n",
              "    </tr>\n",
              "    <tr>\n",
              "      <th>34625</th>\n",
              "      <td>2019-12-29</td>\n",
              "      <td>00:00:00</td>\n",
              "      <td>4.670</td>\n",
              "      <td>125.450</td>\n",
              "      <td>22.0</td>\n",
              "      <td>4.8</td>\n",
              "      <td>2019-12-29</td>\n",
              "      <td>45</td>\n",
              "      <td>4.656</td>\n",
              "      <td>3.742391e+09</td>\n",
              "      <td>0.446588</td>\n",
              "      <td>-1.491975</td>\n",
              "      <td>-0.999809</td>\n",
              "      <td>0.90</td>\n",
              "      <td>1.286336</td>\n",
              "      <td>18</td>\n",
              "    </tr>\n",
              "    <tr>\n",
              "      <th>34626</th>\n",
              "      <td>2019-12-29</td>\n",
              "      <td>00:00:00</td>\n",
              "      <td>4.750</td>\n",
              "      <td>125.190</td>\n",
              "      <td>57.0</td>\n",
              "      <td>4.7</td>\n",
              "      <td>2019-12-29</td>\n",
              "      <td>45</td>\n",
              "      <td>4.660</td>\n",
              "      <td>3.762915e+09</td>\n",
              "      <td>0.446588</td>\n",
              "      <td>-1.491975</td>\n",
              "      <td>-0.999712</td>\n",
              "      <td>0.90</td>\n",
              "      <td>1.286336</td>\n",
              "      <td>21</td>\n",
              "    </tr>\n",
              "  </tbody>\n",
              "</table>\n",
              "<p>34627 rows × 16 columns</p>\n",
              "</div>"
            ],
            "text/plain": [
              "             DATE      TIME  LATITUDE  ...    MU         c  NO_OF_EVENTS\n",
              "0      1963-02-06  00:00:00     0.000  ...  0.00  0.000000             1\n",
              "1      1963-02-10  00:00:00     4.100  ...  0.00  0.000000             1\n",
              "2      1963-02-14  00:00:00    -7.400  ...  0.00  0.000000             1\n",
              "3      1963-02-18  00:00:00     0.800  ...  0.00  0.000000             1\n",
              "4      1963-02-21  00:00:00     0.800  ...  0.00  0.000000             1\n",
              "...           ...       ...       ...  ...   ...       ...           ...\n",
              "34622  2019-12-27  00:00:00     2.889  ...  0.82  1.422758            30\n",
              "34623  2019-12-28  00:00:00     1.550  ...  0.86  1.362383            10\n",
              "34624  2019-12-29  00:00:00     4.690  ...  0.88  1.323722             6\n",
              "34625  2019-12-29  00:00:00     4.670  ...  0.90  1.286336            18\n",
              "34626  2019-12-29  00:00:00     4.750  ...  0.90  1.286336            21\n",
              "\n",
              "[34627 rows x 16 columns]"
            ]
          },
          "metadata": {
            "tags": []
          },
          "execution_count": 196
        }
      ]
    },
    {
      "cell_type": "code",
      "metadata": {
        "colab": {
          "base_uri": "https://localhost:8080/"
        },
        "id": "R4gbdDVUtPEV",
        "outputId": "3d7202be-10fe-4daa-8aba-8e4e31abd638"
      },
      "source": [
        "check_all_nan(sulawesi_dataf)"
      ],
      "execution_count": null,
      "outputs": [
        {
          "output_type": "stream",
          "text": [
            "nan not found\n"
          ],
          "name": "stdout"
        }
      ]
    },
    {
      "cell_type": "code",
      "metadata": {
        "id": "QcwtirQatMjm"
      },
      "source": [
        "#sulawesi_dataf.to_csv(\"sulawesi3.5_dataf.csv\")"
      ],
      "execution_count": null,
      "outputs": []
    },
    {
      "cell_type": "code",
      "metadata": {
        "id": "JTwAEer3vp8p"
      },
      "source": [
        "sulawesi_output = get_output(sulawesi_dataf,5.5)\n",
        "pd_dict = {\"OUTPUT\":sulawesi_output}\n",
        "sulawesi_dataf_output = pd.DataFrame(pd_dict)\n",
        "sulawesi_dataf_output.to_csv(\"sulawesi5.5_output.csv\")"
      ],
      "execution_count": null,
      "outputs": []
    },
    {
      "cell_type": "code",
      "metadata": {
        "colab": {
          "base_uri": "https://localhost:8080/"
        },
        "id": "7EI5_lpxlzLS",
        "outputId": "02a16f5f-77ca-46a1-a4cf-c50ab829b845"
      },
      "source": [
        "np.unique(np.array(sulawesi_dataf_output),return_counts=True)"
      ],
      "execution_count": null,
      "outputs": [
        {
          "output_type": "execute_result",
          "data": {
            "text/plain": [
              "(array([0, 1]), array([15577, 19050]))"
            ]
          },
          "metadata": {
            "tags": []
          },
          "execution_count": 175
        }
      ]
    },
    {
      "cell_type": "markdown",
      "metadata": {
        "id": "azIlh9U5qU6v"
      },
      "source": [
        "**MIN 4 DATA**\n"
      ]
    },
    {
      "cell_type": "code",
      "metadata": {
        "colab": {
          "base_uri": "https://localhost:8080/",
          "height": 402
        },
        "id": "0hyO9fQmqfwd",
        "outputId": "e9253272-6888-4739-cc88-57e70a91872c"
      },
      "source": [
        "sulawesi2_dataf = pd.read_excel('Sulawesi Min4 data.xlsx')\n",
        "sulawesi2_dataf"
      ],
      "execution_count": null,
      "outputs": [
        {
          "output_type": "execute_result",
          "data": {
            "text/html": [
              "<div>\n",
              "<style scoped>\n",
              "    .dataframe tbody tr th:only-of-type {\n",
              "        vertical-align: middle;\n",
              "    }\n",
              "\n",
              "    .dataframe tbody tr th {\n",
              "        vertical-align: top;\n",
              "    }\n",
              "\n",
              "    .dataframe thead th {\n",
              "        text-align: right;\n",
              "    }\n",
              "</style>\n",
              "<table border=\"1\" class=\"dataframe\">\n",
              "  <thead>\n",
              "    <tr style=\"text-align: right;\">\n",
              "      <th></th>\n",
              "      <th>Date</th>\n",
              "      <th>Time</th>\n",
              "      <th>Lat</th>\n",
              "      <th>Long</th>\n",
              "      <th>Depth</th>\n",
              "      <th>Mag</th>\n",
              "    </tr>\n",
              "  </thead>\n",
              "  <tbody>\n",
              "    <tr>\n",
              "      <th>0</th>\n",
              "      <td>1963-02-06</td>\n",
              "      <td>00:00:00</td>\n",
              "      <td>0.000</td>\n",
              "      <td>124.000</td>\n",
              "      <td>139.0</td>\n",
              "      <td>4.2</td>\n",
              "    </tr>\n",
              "    <tr>\n",
              "      <th>1</th>\n",
              "      <td>1963-02-10</td>\n",
              "      <td>00:00:00</td>\n",
              "      <td>4.100</td>\n",
              "      <td>126.300</td>\n",
              "      <td>40.0</td>\n",
              "      <td>4.3</td>\n",
              "    </tr>\n",
              "    <tr>\n",
              "      <th>2</th>\n",
              "      <td>1963-02-14</td>\n",
              "      <td>00:00:00</td>\n",
              "      <td>-7.400</td>\n",
              "      <td>128.200</td>\n",
              "      <td>197.0</td>\n",
              "      <td>5.3</td>\n",
              "    </tr>\n",
              "    <tr>\n",
              "      <th>3</th>\n",
              "      <td>1963-02-18</td>\n",
              "      <td>00:00:00</td>\n",
              "      <td>0.800</td>\n",
              "      <td>125.100</td>\n",
              "      <td>56.0</td>\n",
              "      <td>4.3</td>\n",
              "    </tr>\n",
              "    <tr>\n",
              "      <th>4</th>\n",
              "      <td>1963-02-21</td>\n",
              "      <td>00:00:00</td>\n",
              "      <td>0.800</td>\n",
              "      <td>126.700</td>\n",
              "      <td>107.0</td>\n",
              "      <td>4.4</td>\n",
              "    </tr>\n",
              "    <tr>\n",
              "      <th>...</th>\n",
              "      <td>...</td>\n",
              "      <td>...</td>\n",
              "      <td>...</td>\n",
              "      <td>...</td>\n",
              "      <td>...</td>\n",
              "      <td>...</td>\n",
              "    </tr>\n",
              "    <tr>\n",
              "      <th>27879</th>\n",
              "      <td>2019-12-27</td>\n",
              "      <td>00:00:00</td>\n",
              "      <td>2.889</td>\n",
              "      <td>127.343</td>\n",
              "      <td>75.0</td>\n",
              "      <td>4.5</td>\n",
              "    </tr>\n",
              "    <tr>\n",
              "      <th>27880</th>\n",
              "      <td>2019-12-28</td>\n",
              "      <td>00:00:00</td>\n",
              "      <td>1.550</td>\n",
              "      <td>128.570</td>\n",
              "      <td>41.0</td>\n",
              "      <td>5.0</td>\n",
              "    </tr>\n",
              "    <tr>\n",
              "      <th>27881</th>\n",
              "      <td>2019-12-29</td>\n",
              "      <td>00:00:00</td>\n",
              "      <td>4.690</td>\n",
              "      <td>125.480</td>\n",
              "      <td>10.0</td>\n",
              "      <td>5.2</td>\n",
              "    </tr>\n",
              "    <tr>\n",
              "      <th>27882</th>\n",
              "      <td>2019-12-29</td>\n",
              "      <td>00:00:00</td>\n",
              "      <td>4.670</td>\n",
              "      <td>125.450</td>\n",
              "      <td>22.0</td>\n",
              "      <td>4.8</td>\n",
              "    </tr>\n",
              "    <tr>\n",
              "      <th>27883</th>\n",
              "      <td>2019-12-29</td>\n",
              "      <td>00:00:00</td>\n",
              "      <td>4.750</td>\n",
              "      <td>125.190</td>\n",
              "      <td>57.0</td>\n",
              "      <td>4.7</td>\n",
              "    </tr>\n",
              "  </tbody>\n",
              "</table>\n",
              "<p>27884 rows × 6 columns</p>\n",
              "</div>"
            ],
            "text/plain": [
              "            Date      Time    Lat     Long  Depth  Mag\n",
              "0     1963-02-06  00:00:00  0.000  124.000  139.0  4.2\n",
              "1     1963-02-10  00:00:00  4.100  126.300   40.0  4.3\n",
              "2     1963-02-14  00:00:00 -7.400  128.200  197.0  5.3\n",
              "3     1963-02-18  00:00:00  0.800  125.100   56.0  4.3\n",
              "4     1963-02-21  00:00:00  0.800  126.700  107.0  4.4\n",
              "...          ...       ...    ...      ...    ...  ...\n",
              "27879 2019-12-27  00:00:00  2.889  127.343   75.0  4.5\n",
              "27880 2019-12-28  00:00:00  1.550  128.570   41.0  5.0\n",
              "27881 2019-12-29  00:00:00  4.690  125.480   10.0  5.2\n",
              "27882 2019-12-29  00:00:00  4.670  125.450   22.0  4.8\n",
              "27883 2019-12-29  00:00:00  4.750  125.190   57.0  4.7\n",
              "\n",
              "[27884 rows x 6 columns]"
            ]
          },
          "metadata": {
            "tags": []
          },
          "execution_count": 14
        }
      ]
    },
    {
      "cell_type": "code",
      "metadata": {
        "id": "Sn5-_Vd8qfwt"
      },
      "source": [
        "sulawesi2_dataf = sulawesi2_dataf.rename(columns={'Date':'DATE',\n",
        "                              'Time':'TIME',\n",
        "                              'Lat':'LATITUDE',\n",
        "                              'Long':'LONGITUDE',\n",
        "                              'Depth':'DEPTH',\n",
        "                              'Mag':'MAG'})"
      ],
      "execution_count": null,
      "outputs": []
    },
    {
      "cell_type": "code",
      "metadata": {
        "id": "CdGok3BJqfw1"
      },
      "source": [
        "convert_dict = {\"DATE\":str,\"TIME\":str}\n",
        "sulawesi2_dataf = sulawesi2_dataf.astype(convert_dict)"
      ],
      "execution_count": null,
      "outputs": []
    },
    {
      "cell_type": "code",
      "metadata": {
        "id": "ZQXQPUdhqfw8"
      },
      "source": [
        "sulawesi2_dataf['DATETIME'] = sulawesi2_dataf[\"DATE\"] + \" \" + sulawesi2_dataf[\"TIME\"]\n",
        "sulawesi2_dataf['DATETIME'] = pd.to_datetime(sulawesi2_dataf[\"DATETIME\"], format='%Y/%m/%d %H:%M:%S')"
      ],
      "execution_count": null,
      "outputs": []
    },
    {
      "cell_type": "code",
      "metadata": {
        "id": "X2PbDs9oqfxD"
      },
      "source": [
        "sulawesi2_dataf[\"DATE\"] = pd.to_datetime(sulawesi2_dataf[\"DATE\"])"
      ],
      "execution_count": null,
      "outputs": []
    },
    {
      "cell_type": "code",
      "metadata": {
        "colab": {
          "base_uri": "https://localhost:8080/"
        },
        "id": "epZ8y3xQqfxN",
        "outputId": "cce4d907-516d-4be5-9232-1ede5cae1bbe"
      },
      "source": [
        "sulawesi2_dataf = process_data(sulawesi2_dataf)"
      ],
      "execution_count": null,
      "outputs": [
        {
          "output_type": "stream",
          "text": [
            "/usr/local/lib/python3.6/dist-packages/ipykernel_launcher.py:28: RuntimeWarning: divide by zero encountered in true_divide\n"
          ],
          "name": "stderr"
        }
      ]
    },
    {
      "cell_type": "code",
      "metadata": {
        "colab": {
          "base_uri": "https://localhost:8080/",
          "height": 590
        },
        "id": "kCt8nu6ttUsK",
        "outputId": "e227db49-ab8e-4fd3-9416-932f36e1706a"
      },
      "source": [
        "sulawesi2_dataf"
      ],
      "execution_count": null,
      "outputs": [
        {
          "output_type": "execute_result",
          "data": {
            "text/html": [
              "<div>\n",
              "<style scoped>\n",
              "    .dataframe tbody tr th:only-of-type {\n",
              "        vertical-align: middle;\n",
              "    }\n",
              "\n",
              "    .dataframe tbody tr th {\n",
              "        vertical-align: top;\n",
              "    }\n",
              "\n",
              "    .dataframe thead th {\n",
              "        text-align: right;\n",
              "    }\n",
              "</style>\n",
              "<table border=\"1\" class=\"dataframe\">\n",
              "  <thead>\n",
              "    <tr style=\"text-align: right;\">\n",
              "      <th></th>\n",
              "      <th>DATE</th>\n",
              "      <th>TIME</th>\n",
              "      <th>LATITUDE</th>\n",
              "      <th>LONGITUDE</th>\n",
              "      <th>DEPTH</th>\n",
              "      <th>MAG</th>\n",
              "      <th>DATETIME</th>\n",
              "      <th>TVAL</th>\n",
              "      <th>MEAN_MAG</th>\n",
              "      <th>ENERGY</th>\n",
              "      <th>b</th>\n",
              "      <th>MAG_DEF</th>\n",
              "      <th>ETA</th>\n",
              "      <th>MU</th>\n",
              "      <th>c</th>\n",
              "      <th>NO_OF_EVENTS</th>\n",
              "    </tr>\n",
              "  </thead>\n",
              "  <tbody>\n",
              "    <tr>\n",
              "      <th>0</th>\n",
              "      <td>1963-02-06</td>\n",
              "      <td>00:00:00</td>\n",
              "      <td>0.000</td>\n",
              "      <td>124.000</td>\n",
              "      <td>139.0</td>\n",
              "      <td>4.2</td>\n",
              "      <td>1963-02-06</td>\n",
              "      <td>0</td>\n",
              "      <td>0.000</td>\n",
              "      <td>0.000000e+00</td>\n",
              "      <td>0.670699</td>\n",
              "      <td>-6.597673</td>\n",
              "      <td>-0.948279</td>\n",
              "      <td>0.00</td>\n",
              "      <td>0.000000</td>\n",
              "      <td>1</td>\n",
              "    </tr>\n",
              "    <tr>\n",
              "      <th>1</th>\n",
              "      <td>1963-02-10</td>\n",
              "      <td>00:00:00</td>\n",
              "      <td>4.100</td>\n",
              "      <td>126.300</td>\n",
              "      <td>40.0</td>\n",
              "      <td>4.3</td>\n",
              "      <td>1963-02-10</td>\n",
              "      <td>0</td>\n",
              "      <td>0.000</td>\n",
              "      <td>0.000000e+00</td>\n",
              "      <td>0.670699</td>\n",
              "      <td>-6.597673</td>\n",
              "      <td>-0.952504</td>\n",
              "      <td>0.00</td>\n",
              "      <td>0.000000</td>\n",
              "      <td>1</td>\n",
              "    </tr>\n",
              "    <tr>\n",
              "      <th>2</th>\n",
              "      <td>1963-02-14</td>\n",
              "      <td>00:00:00</td>\n",
              "      <td>-7.400</td>\n",
              "      <td>128.200</td>\n",
              "      <td>197.0</td>\n",
              "      <td>5.3</td>\n",
              "      <td>1963-02-14</td>\n",
              "      <td>0</td>\n",
              "      <td>0.000</td>\n",
              "      <td>0.000000e+00</td>\n",
              "      <td>0.670699</td>\n",
              "      <td>-6.597673</td>\n",
              "      <td>-0.984850</td>\n",
              "      <td>0.00</td>\n",
              "      <td>0.000000</td>\n",
              "      <td>1</td>\n",
              "    </tr>\n",
              "    <tr>\n",
              "      <th>3</th>\n",
              "      <td>1963-02-18</td>\n",
              "      <td>00:00:00</td>\n",
              "      <td>0.800</td>\n",
              "      <td>125.100</td>\n",
              "      <td>56.0</td>\n",
              "      <td>4.3</td>\n",
              "      <td>1963-02-18</td>\n",
              "      <td>0</td>\n",
              "      <td>0.000</td>\n",
              "      <td>0.000000e+00</td>\n",
              "      <td>0.670699</td>\n",
              "      <td>-6.597673</td>\n",
              "      <td>-0.952504</td>\n",
              "      <td>0.00</td>\n",
              "      <td>0.000000</td>\n",
              "      <td>1</td>\n",
              "    </tr>\n",
              "    <tr>\n",
              "      <th>4</th>\n",
              "      <td>1963-02-21</td>\n",
              "      <td>00:00:00</td>\n",
              "      <td>0.800</td>\n",
              "      <td>126.700</td>\n",
              "      <td>107.0</td>\n",
              "      <td>4.4</td>\n",
              "      <td>1963-02-21</td>\n",
              "      <td>0</td>\n",
              "      <td>0.000</td>\n",
              "      <td>0.000000e+00</td>\n",
              "      <td>0.670699</td>\n",
              "      <td>-6.597673</td>\n",
              "      <td>-0.956548</td>\n",
              "      <td>0.00</td>\n",
              "      <td>0.000000</td>\n",
              "      <td>1</td>\n",
              "    </tr>\n",
              "    <tr>\n",
              "      <th>...</th>\n",
              "      <td>...</td>\n",
              "      <td>...</td>\n",
              "      <td>...</td>\n",
              "      <td>...</td>\n",
              "      <td>...</td>\n",
              "      <td>...</td>\n",
              "      <td>...</td>\n",
              "      <td>...</td>\n",
              "      <td>...</td>\n",
              "      <td>...</td>\n",
              "      <td>...</td>\n",
              "      <td>...</td>\n",
              "      <td>...</td>\n",
              "      <td>...</td>\n",
              "      <td>...</td>\n",
              "      <td>...</td>\n",
              "    </tr>\n",
              "    <tr>\n",
              "      <th>27879</th>\n",
              "      <td>2019-12-27</td>\n",
              "      <td>00:00:00</td>\n",
              "      <td>2.889</td>\n",
              "      <td>127.343</td>\n",
              "      <td>75.0</td>\n",
              "      <td>4.5</td>\n",
              "      <td>2019-12-27</td>\n",
              "      <td>43</td>\n",
              "      <td>4.680</td>\n",
              "      <td>4.150432e+09</td>\n",
              "      <td>0.670699</td>\n",
              "      <td>-0.697673</td>\n",
              "      <td>-0.999807</td>\n",
              "      <td>0.82</td>\n",
              "      <td>1.422758</td>\n",
              "      <td>32</td>\n",
              "    </tr>\n",
              "    <tr>\n",
              "      <th>27880</th>\n",
              "      <td>2019-12-28</td>\n",
              "      <td>00:00:00</td>\n",
              "      <td>1.550</td>\n",
              "      <td>128.570</td>\n",
              "      <td>41.0</td>\n",
              "      <td>5.0</td>\n",
              "      <td>2019-12-28</td>\n",
              "      <td>44</td>\n",
              "      <td>4.666</td>\n",
              "      <td>3.955515e+09</td>\n",
              "      <td>0.670699</td>\n",
              "      <td>-0.697673</td>\n",
              "      <td>-0.999982</td>\n",
              "      <td>0.86</td>\n",
              "      <td>1.362383</td>\n",
              "      <td>11</td>\n",
              "    </tr>\n",
              "    <tr>\n",
              "      <th>27881</th>\n",
              "      <td>2019-12-29</td>\n",
              "      <td>00:00:00</td>\n",
              "      <td>4.690</td>\n",
              "      <td>125.480</td>\n",
              "      <td>10.0</td>\n",
              "      <td>5.2</td>\n",
              "      <td>2019-12-29</td>\n",
              "      <td>45</td>\n",
              "      <td>4.660</td>\n",
              "      <td>3.800234e+09</td>\n",
              "      <td>0.670699</td>\n",
              "      <td>-0.697673</td>\n",
              "      <td>-0.999493</td>\n",
              "      <td>0.88</td>\n",
              "      <td>1.323722</td>\n",
              "      <td>6</td>\n",
              "    </tr>\n",
              "    <tr>\n",
              "      <th>27882</th>\n",
              "      <td>2019-12-29</td>\n",
              "      <td>00:00:00</td>\n",
              "      <td>4.670</td>\n",
              "      <td>125.450</td>\n",
              "      <td>22.0</td>\n",
              "      <td>4.8</td>\n",
              "      <td>2019-12-29</td>\n",
              "      <td>45</td>\n",
              "      <td>4.656</td>\n",
              "      <td>3.742391e+09</td>\n",
              "      <td>0.670699</td>\n",
              "      <td>-0.697673</td>\n",
              "      <td>-0.999951</td>\n",
              "      <td>0.90</td>\n",
              "      <td>1.286336</td>\n",
              "      <td>18</td>\n",
              "    </tr>\n",
              "    <tr>\n",
              "      <th>27883</th>\n",
              "      <td>2019-12-29</td>\n",
              "      <td>00:00:00</td>\n",
              "      <td>4.750</td>\n",
              "      <td>125.190</td>\n",
              "      <td>57.0</td>\n",
              "      <td>4.7</td>\n",
              "      <td>2019-12-29</td>\n",
              "      <td>45</td>\n",
              "      <td>4.660</td>\n",
              "      <td>3.762915e+09</td>\n",
              "      <td>0.670699</td>\n",
              "      <td>-0.697673</td>\n",
              "      <td>-0.999951</td>\n",
              "      <td>0.90</td>\n",
              "      <td>1.286336</td>\n",
              "      <td>21</td>\n",
              "    </tr>\n",
              "  </tbody>\n",
              "</table>\n",
              "<p>27884 rows × 16 columns</p>\n",
              "</div>"
            ],
            "text/plain": [
              "             DATE      TIME  LATITUDE  ...    MU         c  NO_OF_EVENTS\n",
              "0      1963-02-06  00:00:00     0.000  ...  0.00  0.000000             1\n",
              "1      1963-02-10  00:00:00     4.100  ...  0.00  0.000000             1\n",
              "2      1963-02-14  00:00:00    -7.400  ...  0.00  0.000000             1\n",
              "3      1963-02-18  00:00:00     0.800  ...  0.00  0.000000             1\n",
              "4      1963-02-21  00:00:00     0.800  ...  0.00  0.000000             1\n",
              "...           ...       ...       ...  ...   ...       ...           ...\n",
              "27879  2019-12-27  00:00:00     2.889  ...  0.82  1.422758            32\n",
              "27880  2019-12-28  00:00:00     1.550  ...  0.86  1.362383            11\n",
              "27881  2019-12-29  00:00:00     4.690  ...  0.88  1.323722             6\n",
              "27882  2019-12-29  00:00:00     4.670  ...  0.90  1.286336            18\n",
              "27883  2019-12-29  00:00:00     4.750  ...  0.90  1.286336            21\n",
              "\n",
              "[27884 rows x 16 columns]"
            ]
          },
          "metadata": {
            "tags": []
          },
          "execution_count": 200
        }
      ]
    },
    {
      "cell_type": "code",
      "metadata": {
        "colab": {
          "base_uri": "https://localhost:8080/"
        },
        "id": "AvPeyyn0tXzX",
        "outputId": "73d8acf1-3d0b-4204-97b9-908ca3cf3cad"
      },
      "source": [
        "check_all_nan(sulawesi2_dataf)"
      ],
      "execution_count": null,
      "outputs": [
        {
          "output_type": "stream",
          "text": [
            "nan not found\n"
          ],
          "name": "stdout"
        }
      ]
    },
    {
      "cell_type": "code",
      "metadata": {
        "id": "KyYmxkJ9tb8R"
      },
      "source": [
        "#sulawesi2_dataf.to_csv(\"sulawesi4_dataf.csv\")"
      ],
      "execution_count": null,
      "outputs": []
    },
    {
      "cell_type": "code",
      "metadata": {
        "id": "0o42MqMfm1O0"
      },
      "source": [
        "sulawesi2_dataf_output = get_output(sulawesi2_dataf,5.5)"
      ],
      "execution_count": null,
      "outputs": []
    },
    {
      "cell_type": "code",
      "metadata": {
        "colab": {
          "base_uri": "https://localhost:8080/"
        },
        "id": "MX7CxG-Rm89e",
        "outputId": "97e0c53b-597c-4e17-e0e7-24ee9012d571"
      },
      "source": [
        "np.unique(np.array(sulawesi2_dataf_output),return_counts=True)"
      ],
      "execution_count": null,
      "outputs": [
        {
          "output_type": "execute_result",
          "data": {
            "text/plain": [
              "(array([0, 1]), array([ 9383, 18501]))"
            ]
          },
          "metadata": {
            "tags": []
          },
          "execution_count": 202
        }
      ]
    },
    {
      "cell_type": "markdown",
      "metadata": {
        "id": "tZTvxTN04OKx"
      },
      "source": [
        "#SULAWESI DATA VISUALIZATION"
      ]
    },
    {
      "cell_type": "markdown",
      "metadata": {
        "id": "Z0qjhCOY4R6t"
      },
      "source": [
        "GUTENBERG RICHTER LAW VISUALIZATION"
      ]
    },
    {
      "cell_type": "code",
      "metadata": {
        "colab": {
          "base_uri": "https://localhost:8080/",
          "height": 279
        },
        "id": "NjAwP4em4R6w",
        "outputId": "2e1faf45-5470-495f-c8a9-9e69c0f6791e"
      },
      "source": [
        "plt.hist(sulawesi_dataf[\"MAG\"])\n",
        "plt.xlabel(\"MAGNITUDE\")\n",
        "plt.ylabel(\"FREQUENCY OF EVENTS\")\n",
        "plt.show()"
      ],
      "execution_count": null,
      "outputs": [
        {
          "output_type": "display_data",
          "data": {
            "image/png": "[encoded data removed]",
            "text/plain": [
              "<Figure size 432x288 with 1 Axes>"
            ]
          },
          "metadata": {
            "tags": []
          }
        }
      ]
    },
    {
      "cell_type": "markdown",
      "metadata": {
        "id": "v-zV6N5P4R65"
      },
      "source": [
        "T VALUES (SEISMICITY INDICATOR)"
      ]
    },
    {
      "cell_type": "code",
      "metadata": {
        "colab": {
          "base_uri": "https://localhost:8080/",
          "height": 279
        },
        "id": "Pq_Iuff44R66",
        "outputId": "920177b0-8f53-429c-c5df-cb30e023b987"
      },
      "source": [
        "plt.plot(sulawesi_dataf.loc[60:,(\"TVAL\")])\n",
        "plt.xlabel(\"EVENT NUMBER\")\n",
        "plt.ylabel(\"T VALUE\")\n",
        "plt.show()"
      ],
      "execution_count": null,
      "outputs": [
        {
          "output_type": "display_data",
          "data": {
            "image/png": "[encoded data removed]",
            "text/plain": [
              "<Figure size 432x288 with 1 Axes>"
            ]
          },
          "metadata": {
            "tags": []
          }
        }
      ]
    },
    {
      "cell_type": "markdown",
      "metadata": {
        "id": "YSCFHuwL4R6-"
      },
      "source": [
        "MEAN MAGNITUDE (SEISMICITY INDICATOR)"
      ]
    },
    {
      "cell_type": "code",
      "metadata": {
        "colab": {
          "base_uri": "https://localhost:8080/",
          "height": 279
        },
        "id": "BI-mfCeq4R6-",
        "outputId": "38e54833-db9f-404e-cd2b-39c490fed752"
      },
      "source": [
        "plt.plot(sulawesi_dataf[\"MEAN_MAG\"])\n",
        "plt.xlabel(\"EVENT NUMBER\")\n",
        "plt.ylabel(\"MEAN MAGNITUDE\")\n",
        "plt.show()"
      ],
      "execution_count": null,
      "outputs": [
        {
          "output_type": "display_data",
          "data": {
            "image/png": "[encoded data removed]",
            "text/plain": [
              "<Figure size 432x288 with 1 Axes>"
            ]
          },
          "metadata": {
            "tags": []
          }
        }
      ]
    },
    {
      "cell_type": "markdown",
      "metadata": {
        "id": "BNdYIdnl4R7E"
      },
      "source": [
        "ENERGY ((SEISMICITY INDICATOR)"
      ]
    },
    {
      "cell_type": "code",
      "metadata": {
        "colab": {
          "base_uri": "https://localhost:8080/",
          "height": 290
        },
        "id": "K2yLXQdH4R7F",
        "outputId": "3a197c63-7435-40cd-f90b-83853c0274e9"
      },
      "source": [
        "plt.plot(sulawesi_dataf[\"ENERGY\"])\n",
        "plt.xlabel(\"EVENT NUMBER\")\n",
        "plt.ylabel(\"ENERGY\")\n",
        "plt.show()"
      ],
      "execution_count": null,
      "outputs": [
        {
          "output_type": "display_data",
          "data": {
            "image/png": "[encoded data removed]",
            "text/plain": [
              "<Figure size 432x288 with 1 Axes>"
            ]
          },
          "metadata": {
            "tags": []
          }
        }
      ]
    },
    {
      "cell_type": "markdown",
      "metadata": {
        "id": "ArBGij7r4R7J"
      },
      "source": [
        "ETA VALUE (SEISMICITY INDICATOR)"
      ]
    },
    {
      "cell_type": "code",
      "metadata": {
        "colab": {
          "base_uri": "https://localhost:8080/",
          "height": 279
        },
        "id": "oasggY_a4R7K",
        "outputId": "4da7e439-3d16-4784-ce12-36233f567bca"
      },
      "source": [
        "plt.plot(np.array(sulawesi_dataf[\"ETA\"])*-1)\n",
        "plt.xlabel(\"EVENT NUMBER\")\n",
        "plt.ylabel(\"DEVIATION (ETA VALUE)\")\n",
        "plt.show()"
      ],
      "execution_count": null,
      "outputs": [
        {
          "output_type": "display_data",
          "data": {
            "image/png": "[encoded data removed]",
            "text/plain": [
              "<Figure size 432x288 with 1 Axes>"
            ]
          },
          "metadata": {
            "tags": []
          }
        }
      ]
    },
    {
      "cell_type": "markdown",
      "metadata": {
        "id": "FRWfhoHb4R7O"
      },
      "source": [
        "MAGNITUDE DEFICIT (SEISMICITY INDICATOR)"
      ]
    },
    {
      "cell_type": "code",
      "metadata": {
        "colab": {
          "base_uri": "https://localhost:8080/",
          "height": 279
        },
        "id": "ryCO0_eo4R7O",
        "outputId": "0c51005e-f9fe-4a38-bd95-235adb10056b"
      },
      "source": [
        "plt.plot(sulawesi_dataf[\"MAG_DEF\"])\n",
        "plt.xlabel(\"EVENT NUMBER\")\n",
        "plt.ylabel(\"MAGNITUDE DEFICIT\")\n",
        "plt.show()"
      ],
      "execution_count": null,
      "outputs": [
        {
          "output_type": "display_data",
          "data": {
            "image/png": "[encoded data removed]",
            "text/plain": [
              "<Figure size 432x288 with 1 Axes>"
            ]
          },
          "metadata": {
            "tags": []
          }
        }
      ]
    },
    {
      "cell_type": "markdown",
      "metadata": {
        "id": "9K4tzmq-pa0c"
      },
      "source": [
        "#CENTRAL DATA"
      ]
    },
    {
      "cell_type": "markdown",
      "metadata": {
        "id": "Yic-sM80qzoL"
      },
      "source": [
        "**MIN 3.5 DATA**"
      ]
    },
    {
      "cell_type": "code",
      "metadata": {
        "colab": {
          "base_uri": "https://localhost:8080/",
          "height": 402
        },
        "id": "ACCljVHQqtse",
        "outputId": "617345f2-e337-4fac-a24a-95504be47c87"
      },
      "source": [
        "central_dataf = pd.read_excel('Central Min3.5 data.xlsx')\n",
        "central_dataf"
      ],
      "execution_count": null,
      "outputs": [
        {
          "output_type": "execute_result",
          "data": {
            "text/html": [
              "<div>\n",
              "<style scoped>\n",
              "    .dataframe tbody tr th:only-of-type {\n",
              "        vertical-align: middle;\n",
              "    }\n",
              "\n",
              "    .dataframe tbody tr th {\n",
              "        vertical-align: top;\n",
              "    }\n",
              "\n",
              "    .dataframe thead th {\n",
              "        text-align: right;\n",
              "    }\n",
              "</style>\n",
              "<table border=\"1\" class=\"dataframe\">\n",
              "  <thead>\n",
              "    <tr style=\"text-align: right;\">\n",
              "      <th></th>\n",
              "      <th>Date</th>\n",
              "      <th>Time</th>\n",
              "      <th>Lat</th>\n",
              "      <th>Long</th>\n",
              "      <th>Depth</th>\n",
              "      <th>Mag</th>\n",
              "    </tr>\n",
              "  </thead>\n",
              "  <tbody>\n",
              "    <tr>\n",
              "      <th>0</th>\n",
              "      <td>1963-02-21</td>\n",
              "      <td>00:00:00</td>\n",
              "      <td>-6.30</td>\n",
              "      <td>106.70</td>\n",
              "      <td>38.0</td>\n",
              "      <td>4.8</td>\n",
              "    </tr>\n",
              "    <tr>\n",
              "      <th>1</th>\n",
              "      <td>1963-02-21</td>\n",
              "      <td>00:00:00</td>\n",
              "      <td>-6.30</td>\n",
              "      <td>106.80</td>\n",
              "      <td>33.0</td>\n",
              "      <td>5.2</td>\n",
              "    </tr>\n",
              "    <tr>\n",
              "      <th>2</th>\n",
              "      <td>1963-02-22</td>\n",
              "      <td>00:00:00</td>\n",
              "      <td>-6.10</td>\n",
              "      <td>106.30</td>\n",
              "      <td>172.0</td>\n",
              "      <td>4.9</td>\n",
              "    </tr>\n",
              "    <tr>\n",
              "      <th>3</th>\n",
              "      <td>1963-03-23</td>\n",
              "      <td>00:00:00</td>\n",
              "      <td>-9.80</td>\n",
              "      <td>114.00</td>\n",
              "      <td>99.0</td>\n",
              "      <td>4.8</td>\n",
              "    </tr>\n",
              "    <tr>\n",
              "      <th>4</th>\n",
              "      <td>1963-05-06</td>\n",
              "      <td>00:00:00</td>\n",
              "      <td>-9.20</td>\n",
              "      <td>112.40</td>\n",
              "      <td>80.0</td>\n",
              "      <td>6.1</td>\n",
              "    </tr>\n",
              "    <tr>\n",
              "      <th>...</th>\n",
              "      <td>...</td>\n",
              "      <td>...</td>\n",
              "      <td>...</td>\n",
              "      <td>...</td>\n",
              "      <td>...</td>\n",
              "      <td>...</td>\n",
              "    </tr>\n",
              "    <tr>\n",
              "      <th>6958</th>\n",
              "      <td>2020-05-10</td>\n",
              "      <td>00:00:00</td>\n",
              "      <td>-8.30</td>\n",
              "      <td>115.99</td>\n",
              "      <td>10.0</td>\n",
              "      <td>4.5</td>\n",
              "    </tr>\n",
              "    <tr>\n",
              "      <th>6959</th>\n",
              "      <td>2020-05-11</td>\n",
              "      <td>00:00:00</td>\n",
              "      <td>-8.74</td>\n",
              "      <td>118.39</td>\n",
              "      <td>123.0</td>\n",
              "      <td>4.5</td>\n",
              "    </tr>\n",
              "    <tr>\n",
              "      <th>6960</th>\n",
              "      <td>2020-05-12</td>\n",
              "      <td>00:00:00</td>\n",
              "      <td>-8.29</td>\n",
              "      <td>115.99</td>\n",
              "      <td>10.0</td>\n",
              "      <td>4.7</td>\n",
              "    </tr>\n",
              "    <tr>\n",
              "      <th>6961</th>\n",
              "      <td>2020-05-14</td>\n",
              "      <td>00:00:00</td>\n",
              "      <td>-9.24</td>\n",
              "      <td>119.20</td>\n",
              "      <td>21.0</td>\n",
              "      <td>4.7</td>\n",
              "    </tr>\n",
              "    <tr>\n",
              "      <th>6962</th>\n",
              "      <td>2020-05-15</td>\n",
              "      <td>00:00:00</td>\n",
              "      <td>-6.41</td>\n",
              "      <td>103.62</td>\n",
              "      <td>10.0</td>\n",
              "      <td>4.5</td>\n",
              "    </tr>\n",
              "  </tbody>\n",
              "</table>\n",
              "<p>6963 rows × 6 columns</p>\n",
              "</div>"
            ],
            "text/plain": [
              "           Date      Time   Lat    Long  Depth   Mag\n",
              "0    1963-02-21  00:00:00 -6.30  106.70    38.0  4.8\n",
              "1    1963-02-21  00:00:00 -6.30  106.80    33.0  5.2\n",
              "2    1963-02-22  00:00:00 -6.10  106.30   172.0  4.9\n",
              "3    1963-03-23  00:00:00 -9.80  114.00    99.0  4.8\n",
              "4    1963-05-06  00:00:00 -9.20  112.40    80.0  6.1\n",
              "...         ...       ...   ...     ...     ...  ...\n",
              "6958 2020-05-10  00:00:00 -8.30  115.99    10.0  4.5\n",
              "6959 2020-05-11  00:00:00 -8.74  118.39   123.0  4.5\n",
              "6960 2020-05-12  00:00:00 -8.29  115.99    10.0  4.7\n",
              "6961 2020-05-14  00:00:00 -9.24  119.20    21.0  4.7\n",
              "6962 2020-05-15  00:00:00 -6.41  103.62    10.0  4.5\n",
              "\n",
              "[6963 rows x 6 columns]"
            ]
          },
          "metadata": {
            "tags": []
          },
          "execution_count": 23
        }
      ]
    },
    {
      "cell_type": "code",
      "metadata": {
        "id": "3KvU_g3tqtsv"
      },
      "source": [
        "central_dataf = central_dataf.rename(columns={'Date':'DATE',\n",
        "                              'Time':'TIME',\n",
        "                              'Lat':'LATITUDE',\n",
        "                              'Long':'LONGITUDE',\n",
        "                              'Depth':'DEPTH',\n",
        "                              'Mag':'MAG'})"
      ],
      "execution_count": null,
      "outputs": []
    },
    {
      "cell_type": "code",
      "metadata": {
        "id": "KjJZMHWMqts3"
      },
      "source": [
        "convert_dict = {\"DATE\":str,\"TIME\":str}\n",
        "central_dataf = central_dataf.astype(convert_dict)"
      ],
      "execution_count": null,
      "outputs": []
    },
    {
      "cell_type": "code",
      "metadata": {
        "id": "vgZgGG38qts-"
      },
      "source": [
        "central_dataf['DATETIME'] = central_dataf[\"DATE\"] + \" \" + central_dataf[\"TIME\"]\n",
        "central_dataf['DATETIME'] = pd.to_datetime(central_dataf[\"DATETIME\"], format='%Y/%m/%d %H:%M:%S')"
      ],
      "execution_count": null,
      "outputs": []
    },
    {
      "cell_type": "code",
      "metadata": {
        "id": "uRSpY5YrqttF"
      },
      "source": [
        "central_dataf[\"DATE\"] = pd.to_datetime(central_dataf[\"DATE\"])"
      ],
      "execution_count": null,
      "outputs": []
    },
    {
      "cell_type": "code",
      "metadata": {
        "id": "gZxdrG5xqttM"
      },
      "source": [
        "central_dataf = process_data(central_dataf)"
      ],
      "execution_count": null,
      "outputs": []
    },
    {
      "cell_type": "code",
      "metadata": {
        "colab": {
          "base_uri": "https://localhost:8080/",
          "height": 590
        },
        "id": "QOfSrVr3tdcT",
        "outputId": "e5b3bb35-0ad0-43e3-fd71-63ff28a52c2e"
      },
      "source": [
        "central_dataf"
      ],
      "execution_count": null,
      "outputs": [
        {
          "output_type": "execute_result",
          "data": {
            "text/html": [
              "<div>\n",
              "<style scoped>\n",
              "    .dataframe tbody tr th:only-of-type {\n",
              "        vertical-align: middle;\n",
              "    }\n",
              "\n",
              "    .dataframe tbody tr th {\n",
              "        vertical-align: top;\n",
              "    }\n",
              "\n",
              "    .dataframe thead th {\n",
              "        text-align: right;\n",
              "    }\n",
              "</style>\n",
              "<table border=\"1\" class=\"dataframe\">\n",
              "  <thead>\n",
              "    <tr style=\"text-align: right;\">\n",
              "      <th></th>\n",
              "      <th>DATE</th>\n",
              "      <th>TIME</th>\n",
              "      <th>LATITUDE</th>\n",
              "      <th>LONGITUDE</th>\n",
              "      <th>Depth</th>\n",
              "      <th>MAG</th>\n",
              "      <th>DATETIME</th>\n",
              "      <th>TVAL</th>\n",
              "      <th>MEAN_MAG</th>\n",
              "      <th>ENERGY</th>\n",
              "      <th>b</th>\n",
              "      <th>MAG_DEF</th>\n",
              "      <th>ETA</th>\n",
              "      <th>MU</th>\n",
              "      <th>c</th>\n",
              "      <th>NO_OF_EVENTS</th>\n",
              "    </tr>\n",
              "  </thead>\n",
              "  <tbody>\n",
              "    <tr>\n",
              "      <th>0</th>\n",
              "      <td>1963-02-21</td>\n",
              "      <td>00:00:00</td>\n",
              "      <td>-6.30</td>\n",
              "      <td>106.70</td>\n",
              "      <td>38.0</td>\n",
              "      <td>4.8</td>\n",
              "      <td>1963-02-21</td>\n",
              "      <td>0</td>\n",
              "      <td>0.000</td>\n",
              "      <td>0.000000e+00</td>\n",
              "      <td>1.047597</td>\n",
              "      <td>-6.167458</td>\n",
              "      <td>-0.958956</td>\n",
              "      <td>0.00</td>\n",
              "      <td>0.000000</td>\n",
              "      <td>1</td>\n",
              "    </tr>\n",
              "    <tr>\n",
              "      <th>1</th>\n",
              "      <td>1963-02-21</td>\n",
              "      <td>00:00:00</td>\n",
              "      <td>-6.30</td>\n",
              "      <td>106.80</td>\n",
              "      <td>33.0</td>\n",
              "      <td>5.2</td>\n",
              "      <td>1963-02-21</td>\n",
              "      <td>0</td>\n",
              "      <td>0.000</td>\n",
              "      <td>0.000000e+00</td>\n",
              "      <td>1.047597</td>\n",
              "      <td>-6.167458</td>\n",
              "      <td>-0.979456</td>\n",
              "      <td>0.00</td>\n",
              "      <td>0.000000</td>\n",
              "      <td>1</td>\n",
              "    </tr>\n",
              "    <tr>\n",
              "      <th>2</th>\n",
              "      <td>1963-02-22</td>\n",
              "      <td>00:00:00</td>\n",
              "      <td>-6.10</td>\n",
              "      <td>106.30</td>\n",
              "      <td>172.0</td>\n",
              "      <td>4.9</td>\n",
              "      <td>1963-02-22</td>\n",
              "      <td>0</td>\n",
              "      <td>0.000</td>\n",
              "      <td>0.000000e+00</td>\n",
              "      <td>1.047597</td>\n",
              "      <td>-6.167458</td>\n",
              "      <td>-0.964740</td>\n",
              "      <td>0.00</td>\n",
              "      <td>0.000000</td>\n",
              "      <td>1</td>\n",
              "    </tr>\n",
              "    <tr>\n",
              "      <th>3</th>\n",
              "      <td>1963-03-23</td>\n",
              "      <td>00:00:00</td>\n",
              "      <td>-9.80</td>\n",
              "      <td>114.00</td>\n",
              "      <td>99.0</td>\n",
              "      <td>4.8</td>\n",
              "      <td>1963-03-23</td>\n",
              "      <td>0</td>\n",
              "      <td>0.000</td>\n",
              "      <td>0.000000e+00</td>\n",
              "      <td>1.047597</td>\n",
              "      <td>-6.167458</td>\n",
              "      <td>-0.958956</td>\n",
              "      <td>0.00</td>\n",
              "      <td>0.000000</td>\n",
              "      <td>1</td>\n",
              "    </tr>\n",
              "    <tr>\n",
              "      <th>4</th>\n",
              "      <td>1963-05-06</td>\n",
              "      <td>00:00:00</td>\n",
              "      <td>-9.20</td>\n",
              "      <td>112.40</td>\n",
              "      <td>80.0</td>\n",
              "      <td>6.1</td>\n",
              "      <td>1963-05-06</td>\n",
              "      <td>0</td>\n",
              "      <td>0.000</td>\n",
              "      <td>0.000000e+00</td>\n",
              "      <td>1.047597</td>\n",
              "      <td>-6.167458</td>\n",
              "      <td>-0.999900</td>\n",
              "      <td>0.00</td>\n",
              "      <td>0.000000</td>\n",
              "      <td>1</td>\n",
              "    </tr>\n",
              "    <tr>\n",
              "      <th>...</th>\n",
              "      <td>...</td>\n",
              "      <td>...</td>\n",
              "      <td>...</td>\n",
              "      <td>...</td>\n",
              "      <td>...</td>\n",
              "      <td>...</td>\n",
              "      <td>...</td>\n",
              "      <td>...</td>\n",
              "      <td>...</td>\n",
              "      <td>...</td>\n",
              "      <td>...</td>\n",
              "      <td>...</td>\n",
              "      <td>...</td>\n",
              "      <td>...</td>\n",
              "      <td>...</td>\n",
              "      <td>...</td>\n",
              "    </tr>\n",
              "    <tr>\n",
              "      <th>6958</th>\n",
              "      <td>2020-05-10</td>\n",
              "      <td>00:00:00</td>\n",
              "      <td>-8.30</td>\n",
              "      <td>115.99</td>\n",
              "      <td>10.0</td>\n",
              "      <td>4.5</td>\n",
              "      <td>2020-05-10</td>\n",
              "      <td>94</td>\n",
              "      <td>4.762</td>\n",
              "      <td>1.751722e+09</td>\n",
              "      <td>1.047597</td>\n",
              "      <td>-0.667458</td>\n",
              "      <td>-0.999954</td>\n",
              "      <td>1.84</td>\n",
              "      <td>1.073748</td>\n",
              "      <td>50</td>\n",
              "    </tr>\n",
              "    <tr>\n",
              "      <th>6959</th>\n",
              "      <td>2020-05-11</td>\n",
              "      <td>00:00:00</td>\n",
              "      <td>-8.74</td>\n",
              "      <td>118.39</td>\n",
              "      <td>123.0</td>\n",
              "      <td>4.5</td>\n",
              "      <td>2020-05-11</td>\n",
              "      <td>92</td>\n",
              "      <td>4.758</td>\n",
              "      <td>1.781357e+09</td>\n",
              "      <td>1.047597</td>\n",
              "      <td>-0.667458</td>\n",
              "      <td>-0.999954</td>\n",
              "      <td>1.82</td>\n",
              "      <td>1.081950</td>\n",
              "      <td>50</td>\n",
              "    </tr>\n",
              "    <tr>\n",
              "      <th>6960</th>\n",
              "      <td>2020-05-12</td>\n",
              "      <td>00:00:00</td>\n",
              "      <td>-8.29</td>\n",
              "      <td>115.99</td>\n",
              "      <td>10.0</td>\n",
              "      <td>4.7</td>\n",
              "      <td>2020-05-12</td>\n",
              "      <td>92</td>\n",
              "      <td>4.756</td>\n",
              "      <td>1.777497e+09</td>\n",
              "      <td>1.047597</td>\n",
              "      <td>-0.667458</td>\n",
              "      <td>-0.999928</td>\n",
              "      <td>1.82</td>\n",
              "      <td>1.081950</td>\n",
              "      <td>30</td>\n",
              "    </tr>\n",
              "    <tr>\n",
              "      <th>6961</th>\n",
              "      <td>2020-05-14</td>\n",
              "      <td>00:00:00</td>\n",
              "      <td>-9.24</td>\n",
              "      <td>119.20</td>\n",
              "      <td>21.0</td>\n",
              "      <td>4.7</td>\n",
              "      <td>2020-05-14</td>\n",
              "      <td>90</td>\n",
              "      <td>4.750</td>\n",
              "      <td>1.796929e+09</td>\n",
              "      <td>1.047597</td>\n",
              "      <td>-0.667458</td>\n",
              "      <td>-0.999928</td>\n",
              "      <td>1.76</td>\n",
              "      <td>1.106874</td>\n",
              "      <td>30</td>\n",
              "    </tr>\n",
              "    <tr>\n",
              "      <th>6962</th>\n",
              "      <td>2020-05-15</td>\n",
              "      <td>00:00:00</td>\n",
              "      <td>-6.41</td>\n",
              "      <td>103.62</td>\n",
              "      <td>10.0</td>\n",
              "      <td>4.5</td>\n",
              "      <td>2020-05-15</td>\n",
              "      <td>88</td>\n",
              "      <td>4.754</td>\n",
              "      <td>1.846599e+09</td>\n",
              "      <td>1.047597</td>\n",
              "      <td>-0.667458</td>\n",
              "      <td>-0.999954</td>\n",
              "      <td>1.74</td>\n",
              "      <td>1.115288</td>\n",
              "      <td>50</td>\n",
              "    </tr>\n",
              "  </tbody>\n",
              "</table>\n",
              "<p>6963 rows × 16 columns</p>\n",
              "</div>"
            ],
            "text/plain": [
              "            DATE      TIME  LATITUDE  ...    MU         c  NO_OF_EVENTS\n",
              "0     1963-02-21  00:00:00     -6.30  ...  0.00  0.000000             1\n",
              "1     1963-02-21  00:00:00     -6.30  ...  0.00  0.000000             1\n",
              "2     1963-02-22  00:00:00     -6.10  ...  0.00  0.000000             1\n",
              "3     1963-03-23  00:00:00     -9.80  ...  0.00  0.000000             1\n",
              "4     1963-05-06  00:00:00     -9.20  ...  0.00  0.000000             1\n",
              "...          ...       ...       ...  ...   ...       ...           ...\n",
              "6958  2020-05-10  00:00:00     -8.30  ...  1.84  1.073748            50\n",
              "6959  2020-05-11  00:00:00     -8.74  ...  1.82  1.081950            50\n",
              "6960  2020-05-12  00:00:00     -8.29  ...  1.82  1.081950            30\n",
              "6961  2020-05-14  00:00:00     -9.24  ...  1.76  1.106874            30\n",
              "6962  2020-05-15  00:00:00     -6.41  ...  1.74  1.115288            50\n",
              "\n",
              "[6963 rows x 16 columns]"
            ]
          },
          "metadata": {
            "tags": []
          },
          "execution_count": 203
        }
      ]
    },
    {
      "cell_type": "code",
      "metadata": {
        "colab": {
          "base_uri": "https://localhost:8080/"
        },
        "id": "JY7Imk55tfMb",
        "outputId": "cb207fe7-558b-4780-9872-9192961db5fd"
      },
      "source": [
        "check_all_nan(central_dataf)"
      ],
      "execution_count": null,
      "outputs": [
        {
          "output_type": "stream",
          "text": [
            "nan not found\n"
          ],
          "name": "stdout"
        }
      ]
    },
    {
      "cell_type": "code",
      "metadata": {
        "id": "zyzTr-tU23A2"
      },
      "source": [
        "#central_dataf.to_csv(\"central3.5_dataf.csv\")"
      ],
      "execution_count": null,
      "outputs": []
    },
    {
      "cell_type": "code",
      "metadata": {
        "id": "_DPm_SIWv3H_"
      },
      "source": [
        "central_output = get_output(central_dataf,5.5)\n",
        "pd_dict = {\"OUTPUT\":central_output}\n",
        "central_dataf_output = pd.DataFrame(pd_dict)\n",
        "central_dataf_output.to_csv(\"central5.5_output.csv\")"
      ],
      "execution_count": null,
      "outputs": []
    },
    {
      "cell_type": "code",
      "metadata": {
        "colab": {
          "base_uri": "https://localhost:8080/"
        },
        "id": "ZguI0jvOn0Uj",
        "outputId": "6fee9bed-9454-43f2-8b81-140e66b57087"
      },
      "source": [
        "np.unique(np.array(central_dataf_output),return_counts=True)"
      ],
      "execution_count": null,
      "outputs": [
        {
          "output_type": "execute_result",
          "data": {
            "text/plain": [
              "(array([0, 1]), array([1238, 5725]))"
            ]
          },
          "metadata": {
            "tags": []
          },
          "execution_count": 177
        }
      ]
    },
    {
      "cell_type": "markdown",
      "metadata": {
        "id": "02m_gq3Mq4YK"
      },
      "source": [
        "**MIN 4 DATA**"
      ]
    },
    {
      "cell_type": "code",
      "metadata": {
        "colab": {
          "base_uri": "https://localhost:8080/",
          "height": 402
        },
        "id": "MhzJ0p3wq6WS",
        "outputId": "42fde98d-1913-4806-e807-4d97ed8b9456"
      },
      "source": [
        "central2_dataf = pd.read_excel('Central Min4 data.xlsx')\n",
        "central2_dataf"
      ],
      "execution_count": null,
      "outputs": [
        {
          "output_type": "execute_result",
          "data": {
            "text/html": [
              "<div>\n",
              "<style scoped>\n",
              "    .dataframe tbody tr th:only-of-type {\n",
              "        vertical-align: middle;\n",
              "    }\n",
              "\n",
              "    .dataframe tbody tr th {\n",
              "        vertical-align: top;\n",
              "    }\n",
              "\n",
              "    .dataframe thead th {\n",
              "        text-align: right;\n",
              "    }\n",
              "</style>\n",
              "<table border=\"1\" class=\"dataframe\">\n",
              "  <thead>\n",
              "    <tr style=\"text-align: right;\">\n",
              "      <th></th>\n",
              "      <th>Date</th>\n",
              "      <th>Time</th>\n",
              "      <th>Lat</th>\n",
              "      <th>Long</th>\n",
              "      <th>Depth</th>\n",
              "      <th>Mag</th>\n",
              "    </tr>\n",
              "  </thead>\n",
              "  <tbody>\n",
              "    <tr>\n",
              "      <th>0</th>\n",
              "      <td>1963-02-21</td>\n",
              "      <td>00:00:00</td>\n",
              "      <td>-6.30</td>\n",
              "      <td>106.70</td>\n",
              "      <td>38.0</td>\n",
              "      <td>4.8</td>\n",
              "    </tr>\n",
              "    <tr>\n",
              "      <th>1</th>\n",
              "      <td>1963-02-21</td>\n",
              "      <td>00:00:00</td>\n",
              "      <td>-6.30</td>\n",
              "      <td>106.80</td>\n",
              "      <td>33.0</td>\n",
              "      <td>5.2</td>\n",
              "    </tr>\n",
              "    <tr>\n",
              "      <th>2</th>\n",
              "      <td>1963-02-22</td>\n",
              "      <td>00:00:00</td>\n",
              "      <td>-6.10</td>\n",
              "      <td>106.30</td>\n",
              "      <td>172.0</td>\n",
              "      <td>4.9</td>\n",
              "    </tr>\n",
              "    <tr>\n",
              "      <th>3</th>\n",
              "      <td>1963-03-23</td>\n",
              "      <td>00:00:00</td>\n",
              "      <td>-9.80</td>\n",
              "      <td>114.00</td>\n",
              "      <td>99.0</td>\n",
              "      <td>4.8</td>\n",
              "    </tr>\n",
              "    <tr>\n",
              "      <th>4</th>\n",
              "      <td>1963-05-06</td>\n",
              "      <td>00:00:00</td>\n",
              "      <td>-9.20</td>\n",
              "      <td>112.40</td>\n",
              "      <td>80.0</td>\n",
              "      <td>6.1</td>\n",
              "    </tr>\n",
              "    <tr>\n",
              "      <th>...</th>\n",
              "      <td>...</td>\n",
              "      <td>...</td>\n",
              "      <td>...</td>\n",
              "      <td>...</td>\n",
              "      <td>...</td>\n",
              "      <td>...</td>\n",
              "    </tr>\n",
              "    <tr>\n",
              "      <th>11619</th>\n",
              "      <td>2020-05-12</td>\n",
              "      <td>00:00:00</td>\n",
              "      <td>-8.31</td>\n",
              "      <td>115.96</td>\n",
              "      <td>10.0</td>\n",
              "      <td>4.0</td>\n",
              "    </tr>\n",
              "    <tr>\n",
              "      <th>11620</th>\n",
              "      <td>2020-05-13</td>\n",
              "      <td>00:00:00</td>\n",
              "      <td>-10.09</td>\n",
              "      <td>119.28</td>\n",
              "      <td>10.0</td>\n",
              "      <td>4.1</td>\n",
              "    </tr>\n",
              "    <tr>\n",
              "      <th>11621</th>\n",
              "      <td>2020-05-14</td>\n",
              "      <td>00:00:00</td>\n",
              "      <td>-9.24</td>\n",
              "      <td>119.20</td>\n",
              "      <td>21.0</td>\n",
              "      <td>4.7</td>\n",
              "    </tr>\n",
              "    <tr>\n",
              "      <th>11622</th>\n",
              "      <td>2020-05-15</td>\n",
              "      <td>00:00:00</td>\n",
              "      <td>-8.42</td>\n",
              "      <td>119.57</td>\n",
              "      <td>174.0</td>\n",
              "      <td>4.0</td>\n",
              "    </tr>\n",
              "    <tr>\n",
              "      <th>11623</th>\n",
              "      <td>2020-05-15</td>\n",
              "      <td>00:00:00</td>\n",
              "      <td>-6.41</td>\n",
              "      <td>103.62</td>\n",
              "      <td>10.0</td>\n",
              "      <td>4.5</td>\n",
              "    </tr>\n",
              "  </tbody>\n",
              "</table>\n",
              "<p>11624 rows × 6 columns</p>\n",
              "</div>"
            ],
            "text/plain": [
              "            Date      Time    Lat    Long  Depth  Mag\n",
              "0     1963-02-21  00:00:00  -6.30  106.70   38.0  4.8\n",
              "1     1963-02-21  00:00:00  -6.30  106.80   33.0  5.2\n",
              "2     1963-02-22  00:00:00  -6.10  106.30  172.0  4.9\n",
              "3     1963-03-23  00:00:00  -9.80  114.00   99.0  4.8\n",
              "4     1963-05-06  00:00:00  -9.20  112.40   80.0  6.1\n",
              "...          ...       ...    ...     ...    ...  ...\n",
              "11619 2020-05-12  00:00:00  -8.31  115.96   10.0  4.0\n",
              "11620 2020-05-13  00:00:00 -10.09  119.28   10.0  4.1\n",
              "11621 2020-05-14  00:00:00  -9.24  119.20   21.0  4.7\n",
              "11622 2020-05-15  00:00:00  -8.42  119.57  174.0  4.0\n",
              "11623 2020-05-15  00:00:00  -6.41  103.62   10.0  4.5\n",
              "\n",
              "[11624 rows x 6 columns]"
            ]
          },
          "metadata": {
            "tags": []
          },
          "execution_count": 32
        }
      ]
    },
    {
      "cell_type": "code",
      "metadata": {
        "id": "rCXSoHYNryQr"
      },
      "source": [
        "central2_dataf = central2_dataf.rename(columns={'Date':'DATE',\n",
        "                              'Time':'TIME',\n",
        "                              'Lat':'LATITUDE',\n",
        "                              'Long':'LONGITUDE',\n",
        "                              'Depth':'DEPTH',\n",
        "                              'Mag':'MAG'})"
      ],
      "execution_count": null,
      "outputs": []
    },
    {
      "cell_type": "code",
      "metadata": {
        "id": "4j3qh3OGryQ4"
      },
      "source": [
        "convert_dict = {\"DATE\":str,\"TIME\":str}\n",
        "central2_dataf = central2_dataf.astype(convert_dict)"
      ],
      "execution_count": null,
      "outputs": []
    },
    {
      "cell_type": "code",
      "metadata": {
        "id": "dTQ0k9GPryRA"
      },
      "source": [
        "central2_dataf['DATETIME'] = central2_dataf[\"DATE\"] + \" \" + central2_dataf[\"TIME\"]\n",
        "central2_dataf['DATETIME'] = pd.to_datetime(central2_dataf[\"DATETIME\"], format='%Y/%m/%d %H:%M:%S')"
      ],
      "execution_count": null,
      "outputs": []
    },
    {
      "cell_type": "code",
      "metadata": {
        "id": "m3zVXdu5ryRI"
      },
      "source": [
        "central2_dataf[\"DATE\"] = pd.to_datetime(central2_dataf[\"DATE\"])"
      ],
      "execution_count": null,
      "outputs": []
    },
    {
      "cell_type": "code",
      "metadata": {
        "colab": {
          "base_uri": "https://localhost:8080/"
        },
        "id": "wqx8unqhryRP",
        "outputId": "770e0b11-4eca-4e22-aa12-a2bae5f54b32"
      },
      "source": [
        "central2_dataf = process_data(central2_dataf)"
      ],
      "execution_count": null,
      "outputs": [
        {
          "output_type": "stream",
          "text": [
            "/usr/local/lib/python3.6/dist-packages/ipykernel_launcher.py:28: RuntimeWarning: divide by zero encountered in true_divide\n"
          ],
          "name": "stderr"
        }
      ]
    },
    {
      "cell_type": "code",
      "metadata": {
        "colab": {
          "base_uri": "https://localhost:8080/",
          "height": 590
        },
        "id": "f-Uv2tjVtl37",
        "outputId": "cfdeb573-69cc-48ae-b63c-7673d5af8414"
      },
      "source": [
        "central2_dataf"
      ],
      "execution_count": null,
      "outputs": [
        {
          "output_type": "execute_result",
          "data": {
            "text/html": [
              "<div>\n",
              "<style scoped>\n",
              "    .dataframe tbody tr th:only-of-type {\n",
              "        vertical-align: middle;\n",
              "    }\n",
              "\n",
              "    .dataframe tbody tr th {\n",
              "        vertical-align: top;\n",
              "    }\n",
              "\n",
              "    .dataframe thead th {\n",
              "        text-align: right;\n",
              "    }\n",
              "</style>\n",
              "<table border=\"1\" class=\"dataframe\">\n",
              "  <thead>\n",
              "    <tr style=\"text-align: right;\">\n",
              "      <th></th>\n",
              "      <th>DATE</th>\n",
              "      <th>TIME</th>\n",
              "      <th>LATITUDE</th>\n",
              "      <th>LONGITUDE</th>\n",
              "      <th>DEPTH</th>\n",
              "      <th>MAG</th>\n",
              "      <th>DATETIME</th>\n",
              "      <th>TVAL</th>\n",
              "      <th>MEAN_MAG</th>\n",
              "      <th>ENERGY</th>\n",
              "      <th>b</th>\n",
              "      <th>MAG_DEF</th>\n",
              "      <th>ETA</th>\n",
              "      <th>MU</th>\n",
              "      <th>c</th>\n",
              "      <th>NO_OF_EVENTS</th>\n",
              "    </tr>\n",
              "  </thead>\n",
              "  <tbody>\n",
              "    <tr>\n",
              "      <th>0</th>\n",
              "      <td>1963-02-21</td>\n",
              "      <td>00:00:00</td>\n",
              "      <td>-6.30</td>\n",
              "      <td>106.70</td>\n",
              "      <td>38.0</td>\n",
              "      <td>4.8</td>\n",
              "      <td>1963-02-21</td>\n",
              "      <td>0</td>\n",
              "      <td>0.000</td>\n",
              "      <td>0.000000e+00</td>\n",
              "      <td>0.689942</td>\n",
              "      <td>-6.521425</td>\n",
              "      <td>-0.971788</td>\n",
              "      <td>0.00</td>\n",
              "      <td>0.000000</td>\n",
              "      <td>1</td>\n",
              "    </tr>\n",
              "    <tr>\n",
              "      <th>1</th>\n",
              "      <td>1963-02-21</td>\n",
              "      <td>00:00:00</td>\n",
              "      <td>-6.30</td>\n",
              "      <td>106.80</td>\n",
              "      <td>33.0</td>\n",
              "      <td>5.2</td>\n",
              "      <td>1963-02-21</td>\n",
              "      <td>0</td>\n",
              "      <td>0.000</td>\n",
              "      <td>0.000000e+00</td>\n",
              "      <td>0.689942</td>\n",
              "      <td>-6.521425</td>\n",
              "      <td>-0.983376</td>\n",
              "      <td>0.00</td>\n",
              "      <td>0.000000</td>\n",
              "      <td>1</td>\n",
              "    </tr>\n",
              "    <tr>\n",
              "      <th>2</th>\n",
              "      <td>1963-02-22</td>\n",
              "      <td>00:00:00</td>\n",
              "      <td>-6.10</td>\n",
              "      <td>106.30</td>\n",
              "      <td>172.0</td>\n",
              "      <td>4.9</td>\n",
              "      <td>1963-02-22</td>\n",
              "      <td>0</td>\n",
              "      <td>0.000</td>\n",
              "      <td>0.000000e+00</td>\n",
              "      <td>0.689942</td>\n",
              "      <td>-6.521425</td>\n",
              "      <td>-0.974971</td>\n",
              "      <td>0.00</td>\n",
              "      <td>0.000000</td>\n",
              "      <td>1</td>\n",
              "    </tr>\n",
              "    <tr>\n",
              "      <th>3</th>\n",
              "      <td>1963-03-23</td>\n",
              "      <td>00:00:00</td>\n",
              "      <td>-9.80</td>\n",
              "      <td>114.00</td>\n",
              "      <td>99.0</td>\n",
              "      <td>4.8</td>\n",
              "      <td>1963-03-23</td>\n",
              "      <td>0</td>\n",
              "      <td>0.000</td>\n",
              "      <td>0.000000e+00</td>\n",
              "      <td>0.689942</td>\n",
              "      <td>-6.521425</td>\n",
              "      <td>-0.971788</td>\n",
              "      <td>0.00</td>\n",
              "      <td>0.000000</td>\n",
              "      <td>1</td>\n",
              "    </tr>\n",
              "    <tr>\n",
              "      <th>4</th>\n",
              "      <td>1963-05-06</td>\n",
              "      <td>00:00:00</td>\n",
              "      <td>-9.20</td>\n",
              "      <td>112.40</td>\n",
              "      <td>80.0</td>\n",
              "      <td>6.1</td>\n",
              "      <td>1963-05-06</td>\n",
              "      <td>0</td>\n",
              "      <td>0.000</td>\n",
              "      <td>0.000000e+00</td>\n",
              "      <td>0.689942</td>\n",
              "      <td>-6.521425</td>\n",
              "      <td>-0.998309</td>\n",
              "      <td>0.00</td>\n",
              "      <td>0.000000</td>\n",
              "      <td>1</td>\n",
              "    </tr>\n",
              "    <tr>\n",
              "      <th>...</th>\n",
              "      <td>...</td>\n",
              "      <td>...</td>\n",
              "      <td>...</td>\n",
              "      <td>...</td>\n",
              "      <td>...</td>\n",
              "      <td>...</td>\n",
              "      <td>...</td>\n",
              "      <td>...</td>\n",
              "      <td>...</td>\n",
              "      <td>...</td>\n",
              "      <td>...</td>\n",
              "      <td>...</td>\n",
              "      <td>...</td>\n",
              "      <td>...</td>\n",
              "      <td>...</td>\n",
              "      <td>...</td>\n",
              "    </tr>\n",
              "    <tr>\n",
              "      <th>11619</th>\n",
              "      <td>2020-05-12</td>\n",
              "      <td>00:00:00</td>\n",
              "      <td>-8.31</td>\n",
              "      <td>115.96</td>\n",
              "      <td>10.0</td>\n",
              "      <td>4.0</td>\n",
              "      <td>2020-05-12</td>\n",
              "      <td>38</td>\n",
              "      <td>4.450</td>\n",
              "      <td>2.682229e+09</td>\n",
              "      <td>0.689942</td>\n",
              "      <td>-1.221425</td>\n",
              "      <td>-0.999967</td>\n",
              "      <td>0.76</td>\n",
              "      <td>1.166786</td>\n",
              "      <td>50</td>\n",
              "    </tr>\n",
              "    <tr>\n",
              "      <th>11620</th>\n",
              "      <td>2020-05-13</td>\n",
              "      <td>00:00:00</td>\n",
              "      <td>-10.09</td>\n",
              "      <td>119.28</td>\n",
              "      <td>10.0</td>\n",
              "      <td>4.1</td>\n",
              "      <td>2020-05-13</td>\n",
              "      <td>38</td>\n",
              "      <td>4.442</td>\n",
              "      <td>2.661425e+09</td>\n",
              "      <td>0.689942</td>\n",
              "      <td>-1.221425</td>\n",
              "      <td>-0.999985</td>\n",
              "      <td>0.74</td>\n",
              "      <td>1.206544</td>\n",
              "      <td>44</td>\n",
              "    </tr>\n",
              "    <tr>\n",
              "      <th>11621</th>\n",
              "      <td>2020-05-14</td>\n",
              "      <td>00:00:00</td>\n",
              "      <td>-9.24</td>\n",
              "      <td>119.20</td>\n",
              "      <td>21.0</td>\n",
              "      <td>4.7</td>\n",
              "      <td>2020-05-14</td>\n",
              "      <td>39</td>\n",
              "      <td>4.426</td>\n",
              "      <td>2.521021e+09</td>\n",
              "      <td>0.689942</td>\n",
              "      <td>-1.221425</td>\n",
              "      <td>-0.999370</td>\n",
              "      <td>0.76</td>\n",
              "      <td>1.166786</td>\n",
              "      <td>12</td>\n",
              "    </tr>\n",
              "    <tr>\n",
              "      <th>11622</th>\n",
              "      <td>2020-05-15</td>\n",
              "      <td>00:00:00</td>\n",
              "      <td>-8.42</td>\n",
              "      <td>119.57</td>\n",
              "      <td>174.0</td>\n",
              "      <td>4.0</td>\n",
              "      <td>2020-05-15</td>\n",
              "      <td>40</td>\n",
              "      <td>4.434</td>\n",
              "      <td>2.491176e+09</td>\n",
              "      <td>0.689942</td>\n",
              "      <td>-1.221425</td>\n",
              "      <td>-0.999967</td>\n",
              "      <td>0.78</td>\n",
              "      <td>1.128407</td>\n",
              "      <td>50</td>\n",
              "    </tr>\n",
              "    <tr>\n",
              "      <th>11623</th>\n",
              "      <td>2020-05-15</td>\n",
              "      <td>00:00:00</td>\n",
              "      <td>-6.41</td>\n",
              "      <td>103.62</td>\n",
              "      <td>10.0</td>\n",
              "      <td>4.5</td>\n",
              "      <td>2020-05-15</td>\n",
              "      <td>39</td>\n",
              "      <td>4.416</td>\n",
              "      <td>2.479051e+09</td>\n",
              "      <td>0.689942</td>\n",
              "      <td>-1.221425</td>\n",
              "      <td>-0.999978</td>\n",
              "      <td>0.78</td>\n",
              "      <td>1.128407</td>\n",
              "      <td>23</td>\n",
              "    </tr>\n",
              "  </tbody>\n",
              "</table>\n",
              "<p>11624 rows × 16 columns</p>\n",
              "</div>"
            ],
            "text/plain": [
              "             DATE      TIME  LATITUDE  ...    MU         c  NO_OF_EVENTS\n",
              "0      1963-02-21  00:00:00     -6.30  ...  0.00  0.000000             1\n",
              "1      1963-02-21  00:00:00     -6.30  ...  0.00  0.000000             1\n",
              "2      1963-02-22  00:00:00     -6.10  ...  0.00  0.000000             1\n",
              "3      1963-03-23  00:00:00     -9.80  ...  0.00  0.000000             1\n",
              "4      1963-05-06  00:00:00     -9.20  ...  0.00  0.000000             1\n",
              "...           ...       ...       ...  ...   ...       ...           ...\n",
              "11619  2020-05-12  00:00:00     -8.31  ...  0.76  1.166786            50\n",
              "11620  2020-05-13  00:00:00    -10.09  ...  0.74  1.206544            44\n",
              "11621  2020-05-14  00:00:00     -9.24  ...  0.76  1.166786            12\n",
              "11622  2020-05-15  00:00:00     -8.42  ...  0.78  1.128407            50\n",
              "11623  2020-05-15  00:00:00     -6.41  ...  0.78  1.128407            23\n",
              "\n",
              "[11624 rows x 16 columns]"
            ]
          },
          "metadata": {
            "tags": []
          },
          "execution_count": 205
        }
      ]
    },
    {
      "cell_type": "code",
      "metadata": {
        "colab": {
          "base_uri": "https://localhost:8080/"
        },
        "id": "jqDse8DYtoM-",
        "outputId": "8d7e9f79-d415-4952-f376-165f58b5929a"
      },
      "source": [
        "check_all_nan(central2_dataf)"
      ],
      "execution_count": null,
      "outputs": [
        {
          "output_type": "stream",
          "text": [
            "nan not found\n"
          ],
          "name": "stdout"
        }
      ]
    },
    {
      "cell_type": "code",
      "metadata": {
        "id": "z5u5J_8n25XQ"
      },
      "source": [
        "#central2_dataf.to_csv(\"central4_dataf.csv\")"
      ],
      "execution_count": null,
      "outputs": []
    },
    {
      "cell_type": "markdown",
      "metadata": {
        "id": "_SwpDsxTq6_s"
      },
      "source": [
        "**MIN 4.5 DATA**"
      ]
    },
    {
      "cell_type": "code",
      "metadata": {
        "colab": {
          "base_uri": "https://localhost:8080/",
          "height": 402
        },
        "id": "CiuGQbn9q90F",
        "outputId": "d8644628-ead5-4af2-c7eb-4c4231552f96"
      },
      "source": [
        "central3_dataf = pd.read_excel('Central Min4.5 data.xlsx')\n",
        "central3_dataf"
      ],
      "execution_count": null,
      "outputs": [
        {
          "output_type": "execute_result",
          "data": {
            "text/html": [
              "<div>\n",
              "<style scoped>\n",
              "    .dataframe tbody tr th:only-of-type {\n",
              "        vertical-align: middle;\n",
              "    }\n",
              "\n",
              "    .dataframe tbody tr th {\n",
              "        vertical-align: top;\n",
              "    }\n",
              "\n",
              "    .dataframe thead th {\n",
              "        text-align: right;\n",
              "    }\n",
              "</style>\n",
              "<table border=\"1\" class=\"dataframe\">\n",
              "  <thead>\n",
              "    <tr style=\"text-align: right;\">\n",
              "      <th></th>\n",
              "      <th>Date</th>\n",
              "      <th>Time</th>\n",
              "      <th>Lat</th>\n",
              "      <th>Long</th>\n",
              "      <th>Depth</th>\n",
              "      <th>Mag</th>\n",
              "    </tr>\n",
              "  </thead>\n",
              "  <tbody>\n",
              "    <tr>\n",
              "      <th>0</th>\n",
              "      <td>1963-02-21</td>\n",
              "      <td>00:00:00</td>\n",
              "      <td>-6.30</td>\n",
              "      <td>106.70</td>\n",
              "      <td>38.0</td>\n",
              "      <td>4.8</td>\n",
              "    </tr>\n",
              "    <tr>\n",
              "      <th>1</th>\n",
              "      <td>1963-02-21</td>\n",
              "      <td>00:00:00</td>\n",
              "      <td>-6.30</td>\n",
              "      <td>106.80</td>\n",
              "      <td>33.0</td>\n",
              "      <td>5.2</td>\n",
              "    </tr>\n",
              "    <tr>\n",
              "      <th>2</th>\n",
              "      <td>1963-02-22</td>\n",
              "      <td>00:00:00</td>\n",
              "      <td>-6.10</td>\n",
              "      <td>106.30</td>\n",
              "      <td>172.0</td>\n",
              "      <td>4.9</td>\n",
              "    </tr>\n",
              "    <tr>\n",
              "      <th>3</th>\n",
              "      <td>1963-03-23</td>\n",
              "      <td>00:00:00</td>\n",
              "      <td>-9.80</td>\n",
              "      <td>114.00</td>\n",
              "      <td>99.0</td>\n",
              "      <td>4.8</td>\n",
              "    </tr>\n",
              "    <tr>\n",
              "      <th>4</th>\n",
              "      <td>1963-05-06</td>\n",
              "      <td>00:00:00</td>\n",
              "      <td>-9.20</td>\n",
              "      <td>112.40</td>\n",
              "      <td>80.0</td>\n",
              "      <td>6.1</td>\n",
              "    </tr>\n",
              "    <tr>\n",
              "      <th>...</th>\n",
              "      <td>...</td>\n",
              "      <td>...</td>\n",
              "      <td>...</td>\n",
              "      <td>...</td>\n",
              "      <td>...</td>\n",
              "      <td>...</td>\n",
              "    </tr>\n",
              "    <tr>\n",
              "      <th>6958</th>\n",
              "      <td>2020-05-10</td>\n",
              "      <td>00:00:00</td>\n",
              "      <td>-8.30</td>\n",
              "      <td>115.99</td>\n",
              "      <td>10.0</td>\n",
              "      <td>4.5</td>\n",
              "    </tr>\n",
              "    <tr>\n",
              "      <th>6959</th>\n",
              "      <td>2020-05-11</td>\n",
              "      <td>00:00:00</td>\n",
              "      <td>-8.74</td>\n",
              "      <td>118.39</td>\n",
              "      <td>123.0</td>\n",
              "      <td>4.5</td>\n",
              "    </tr>\n",
              "    <tr>\n",
              "      <th>6960</th>\n",
              "      <td>2020-05-12</td>\n",
              "      <td>00:00:00</td>\n",
              "      <td>-8.29</td>\n",
              "      <td>115.99</td>\n",
              "      <td>10.0</td>\n",
              "      <td>4.7</td>\n",
              "    </tr>\n",
              "    <tr>\n",
              "      <th>6961</th>\n",
              "      <td>2020-05-14</td>\n",
              "      <td>00:00:00</td>\n",
              "      <td>-9.24</td>\n",
              "      <td>119.20</td>\n",
              "      <td>21.0</td>\n",
              "      <td>4.7</td>\n",
              "    </tr>\n",
              "    <tr>\n",
              "      <th>6962</th>\n",
              "      <td>2020-05-15</td>\n",
              "      <td>00:00:00</td>\n",
              "      <td>-6.41</td>\n",
              "      <td>103.62</td>\n",
              "      <td>10.0</td>\n",
              "      <td>4.5</td>\n",
              "    </tr>\n",
              "  </tbody>\n",
              "</table>\n",
              "<p>6963 rows × 6 columns</p>\n",
              "</div>"
            ],
            "text/plain": [
              "           Date      Time   Lat    Long  Depth  Mag\n",
              "0    1963-02-21  00:00:00 -6.30  106.70   38.0  4.8\n",
              "1    1963-02-21  00:00:00 -6.30  106.80   33.0  5.2\n",
              "2    1963-02-22  00:00:00 -6.10  106.30  172.0  4.9\n",
              "3    1963-03-23  00:00:00 -9.80  114.00   99.0  4.8\n",
              "4    1963-05-06  00:00:00 -9.20  112.40   80.0  6.1\n",
              "...         ...       ...   ...     ...    ...  ...\n",
              "6958 2020-05-10  00:00:00 -8.30  115.99   10.0  4.5\n",
              "6959 2020-05-11  00:00:00 -8.74  118.39  123.0  4.5\n",
              "6960 2020-05-12  00:00:00 -8.29  115.99   10.0  4.7\n",
              "6961 2020-05-14  00:00:00 -9.24  119.20   21.0  4.7\n",
              "6962 2020-05-15  00:00:00 -6.41  103.62   10.0  4.5\n",
              "\n",
              "[6963 rows x 6 columns]"
            ]
          },
          "metadata": {
            "tags": []
          },
          "execution_count": 41
        }
      ]
    },
    {
      "cell_type": "code",
      "metadata": {
        "id": "24aOuU-3sE7O"
      },
      "source": [
        "central3_dataf = central3_dataf.rename(columns={'Date':'DATE',\n",
        "                              'Time':'TIME',\n",
        "                              'Lat':'LATITUDE',\n",
        "                              'Long':'LONGITUDE',\n",
        "                              'Depth':'DEPTH',\n",
        "                              'Mag':'MAG'})"
      ],
      "execution_count": null,
      "outputs": []
    },
    {
      "cell_type": "code",
      "metadata": {
        "id": "7naXzOt4sE7a"
      },
      "source": [
        "convert_dict = {\"DATE\":str,\"TIME\":str}\n",
        "central3_dataf = central3_dataf.astype(convert_dict)"
      ],
      "execution_count": null,
      "outputs": []
    },
    {
      "cell_type": "code",
      "metadata": {
        "id": "UGEDJyQ8sE7h"
      },
      "source": [
        "central3_dataf['DATETIME'] = central3_dataf[\"DATE\"] + \" \" + central3_dataf[\"TIME\"]\n",
        "central3_dataf['DATETIME'] = pd.to_datetime(central3_dataf[\"DATETIME\"], format='%Y/%m/%d %H:%M:%S')"
      ],
      "execution_count": null,
      "outputs": []
    },
    {
      "cell_type": "code",
      "metadata": {
        "id": "qsypziG7sE7n"
      },
      "source": [
        "central3_dataf[\"DATE\"] = pd.to_datetime(central3_dataf[\"DATE\"])"
      ],
      "execution_count": null,
      "outputs": []
    },
    {
      "cell_type": "code",
      "metadata": {
        "colab": {
          "base_uri": "https://localhost:8080/"
        },
        "id": "AUDnae4VsE7u",
        "outputId": "72603ac1-bb85-498b-9ece-afc6b4010419"
      },
      "source": [
        "central3_dataf = process_data(central3_dataf)"
      ],
      "execution_count": null,
      "outputs": [
        {
          "output_type": "stream",
          "text": [
            "/usr/local/lib/python3.6/dist-packages/ipykernel_launcher.py:28: RuntimeWarning: divide by zero encountered in true_divide\n"
          ],
          "name": "stderr"
        }
      ]
    },
    {
      "cell_type": "code",
      "metadata": {
        "colab": {
          "base_uri": "https://localhost:8080/",
          "height": 606
        },
        "id": "pPS-fhBQty4I",
        "outputId": "b5975703-f2c4-4d71-d481-34c4710a8c42"
      },
      "source": [
        "central3_dataf"
      ],
      "execution_count": null,
      "outputs": [
        {
          "output_type": "execute_result",
          "data": {
            "text/html": [
              "<div>\n",
              "<style scoped>\n",
              "    .dataframe tbody tr th:only-of-type {\n",
              "        vertical-align: middle;\n",
              "    }\n",
              "\n",
              "    .dataframe tbody tr th {\n",
              "        vertical-align: top;\n",
              "    }\n",
              "\n",
              "    .dataframe thead th {\n",
              "        text-align: right;\n",
              "    }\n",
              "</style>\n",
              "<table border=\"1\" class=\"dataframe\">\n",
              "  <thead>\n",
              "    <tr style=\"text-align: right;\">\n",
              "      <th></th>\n",
              "      <th>Unnamed: 0</th>\n",
              "      <th>DATE</th>\n",
              "      <th>TIME</th>\n",
              "      <th>LATITUDE</th>\n",
              "      <th>LONGITUDE</th>\n",
              "      <th>DEPTH</th>\n",
              "      <th>MAG</th>\n",
              "      <th>DATETIME</th>\n",
              "      <th>TVAL</th>\n",
              "      <th>MEAN_MAG</th>\n",
              "      <th>ENERGY</th>\n",
              "      <th>b</th>\n",
              "      <th>MAG_DEF</th>\n",
              "      <th>ETA</th>\n",
              "      <th>MU</th>\n",
              "      <th>c</th>\n",
              "      <th>NO_OF_EVENTS</th>\n",
              "    </tr>\n",
              "  </thead>\n",
              "  <tbody>\n",
              "    <tr>\n",
              "      <th>0</th>\n",
              "      <td>0</td>\n",
              "      <td>1963-02-21</td>\n",
              "      <td>00:00:00</td>\n",
              "      <td>-6.30</td>\n",
              "      <td>106.70</td>\n",
              "      <td>38.0</td>\n",
              "      <td>4.8</td>\n",
              "      <td>1963-02-21</td>\n",
              "      <td>0</td>\n",
              "      <td>0.000</td>\n",
              "      <td>0.000000e+00</td>\n",
              "      <td>1.047597</td>\n",
              "      <td>-6.167458</td>\n",
              "      <td>-0.958956</td>\n",
              "      <td>0.00</td>\n",
              "      <td>0.000000</td>\n",
              "      <td>1</td>\n",
              "    </tr>\n",
              "    <tr>\n",
              "      <th>1</th>\n",
              "      <td>1</td>\n",
              "      <td>1963-02-21</td>\n",
              "      <td>00:00:00</td>\n",
              "      <td>-6.30</td>\n",
              "      <td>106.80</td>\n",
              "      <td>33.0</td>\n",
              "      <td>5.2</td>\n",
              "      <td>1963-02-21</td>\n",
              "      <td>0</td>\n",
              "      <td>0.000</td>\n",
              "      <td>0.000000e+00</td>\n",
              "      <td>1.047597</td>\n",
              "      <td>-6.167458</td>\n",
              "      <td>-0.979456</td>\n",
              "      <td>0.00</td>\n",
              "      <td>0.000000</td>\n",
              "      <td>1</td>\n",
              "    </tr>\n",
              "    <tr>\n",
              "      <th>2</th>\n",
              "      <td>2</td>\n",
              "      <td>1963-02-22</td>\n",
              "      <td>00:00:00</td>\n",
              "      <td>-6.10</td>\n",
              "      <td>106.30</td>\n",
              "      <td>172.0</td>\n",
              "      <td>4.9</td>\n",
              "      <td>1963-02-22</td>\n",
              "      <td>0</td>\n",
              "      <td>0.000</td>\n",
              "      <td>0.000000e+00</td>\n",
              "      <td>1.047597</td>\n",
              "      <td>-6.167458</td>\n",
              "      <td>-0.964740</td>\n",
              "      <td>0.00</td>\n",
              "      <td>0.000000</td>\n",
              "      <td>1</td>\n",
              "    </tr>\n",
              "    <tr>\n",
              "      <th>3</th>\n",
              "      <td>3</td>\n",
              "      <td>1963-03-23</td>\n",
              "      <td>00:00:00</td>\n",
              "      <td>-9.80</td>\n",
              "      <td>114.00</td>\n",
              "      <td>99.0</td>\n",
              "      <td>4.8</td>\n",
              "      <td>1963-03-23</td>\n",
              "      <td>0</td>\n",
              "      <td>0.000</td>\n",
              "      <td>0.000000e+00</td>\n",
              "      <td>1.047597</td>\n",
              "      <td>-6.167458</td>\n",
              "      <td>-0.958956</td>\n",
              "      <td>0.00</td>\n",
              "      <td>0.000000</td>\n",
              "      <td>1</td>\n",
              "    </tr>\n",
              "    <tr>\n",
              "      <th>4</th>\n",
              "      <td>4</td>\n",
              "      <td>1963-05-06</td>\n",
              "      <td>00:00:00</td>\n",
              "      <td>-9.20</td>\n",
              "      <td>112.40</td>\n",
              "      <td>80.0</td>\n",
              "      <td>6.1</td>\n",
              "      <td>1963-05-06</td>\n",
              "      <td>0</td>\n",
              "      <td>0.000</td>\n",
              "      <td>0.000000e+00</td>\n",
              "      <td>1.047597</td>\n",
              "      <td>-6.167458</td>\n",
              "      <td>-0.999900</td>\n",
              "      <td>0.00</td>\n",
              "      <td>0.000000</td>\n",
              "      <td>1</td>\n",
              "    </tr>\n",
              "    <tr>\n",
              "      <th>...</th>\n",
              "      <td>...</td>\n",
              "      <td>...</td>\n",
              "      <td>...</td>\n",
              "      <td>...</td>\n",
              "      <td>...</td>\n",
              "      <td>...</td>\n",
              "      <td>...</td>\n",
              "      <td>...</td>\n",
              "      <td>...</td>\n",
              "      <td>...</td>\n",
              "      <td>...</td>\n",
              "      <td>...</td>\n",
              "      <td>...</td>\n",
              "      <td>...</td>\n",
              "      <td>...</td>\n",
              "      <td>...</td>\n",
              "      <td>...</td>\n",
              "    </tr>\n",
              "    <tr>\n",
              "      <th>6958</th>\n",
              "      <td>6958</td>\n",
              "      <td>2020-05-10</td>\n",
              "      <td>00:00:00</td>\n",
              "      <td>-8.30</td>\n",
              "      <td>115.99</td>\n",
              "      <td>10.0</td>\n",
              "      <td>4.5</td>\n",
              "      <td>2020-05-10</td>\n",
              "      <td>94</td>\n",
              "      <td>4.762</td>\n",
              "      <td>1.751722e+09</td>\n",
              "      <td>1.047597</td>\n",
              "      <td>-0.667458</td>\n",
              "      <td>-0.999954</td>\n",
              "      <td>1.84</td>\n",
              "      <td>1.073748</td>\n",
              "      <td>50</td>\n",
              "    </tr>\n",
              "    <tr>\n",
              "      <th>6959</th>\n",
              "      <td>6959</td>\n",
              "      <td>2020-05-11</td>\n",
              "      <td>00:00:00</td>\n",
              "      <td>-8.74</td>\n",
              "      <td>118.39</td>\n",
              "      <td>123.0</td>\n",
              "      <td>4.5</td>\n",
              "      <td>2020-05-11</td>\n",
              "      <td>92</td>\n",
              "      <td>4.758</td>\n",
              "      <td>1.781357e+09</td>\n",
              "      <td>1.047597</td>\n",
              "      <td>-0.667458</td>\n",
              "      <td>-0.999954</td>\n",
              "      <td>1.82</td>\n",
              "      <td>1.081950</td>\n",
              "      <td>50</td>\n",
              "    </tr>\n",
              "    <tr>\n",
              "      <th>6960</th>\n",
              "      <td>6960</td>\n",
              "      <td>2020-05-12</td>\n",
              "      <td>00:00:00</td>\n",
              "      <td>-8.29</td>\n",
              "      <td>115.99</td>\n",
              "      <td>10.0</td>\n",
              "      <td>4.7</td>\n",
              "      <td>2020-05-12</td>\n",
              "      <td>92</td>\n",
              "      <td>4.756</td>\n",
              "      <td>1.777497e+09</td>\n",
              "      <td>1.047597</td>\n",
              "      <td>-0.667458</td>\n",
              "      <td>-0.999928</td>\n",
              "      <td>1.82</td>\n",
              "      <td>1.081950</td>\n",
              "      <td>30</td>\n",
              "    </tr>\n",
              "    <tr>\n",
              "      <th>6961</th>\n",
              "      <td>6961</td>\n",
              "      <td>2020-05-14</td>\n",
              "      <td>00:00:00</td>\n",
              "      <td>-9.24</td>\n",
              "      <td>119.20</td>\n",
              "      <td>21.0</td>\n",
              "      <td>4.7</td>\n",
              "      <td>2020-05-14</td>\n",
              "      <td>90</td>\n",
              "      <td>4.750</td>\n",
              "      <td>1.796929e+09</td>\n",
              "      <td>1.047597</td>\n",
              "      <td>-0.667458</td>\n",
              "      <td>-0.999928</td>\n",
              "      <td>1.76</td>\n",
              "      <td>1.106874</td>\n",
              "      <td>30</td>\n",
              "    </tr>\n",
              "    <tr>\n",
              "      <th>6962</th>\n",
              "      <td>6962</td>\n",
              "      <td>2020-05-15</td>\n",
              "      <td>00:00:00</td>\n",
              "      <td>-6.41</td>\n",
              "      <td>103.62</td>\n",
              "      <td>10.0</td>\n",
              "      <td>4.5</td>\n",
              "      <td>2020-05-15</td>\n",
              "      <td>88</td>\n",
              "      <td>4.754</td>\n",
              "      <td>1.846599e+09</td>\n",
              "      <td>1.047597</td>\n",
              "      <td>-0.667458</td>\n",
              "      <td>-0.999954</td>\n",
              "      <td>1.74</td>\n",
              "      <td>1.115288</td>\n",
              "      <td>50</td>\n",
              "    </tr>\n",
              "  </tbody>\n",
              "</table>\n",
              "<p>6963 rows × 17 columns</p>\n",
              "</div>"
            ],
            "text/plain": [
              "      Unnamed: 0        DATE      TIME  ...    MU         c  NO_OF_EVENTS\n",
              "0              0  1963-02-21  00:00:00  ...  0.00  0.000000             1\n",
              "1              1  1963-02-21  00:00:00  ...  0.00  0.000000             1\n",
              "2              2  1963-02-22  00:00:00  ...  0.00  0.000000             1\n",
              "3              3  1963-03-23  00:00:00  ...  0.00  0.000000             1\n",
              "4              4  1963-05-06  00:00:00  ...  0.00  0.000000             1\n",
              "...          ...         ...       ...  ...   ...       ...           ...\n",
              "6958        6958  2020-05-10  00:00:00  ...  1.84  1.073748            50\n",
              "6959        6959  2020-05-11  00:00:00  ...  1.82  1.081950            50\n",
              "6960        6960  2020-05-12  00:00:00  ...  1.82  1.081950            30\n",
              "6961        6961  2020-05-14  00:00:00  ...  1.76  1.106874            30\n",
              "6962        6962  2020-05-15  00:00:00  ...  1.74  1.115288            50\n",
              "\n",
              "[6963 rows x 17 columns]"
            ]
          },
          "metadata": {
            "tags": []
          },
          "execution_count": 207
        }
      ]
    },
    {
      "cell_type": "code",
      "metadata": {
        "colab": {
          "base_uri": "https://localhost:8080/"
        },
        "id": "YgDSe3POt1Iy",
        "outputId": "0e67f401-9ca4-4221-d781-3a5bb05139ad"
      },
      "source": [
        "check_all_nan(central3_dataf)"
      ],
      "execution_count": null,
      "outputs": [
        {
          "output_type": "stream",
          "text": [
            "nan not found\n"
          ],
          "name": "stdout"
        }
      ]
    },
    {
      "cell_type": "code",
      "metadata": {
        "id": "czez3zcE27-8"
      },
      "source": [
        "#central3_dataf.to_csv(\"central4.5_dataf.csv\")"
      ],
      "execution_count": null,
      "outputs": []
    },
    {
      "cell_type": "markdown",
      "metadata": {
        "id": "6249EFMA48vB"
      },
      "source": [
        "#CENTRAL DATA VISUALIZATION"
      ]
    },
    {
      "cell_type": "markdown",
      "metadata": {
        "id": "W0LN72Rd5Bpq"
      },
      "source": [
        "GUTENBERG RICHTER LAW VISUALIZATION"
      ]
    },
    {
      "cell_type": "code",
      "metadata": {
        "colab": {
          "base_uri": "https://localhost:8080/",
          "height": 279
        },
        "id": "Tze8jNOB5Bps",
        "outputId": "184455a3-0f6f-4d7c-ddf4-996b3b492863"
      },
      "source": [
        "plt.hist(central_dataf[\"MAG\"])\n",
        "plt.xlabel(\"MAGNITUDE\")\n",
        "plt.ylabel(\"FREQUENCY OF EVENTS\")\n",
        "plt.show()"
      ],
      "execution_count": null,
      "outputs": [
        {
          "output_type": "display_data",
          "data": {
            "image/png": "[encoded data removed]",
            "text/plain": [
              "<Figure size 432x288 with 1 Axes>"
            ]
          },
          "metadata": {
            "tags": []
          }
        }
      ]
    },
    {
      "cell_type": "markdown",
      "metadata": {
        "id": "0AS5VlfR5Bp9"
      },
      "source": [
        "T VALUES (SEISMICITY INDICATOR)"
      ]
    },
    {
      "cell_type": "code",
      "metadata": {
        "colab": {
          "base_uri": "https://localhost:8080/",
          "height": 279
        },
        "id": "4laQG-KN5Bp-",
        "outputId": "4ffad27a-9197-46d7-ff1f-152e4911be78"
      },
      "source": [
        "plt.plot(central_dataf.loc[60:,(\"TVAL\")])\n",
        "plt.xlabel(\"EVENT NUMBER\")\n",
        "plt.ylabel(\"T VALUE\")\n",
        "plt.show()"
      ],
      "execution_count": null,
      "outputs": [
        {
          "output_type": "display_data",
          "data": {
            "image/png": "[encoded data removed]",
            "text/plain": [
              "<Figure size 432x288 with 1 Axes>"
            ]
          },
          "metadata": {
            "tags": []
          }
        }
      ]
    },
    {
      "cell_type": "markdown",
      "metadata": {
        "id": "S1elhWra5BqF"
      },
      "source": [
        "MEAN MAGNITUDE (SEISMICITY INDICATOR)"
      ]
    },
    {
      "cell_type": "code",
      "metadata": {
        "colab": {
          "base_uri": "https://localhost:8080/",
          "height": 279
        },
        "id": "p9OwQA9Q5BqH",
        "outputId": "92d42f81-1998-4798-8f3c-e95b6a72519e"
      },
      "source": [
        "plt.plot(central_dataf[\"MEAN_MAG\"])\n",
        "plt.xlabel(\"EVENT NUMBER\")\n",
        "plt.ylabel(\"MEAN MAGNITUDE\")\n",
        "plt.show()"
      ],
      "execution_count": null,
      "outputs": [
        {
          "output_type": "display_data",
          "data": {
            "image/png": "[encoded data removed]",
            "text/plain": [
              "<Figure size 432x288 with 1 Axes>"
            ]
          },
          "metadata": {
            "tags": []
          }
        }
      ]
    },
    {
      "cell_type": "markdown",
      "metadata": {
        "id": "N-rtVxrt5BqO"
      },
      "source": [
        "ENERGY ((SEISMICITY INDICATOR)"
      ]
    },
    {
      "cell_type": "code",
      "metadata": {
        "colab": {
          "base_uri": "https://localhost:8080/",
          "height": 290
        },
        "id": "IrBTKfZ25BqP",
        "outputId": "e058fbde-a31e-4f60-8ed7-165a236bcccf"
      },
      "source": [
        "plt.plot(central_dataf[\"ENERGY\"])\n",
        "plt.xlabel(\"EVENT NUMBER\")\n",
        "plt.ylabel(\"ENERGY\")\n",
        "plt.show()"
      ],
      "execution_count": null,
      "outputs": [
        {
          "output_type": "display_data",
          "data": {
            "image/png": "[encoded data removed]",
            "text/plain": [
              "<Figure size 432x288 with 1 Axes>"
            ]
          },
          "metadata": {
            "tags": []
          }
        }
      ]
    },
    {
      "cell_type": "markdown",
      "metadata": {
        "id": "f6d0JS365BqY"
      },
      "source": [
        "ETA VALUE (SEISMICITY INDICATOR)"
      ]
    },
    {
      "cell_type": "code",
      "metadata": {
        "colab": {
          "base_uri": "https://localhost:8080/",
          "height": 279
        },
        "id": "PalZju-25BqZ",
        "outputId": "00b842bd-01fc-4288-fff5-cd87931e9ed3"
      },
      "source": [
        "plt.plot(np.array(central_dataf[\"ETA\"])*-1)\n",
        "plt.xlabel(\"EVENT NUMBER\")\n",
        "plt.ylabel(\"DEVIATION (ETA VALUE)\")\n",
        "plt.show()"
      ],
      "execution_count": null,
      "outputs": [
        {
          "output_type": "display_data",
          "data": {
            "image/png": "[encoded data removed]",
            "text/plain": [
              "<Figure size 432x288 with 1 Axes>"
            ]
          },
          "metadata": {
            "tags": []
          }
        }
      ]
    },
    {
      "cell_type": "markdown",
      "metadata": {
        "id": "K7iCjc1J5Bqg"
      },
      "source": [
        "MAGNITUDE DEFICIT (SEISMICITY INDICATOR)"
      ]
    },
    {
      "cell_type": "code",
      "metadata": {
        "colab": {
          "base_uri": "https://localhost:8080/",
          "height": 280
        },
        "id": "nTlg8twE5Bqh",
        "outputId": "af00ba67-214f-48a4-e18e-9f751aff0067"
      },
      "source": [
        "plt.plot(central_dataf[\"MAG_DEF\"])\n",
        "plt.xlabel(\"EVENT NUMBER\")\n",
        "plt.ylabel(\"MAGNITUDE DEFICIT\")\n",
        "plt.show()"
      ],
      "execution_count": null,
      "outputs": [
        {
          "output_type": "display_data",
          "data": {
            "image/png": "[encoded data removed]",
            "text/plain": [
              "<Figure size 432x288 with 1 Axes>"
            ]
          },
          "metadata": {
            "tags": []
          }
        }
      ]
    },
    {
      "cell_type": "markdown",
      "metadata": {
        "id": "0b2_prbWSNc9"
      },
      "source": [
        "#ASIAN DATA"
      ]
    },
    {
      "cell_type": "code",
      "metadata": {
        "colab": {
          "base_uri": "https://localhost:8080/",
          "height": 402
        },
        "id": "I88BDGFpS2KM",
        "outputId": "465c27bf-ec92-4408-a119-1cc6902ae80f"
      },
      "source": [
        "asian_dataf = pd.read_excel('Asian Data.xlsx')\n",
        "asian_dataf"
      ],
      "execution_count": null,
      "outputs": [
        {
          "output_type": "execute_result",
          "data": {
            "text/html": [
              "<div>\n",
              "<style scoped>\n",
              "    .dataframe tbody tr th:only-of-type {\n",
              "        vertical-align: middle;\n",
              "    }\n",
              "\n",
              "    .dataframe tbody tr th {\n",
              "        vertical-align: top;\n",
              "    }\n",
              "\n",
              "    .dataframe thead th {\n",
              "        text-align: right;\n",
              "    }\n",
              "</style>\n",
              "<table border=\"1\" class=\"dataframe\">\n",
              "  <thead>\n",
              "    <tr style=\"text-align: right;\">\n",
              "      <th></th>\n",
              "      <th>Date</th>\n",
              "      <th>Time</th>\n",
              "      <th>Lat</th>\n",
              "      <th>Long</th>\n",
              "      <th>Depth</th>\n",
              "      <th>Mag</th>\n",
              "    </tr>\n",
              "  </thead>\n",
              "  <tbody>\n",
              "    <tr>\n",
              "      <th>0</th>\n",
              "      <td>1970-01-01</td>\n",
              "      <td>03:29:16.800000</td>\n",
              "      <td>-4.9300</td>\n",
              "      <td>102.7330</td>\n",
              "      <td>58.0</td>\n",
              "      <td>5.4</td>\n",
              "    </tr>\n",
              "    <tr>\n",
              "      <th>1</th>\n",
              "      <td>1970-01-03</td>\n",
              "      <td>14:51:48.600000</td>\n",
              "      <td>-3.6840</td>\n",
              "      <td>118.7490</td>\n",
              "      <td>38.0</td>\n",
              "      <td>5.2</td>\n",
              "    </tr>\n",
              "    <tr>\n",
              "      <th>2</th>\n",
              "      <td>1970-01-04</td>\n",
              "      <td>17:00:40.200000</td>\n",
              "      <td>24.1390</td>\n",
              "      <td>102.5030</td>\n",
              "      <td>31.0</td>\n",
              "      <td>7.5</td>\n",
              "    </tr>\n",
              "    <tr>\n",
              "      <th>3</th>\n",
              "      <td>1970-01-04</td>\n",
              "      <td>17:32:40.200000</td>\n",
              "      <td>24.2020</td>\n",
              "      <td>102.4660</td>\n",
              "      <td>33.0</td>\n",
              "      <td>5.2</td>\n",
              "    </tr>\n",
              "    <tr>\n",
              "      <th>4</th>\n",
              "      <td>1970-01-04</td>\n",
              "      <td>18:32:09.500000</td>\n",
              "      <td>24.2740</td>\n",
              "      <td>102.3010</td>\n",
              "      <td>33.0</td>\n",
              "      <td>4.9</td>\n",
              "    </tr>\n",
              "    <tr>\n",
              "      <th>...</th>\n",
              "      <td>...</td>\n",
              "      <td>...</td>\n",
              "      <td>...</td>\n",
              "      <td>...</td>\n",
              "      <td>...</td>\n",
              "      <td>...</td>\n",
              "    </tr>\n",
              "    <tr>\n",
              "      <th>65331</th>\n",
              "      <td>2018-06-30</td>\n",
              "      <td>08:47:40.740000</td>\n",
              "      <td>36.6114</td>\n",
              "      <td>71.1247</td>\n",
              "      <td>223.2</td>\n",
              "      <td>4.4</td>\n",
              "    </tr>\n",
              "    <tr>\n",
              "      <th>65332</th>\n",
              "      <td>2018-06-30</td>\n",
              "      <td>11:27:42.410000</td>\n",
              "      <td>32.6066</td>\n",
              "      <td>50.1973</td>\n",
              "      <td>11.0</td>\n",
              "      <td>4.2</td>\n",
              "    </tr>\n",
              "    <tr>\n",
              "      <th>65333</th>\n",
              "      <td>2018-06-30</td>\n",
              "      <td>17:40:32.330000</td>\n",
              "      <td>13.0849</td>\n",
              "      <td>50.9012</td>\n",
              "      <td>16.0</td>\n",
              "      <td>4.3</td>\n",
              "    </tr>\n",
              "    <tr>\n",
              "      <th>65334</th>\n",
              "      <td>2018-06-30</td>\n",
              "      <td>17:43:27.330000</td>\n",
              "      <td>13.3060</td>\n",
              "      <td>50.8974</td>\n",
              "      <td>12.0</td>\n",
              "      <td>4.7</td>\n",
              "    </tr>\n",
              "    <tr>\n",
              "      <th>65335</th>\n",
              "      <td>2018-06-30</td>\n",
              "      <td>18:56:29.720000</td>\n",
              "      <td>-1.1879</td>\n",
              "      <td>97.9378</td>\n",
              "      <td>20.3</td>\n",
              "      <td>4.0</td>\n",
              "    </tr>\n",
              "  </tbody>\n",
              "</table>\n",
              "<p>65336 rows × 6 columns</p>\n",
              "</div>"
            ],
            "text/plain": [
              "            Date             Time      Lat      Long  Depth  Mag\n",
              "0     1970-01-01  03:29:16.800000  -4.9300  102.7330   58.0  5.4\n",
              "1     1970-01-03  14:51:48.600000  -3.6840  118.7490   38.0  5.2\n",
              "2     1970-01-04  17:00:40.200000  24.1390  102.5030   31.0  7.5\n",
              "3     1970-01-04  17:32:40.200000  24.2020  102.4660   33.0  5.2\n",
              "4     1970-01-04  18:32:09.500000  24.2740  102.3010   33.0  4.9\n",
              "...          ...              ...      ...       ...    ...  ...\n",
              "65331 2018-06-30  08:47:40.740000  36.6114   71.1247  223.2  4.4\n",
              "65332 2018-06-30  11:27:42.410000  32.6066   50.1973   11.0  4.2\n",
              "65333 2018-06-30  17:40:32.330000  13.0849   50.9012   16.0  4.3\n",
              "65334 2018-06-30  17:43:27.330000  13.3060   50.8974   12.0  4.7\n",
              "65335 2018-06-30  18:56:29.720000  -1.1879   97.9378   20.3  4.0\n",
              "\n",
              "[65336 rows x 6 columns]"
            ]
          },
          "metadata": {
            "tags": []
          },
          "execution_count": 15
        }
      ]
    },
    {
      "cell_type": "markdown",
      "metadata": {
        "id": "DD0MMzXrS2Kt"
      },
      "source": [
        "**SIMPLE PREPROCESSING**"
      ]
    },
    {
      "cell_type": "code",
      "metadata": {
        "id": "IitOoR5PS2Ku"
      },
      "source": [
        "asian_dataf = asian_dataf.rename(columns={'Date':'DATE',\n",
        "                              'Time':'TIME',\n",
        "                              'Lat':'LATITUDE',\n",
        "                              'Long':'LONGITUDE',\n",
        "                              'Depth':'DEPTH',\n",
        "                              'Mag':'MAG'})"
      ],
      "execution_count": null,
      "outputs": []
    },
    {
      "cell_type": "code",
      "metadata": {
        "id": "p3PdNCGYS2K5"
      },
      "source": [
        "convert_dict = {\"DATE\":str,\"TIME\":str}\n",
        "asian_dataf = asian_dataf.astype(convert_dict)"
      ],
      "execution_count": null,
      "outputs": []
    },
    {
      "cell_type": "code",
      "metadata": {
        "id": "-QcGY01MS2K_"
      },
      "source": [
        "asian_dataf['DATETIME'] = asian_dataf[\"DATE\"] + \" \" + asian_dataf[\"TIME\"]\n",
        "asian_dataf['DATETIME'] = pd.to_datetime(asian_dataf[\"DATETIME\"], format='%Y/%m/%d %H:%M:%S')"
      ],
      "execution_count": null,
      "outputs": []
    },
    {
      "cell_type": "code",
      "metadata": {
        "id": "TLGyCS18S2LG"
      },
      "source": [
        "asian_dataf[\"DATE\"] = pd.to_datetime(asian_dataf[\"DATE\"])"
      ],
      "execution_count": null,
      "outputs": []
    },
    {
      "cell_type": "code",
      "metadata": {
        "colab": {
          "base_uri": "https://localhost:8080/",
          "height": 402
        },
        "id": "sAyOHi8kS2LM",
        "outputId": "181aab86-4776-4cfa-e961-797be44e6eb3"
      },
      "source": [
        "asian_dataf"
      ],
      "execution_count": null,
      "outputs": [
        {
          "output_type": "execute_result",
          "data": {
            "text/html": [
              "<div>\n",
              "<style scoped>\n",
              "    .dataframe tbody tr th:only-of-type {\n",
              "        vertical-align: middle;\n",
              "    }\n",
              "\n",
              "    .dataframe tbody tr th {\n",
              "        vertical-align: top;\n",
              "    }\n",
              "\n",
              "    .dataframe thead th {\n",
              "        text-align: right;\n",
              "    }\n",
              "</style>\n",
              "<table border=\"1\" class=\"dataframe\">\n",
              "  <thead>\n",
              "    <tr style=\"text-align: right;\">\n",
              "      <th></th>\n",
              "      <th>DATE</th>\n",
              "      <th>TIME</th>\n",
              "      <th>LATITUDE</th>\n",
              "      <th>LONGITUDE</th>\n",
              "      <th>DEPTH</th>\n",
              "      <th>MAG</th>\n",
              "      <th>DATETIME</th>\n",
              "    </tr>\n",
              "  </thead>\n",
              "  <tbody>\n",
              "    <tr>\n",
              "      <th>0</th>\n",
              "      <td>1970-01-01</td>\n",
              "      <td>03:29:16.800000</td>\n",
              "      <td>-4.9300</td>\n",
              "      <td>102.7330</td>\n",
              "      <td>58.0</td>\n",
              "      <td>5.4</td>\n",
              "      <td>1970-01-01 03:29:16.800</td>\n",
              "    </tr>\n",
              "    <tr>\n",
              "      <th>1</th>\n",
              "      <td>1970-01-03</td>\n",
              "      <td>14:51:48.600000</td>\n",
              "      <td>-3.6840</td>\n",
              "      <td>118.7490</td>\n",
              "      <td>38.0</td>\n",
              "      <td>5.2</td>\n",
              "      <td>1970-01-03 14:51:48.600</td>\n",
              "    </tr>\n",
              "    <tr>\n",
              "      <th>2</th>\n",
              "      <td>1970-01-04</td>\n",
              "      <td>17:00:40.200000</td>\n",
              "      <td>24.1390</td>\n",
              "      <td>102.5030</td>\n",
              "      <td>31.0</td>\n",
              "      <td>7.5</td>\n",
              "      <td>1970-01-04 17:00:40.200</td>\n",
              "    </tr>\n",
              "    <tr>\n",
              "      <th>3</th>\n",
              "      <td>1970-01-04</td>\n",
              "      <td>17:32:40.200000</td>\n",
              "      <td>24.2020</td>\n",
              "      <td>102.4660</td>\n",
              "      <td>33.0</td>\n",
              "      <td>5.2</td>\n",
              "      <td>1970-01-04 17:32:40.200</td>\n",
              "    </tr>\n",
              "    <tr>\n",
              "      <th>4</th>\n",
              "      <td>1970-01-04</td>\n",
              "      <td>18:32:09.500000</td>\n",
              "      <td>24.2740</td>\n",
              "      <td>102.3010</td>\n",
              "      <td>33.0</td>\n",
              "      <td>4.9</td>\n",
              "      <td>1970-01-04 18:32:09.500</td>\n",
              "    </tr>\n",
              "    <tr>\n",
              "      <th>...</th>\n",
              "      <td>...</td>\n",
              "      <td>...</td>\n",
              "      <td>...</td>\n",
              "      <td>...</td>\n",
              "      <td>...</td>\n",
              "      <td>...</td>\n",
              "      <td>...</td>\n",
              "    </tr>\n",
              "    <tr>\n",
              "      <th>65331</th>\n",
              "      <td>2018-06-30</td>\n",
              "      <td>08:47:40.740000</td>\n",
              "      <td>36.6114</td>\n",
              "      <td>71.1247</td>\n",
              "      <td>223.2</td>\n",
              "      <td>4.4</td>\n",
              "      <td>2018-06-30 08:47:40.740</td>\n",
              "    </tr>\n",
              "    <tr>\n",
              "      <th>65332</th>\n",
              "      <td>2018-06-30</td>\n",
              "      <td>11:27:42.410000</td>\n",
              "      <td>32.6066</td>\n",
              "      <td>50.1973</td>\n",
              "      <td>11.0</td>\n",
              "      <td>4.2</td>\n",
              "      <td>2018-06-30 11:27:42.410</td>\n",
              "    </tr>\n",
              "    <tr>\n",
              "      <th>65333</th>\n",
              "      <td>2018-06-30</td>\n",
              "      <td>17:40:32.330000</td>\n",
              "      <td>13.0849</td>\n",
              "      <td>50.9012</td>\n",
              "      <td>16.0</td>\n",
              "      <td>4.3</td>\n",
              "      <td>2018-06-30 17:40:32.330</td>\n",
              "    </tr>\n",
              "    <tr>\n",
              "      <th>65334</th>\n",
              "      <td>2018-06-30</td>\n",
              "      <td>17:43:27.330000</td>\n",
              "      <td>13.3060</td>\n",
              "      <td>50.8974</td>\n",
              "      <td>12.0</td>\n",
              "      <td>4.7</td>\n",
              "      <td>2018-06-30 17:43:27.330</td>\n",
              "    </tr>\n",
              "    <tr>\n",
              "      <th>65335</th>\n",
              "      <td>2018-06-30</td>\n",
              "      <td>18:56:29.720000</td>\n",
              "      <td>-1.1879</td>\n",
              "      <td>97.9378</td>\n",
              "      <td>20.3</td>\n",
              "      <td>4.0</td>\n",
              "      <td>2018-06-30 18:56:29.720</td>\n",
              "    </tr>\n",
              "  </tbody>\n",
              "</table>\n",
              "<p>65336 rows × 7 columns</p>\n",
              "</div>"
            ],
            "text/plain": [
              "            DATE             TIME  LATITUDE  ...  DEPTH  MAG                DATETIME\n",
              "0     1970-01-01  03:29:16.800000   -4.9300  ...   58.0  5.4 1970-01-01 03:29:16.800\n",
              "1     1970-01-03  14:51:48.600000   -3.6840  ...   38.0  5.2 1970-01-03 14:51:48.600\n",
              "2     1970-01-04  17:00:40.200000   24.1390  ...   31.0  7.5 1970-01-04 17:00:40.200\n",
              "3     1970-01-04  17:32:40.200000   24.2020  ...   33.0  5.2 1970-01-04 17:32:40.200\n",
              "4     1970-01-04  18:32:09.500000   24.2740  ...   33.0  4.9 1970-01-04 18:32:09.500\n",
              "...          ...              ...       ...  ...    ...  ...                     ...\n",
              "65331 2018-06-30  08:47:40.740000   36.6114  ...  223.2  4.4 2018-06-30 08:47:40.740\n",
              "65332 2018-06-30  11:27:42.410000   32.6066  ...   11.0  4.2 2018-06-30 11:27:42.410\n",
              "65333 2018-06-30  17:40:32.330000   13.0849  ...   16.0  4.3 2018-06-30 17:40:32.330\n",
              "65334 2018-06-30  17:43:27.330000   13.3060  ...   12.0  4.7 2018-06-30 17:43:27.330\n",
              "65335 2018-06-30  18:56:29.720000   -1.1879  ...   20.3  4.0 2018-06-30 18:56:29.720\n",
              "\n",
              "[65336 rows x 7 columns]"
            ]
          },
          "metadata": {
            "tags": []
          },
          "execution_count": 20
        }
      ]
    },
    {
      "cell_type": "code",
      "metadata": {
        "id": "N7IvoBA8S2LS"
      },
      "source": [
        "asian_dataf = process_data(asian_dataf)"
      ],
      "execution_count": null,
      "outputs": []
    },
    {
      "cell_type": "code",
      "metadata": {
        "colab": {
          "base_uri": "https://localhost:8080/",
          "height": 590
        },
        "id": "C7tV-TrSVuOW",
        "outputId": "3369cc98-1b05-4177-9d75-6048bd53835e"
      },
      "source": [
        "asian_dataf"
      ],
      "execution_count": null,
      "outputs": [
        {
          "output_type": "execute_result",
          "data": {
            "text/html": [
              "<div>\n",
              "<style scoped>\n",
              "    .dataframe tbody tr th:only-of-type {\n",
              "        vertical-align: middle;\n",
              "    }\n",
              "\n",
              "    .dataframe tbody tr th {\n",
              "        vertical-align: top;\n",
              "    }\n",
              "\n",
              "    .dataframe thead th {\n",
              "        text-align: right;\n",
              "    }\n",
              "</style>\n",
              "<table border=\"1\" class=\"dataframe\">\n",
              "  <thead>\n",
              "    <tr style=\"text-align: right;\">\n",
              "      <th></th>\n",
              "      <th>DATE</th>\n",
              "      <th>TIME</th>\n",
              "      <th>LATITUDE</th>\n",
              "      <th>LONGITUDE</th>\n",
              "      <th>DEPTH</th>\n",
              "      <th>MAG</th>\n",
              "      <th>DATETIME</th>\n",
              "      <th>TVAL</th>\n",
              "      <th>MEAN_MAG</th>\n",
              "      <th>ENERGY</th>\n",
              "      <th>b</th>\n",
              "      <th>MAG_DEF</th>\n",
              "      <th>ETA</th>\n",
              "      <th>MU</th>\n",
              "      <th>c</th>\n",
              "      <th>NO_OF_EVENTS</th>\n",
              "    </tr>\n",
              "  </thead>\n",
              "  <tbody>\n",
              "    <tr>\n",
              "      <th>0</th>\n",
              "      <td>1970-01-01</td>\n",
              "      <td>03:29:16.800000</td>\n",
              "      <td>-4.9300</td>\n",
              "      <td>102.7330</td>\n",
              "      <td>58.0</td>\n",
              "      <td>5.4</td>\n",
              "      <td>1970-01-01 03:29:16.800</td>\n",
              "      <td>0.000000</td>\n",
              "      <td>0.000</td>\n",
              "      <td>0.000000e+00</td>\n",
              "      <td>0.31729</td>\n",
              "      <td>-8.475827</td>\n",
              "      <td>-0.980951</td>\n",
              "      <td>0.000000</td>\n",
              "      <td>0.000000</td>\n",
              "      <td>1</td>\n",
              "    </tr>\n",
              "    <tr>\n",
              "      <th>1</th>\n",
              "      <td>1970-01-03</td>\n",
              "      <td>14:51:48.600000</td>\n",
              "      <td>-3.6840</td>\n",
              "      <td>118.7490</td>\n",
              "      <td>38.0</td>\n",
              "      <td>5.2</td>\n",
              "      <td>1970-01-03 14:51:48.600</td>\n",
              "      <td>0.000000</td>\n",
              "      <td>0.000</td>\n",
              "      <td>0.000000e+00</td>\n",
              "      <td>0.31729</td>\n",
              "      <td>-8.475827</td>\n",
              "      <td>-0.978393</td>\n",
              "      <td>0.000000</td>\n",
              "      <td>0.000000</td>\n",
              "      <td>1</td>\n",
              "    </tr>\n",
              "    <tr>\n",
              "      <th>2</th>\n",
              "      <td>1970-01-04</td>\n",
              "      <td>17:00:40.200000</td>\n",
              "      <td>24.1390</td>\n",
              "      <td>102.5030</td>\n",
              "      <td>31.0</td>\n",
              "      <td>7.5</td>\n",
              "      <td>1970-01-04 17:00:40.200</td>\n",
              "      <td>0.000000</td>\n",
              "      <td>0.000</td>\n",
              "      <td>0.000000e+00</td>\n",
              "      <td>0.31729</td>\n",
              "      <td>-8.475827</td>\n",
              "      <td>-0.998083</td>\n",
              "      <td>0.000000</td>\n",
              "      <td>0.000000</td>\n",
              "      <td>1</td>\n",
              "    </tr>\n",
              "    <tr>\n",
              "      <th>3</th>\n",
              "      <td>1970-01-04</td>\n",
              "      <td>17:32:40.200000</td>\n",
              "      <td>24.2020</td>\n",
              "      <td>102.4660</td>\n",
              "      <td>33.0</td>\n",
              "      <td>5.2</td>\n",
              "      <td>1970-01-04 17:32:40.200</td>\n",
              "      <td>0.000000</td>\n",
              "      <td>0.000</td>\n",
              "      <td>0.000000e+00</td>\n",
              "      <td>0.31729</td>\n",
              "      <td>-8.475827</td>\n",
              "      <td>-0.978393</td>\n",
              "      <td>0.000000</td>\n",
              "      <td>0.000000</td>\n",
              "      <td>1</td>\n",
              "    </tr>\n",
              "    <tr>\n",
              "      <th>4</th>\n",
              "      <td>1970-01-04</td>\n",
              "      <td>18:32:09.500000</td>\n",
              "      <td>24.2740</td>\n",
              "      <td>102.3010</td>\n",
              "      <td>33.0</td>\n",
              "      <td>4.9</td>\n",
              "      <td>1970-01-04 18:32:09.500</td>\n",
              "      <td>0.000000</td>\n",
              "      <td>0.000</td>\n",
              "      <td>0.000000e+00</td>\n",
              "      <td>0.31729</td>\n",
              "      <td>-8.475827</td>\n",
              "      <td>-0.974255</td>\n",
              "      <td>0.000000</td>\n",
              "      <td>0.000000</td>\n",
              "      <td>1</td>\n",
              "    </tr>\n",
              "    <tr>\n",
              "      <th>...</th>\n",
              "      <td>...</td>\n",
              "      <td>...</td>\n",
              "      <td>...</td>\n",
              "      <td>...</td>\n",
              "      <td>...</td>\n",
              "      <td>...</td>\n",
              "      <td>...</td>\n",
              "      <td>...</td>\n",
              "      <td>...</td>\n",
              "      <td>...</td>\n",
              "      <td>...</td>\n",
              "      <td>...</td>\n",
              "      <td>...</td>\n",
              "      <td>...</td>\n",
              "      <td>...</td>\n",
              "      <td>...</td>\n",
              "    </tr>\n",
              "    <tr>\n",
              "      <th>65331</th>\n",
              "      <td>2018-06-30</td>\n",
              "      <td>08:47:40.740000</td>\n",
              "      <td>36.6114</td>\n",
              "      <td>71.1247</td>\n",
              "      <td>223.2</td>\n",
              "      <td>4.4</td>\n",
              "      <td>2018-06-30 08:47:40.740</td>\n",
              "      <td>5.101019</td>\n",
              "      <td>4.034</td>\n",
              "      <td>1.030236e+10</td>\n",
              "      <td>0.31729</td>\n",
              "      <td>-3.575827</td>\n",
              "      <td>-0.998280</td>\n",
              "      <td>0.106383</td>\n",
              "      <td>2.925816</td>\n",
              "      <td>10</td>\n",
              "    </tr>\n",
              "    <tr>\n",
              "      <th>65332</th>\n",
              "      <td>2018-06-30</td>\n",
              "      <td>11:27:42.410000</td>\n",
              "      <td>32.6066</td>\n",
              "      <td>50.1973</td>\n",
              "      <td>11.0</td>\n",
              "      <td>4.2</td>\n",
              "      <td>2018-06-30 11:27:42.410</td>\n",
              "      <td>5.208600</td>\n",
              "      <td>4.024</td>\n",
              "      <td>9.672284e+09</td>\n",
              "      <td>0.31729</td>\n",
              "      <td>-3.675827</td>\n",
              "      <td>-0.999348</td>\n",
              "      <td>0.106383</td>\n",
              "      <td>2.925816</td>\n",
              "      <td>15</td>\n",
              "    </tr>\n",
              "    <tr>\n",
              "      <th>65333</th>\n",
              "      <td>2018-06-30</td>\n",
              "      <td>17:40:32.330000</td>\n",
              "      <td>13.0849</td>\n",
              "      <td>50.9012</td>\n",
              "      <td>16.0</td>\n",
              "      <td>4.3</td>\n",
              "      <td>2018-06-30 17:40:32.330</td>\n",
              "      <td>5.461748</td>\n",
              "      <td>4.024</td>\n",
              "      <td>9.223980e+09</td>\n",
              "      <td>0.31729</td>\n",
              "      <td>-3.675827</td>\n",
              "      <td>-0.998792</td>\n",
              "      <td>0.106383</td>\n",
              "      <td>2.925816</td>\n",
              "      <td>12</td>\n",
              "    </tr>\n",
              "    <tr>\n",
              "      <th>65334</th>\n",
              "      <td>2018-06-30</td>\n",
              "      <td>17:43:27.330000</td>\n",
              "      <td>13.3060</td>\n",
              "      <td>50.8974</td>\n",
              "      <td>12.0</td>\n",
              "      <td>4.7</td>\n",
              "      <td>2018-06-30 17:43:27.330</td>\n",
              "      <td>5.458345</td>\n",
              "      <td>4.028</td>\n",
              "      <td>9.301082e+09</td>\n",
              "      <td>0.31729</td>\n",
              "      <td>-3.675827</td>\n",
              "      <td>-0.992896</td>\n",
              "      <td>0.106383</td>\n",
              "      <td>2.925816</td>\n",
              "      <td>4</td>\n",
              "    </tr>\n",
              "    <tr>\n",
              "      <th>65335</th>\n",
              "      <td>2018-06-30</td>\n",
              "      <td>18:56:29.720000</td>\n",
              "      <td>-1.1879</td>\n",
              "      <td>97.9378</td>\n",
              "      <td>20.3</td>\n",
              "      <td>4.0</td>\n",
              "      <td>2018-06-30 18:56:29.720</td>\n",
              "      <td>5.376458</td>\n",
              "      <td>4.048</td>\n",
              "      <td>9.849623e+09</td>\n",
              "      <td>0.31729</td>\n",
              "      <td>-3.675827</td>\n",
              "      <td>-0.999964</td>\n",
              "      <td>0.106383</td>\n",
              "      <td>2.925816</td>\n",
              "      <td>29</td>\n",
              "    </tr>\n",
              "  </tbody>\n",
              "</table>\n",
              "<p>65336 rows × 16 columns</p>\n",
              "</div>"
            ],
            "text/plain": [
              "            DATE             TIME  LATITUDE  ...        MU         c  NO_OF_EVENTS\n",
              "0     1970-01-01  03:29:16.800000   -4.9300  ...  0.000000  0.000000             1\n",
              "1     1970-01-03  14:51:48.600000   -3.6840  ...  0.000000  0.000000             1\n",
              "2     1970-01-04  17:00:40.200000   24.1390  ...  0.000000  0.000000             1\n",
              "3     1970-01-04  17:32:40.200000   24.2020  ...  0.000000  0.000000             1\n",
              "4     1970-01-04  18:32:09.500000   24.2740  ...  0.000000  0.000000             1\n",
              "...          ...              ...       ...  ...       ...       ...           ...\n",
              "65331 2018-06-30  08:47:40.740000   36.6114  ...  0.106383  2.925816            10\n",
              "65332 2018-06-30  11:27:42.410000   32.6066  ...  0.106383  2.925816            15\n",
              "65333 2018-06-30  17:40:32.330000   13.0849  ...  0.106383  2.925816            12\n",
              "65334 2018-06-30  17:43:27.330000   13.3060  ...  0.106383  2.925816             4\n",
              "65335 2018-06-30  18:56:29.720000   -1.1879  ...  0.106383  2.925816            29\n",
              "\n",
              "[65336 rows x 16 columns]"
            ]
          },
          "metadata": {
            "tags": []
          },
          "execution_count": 23
        }
      ]
    },
    {
      "cell_type": "code",
      "metadata": {
        "colab": {
          "base_uri": "https://localhost:8080/"
        },
        "id": "ypan7t15Vtjw",
        "outputId": "fc7982d4-c116-4c8c-98bc-707affa7e88e"
      },
      "source": [
        "check_all_nan(asian_dataf)"
      ],
      "execution_count": null,
      "outputs": [
        {
          "output_type": "stream",
          "text": [
            "nan not found\n"
          ],
          "name": "stdout"
        }
      ]
    },
    {
      "cell_type": "code",
      "metadata": {
        "id": "kXUfQ_t9Vwek"
      },
      "source": [
        "#asian_dataf.to_csv(\"asian_dataf.csv\")"
      ],
      "execution_count": null,
      "outputs": []
    },
    {
      "cell_type": "code",
      "metadata": {
        "id": "_soyYk7GwL15"
      },
      "source": [
        "asian_output = get_output(asian_dataf,5.5)\n",
        "pd_dict = {\"OUTPUT\":asian_output}\n",
        "asian_dataf_output = pd.DataFrame(pd_dict)\n",
        "asian_dataf_output.to_csv(\"asian5.5_output.csv\")"
      ],
      "execution_count": null,
      "outputs": []
    },
    {
      "cell_type": "code",
      "metadata": {
        "colab": {
          "base_uri": "https://localhost:8080/"
        },
        "id": "FUHxpVZ6oRBO",
        "outputId": "457aa46a-298f-4d69-fbab-a858f7451319"
      },
      "source": [
        "np.unique(np.array(asian_dataf_output),return_counts=True)"
      ],
      "execution_count": null,
      "outputs": [
        {
          "output_type": "execute_result",
          "data": {
            "text/plain": [
              "(array([0, 1]), array([30865, 34471]))"
            ]
          },
          "metadata": {
            "tags": []
          },
          "execution_count": 179
        }
      ]
    },
    {
      "cell_type": "markdown",
      "metadata": {
        "id": "ecwr6AFU5Voq"
      },
      "source": [
        "#ASIAN DATA VISUALIZATION"
      ]
    },
    {
      "cell_type": "markdown",
      "metadata": {
        "id": "v2ryj3bQ5Yo8"
      },
      "source": [
        "GUTENBERG RICHTER LAW VISUALIZATION"
      ]
    },
    {
      "cell_type": "code",
      "metadata": {
        "colab": {
          "base_uri": "https://localhost:8080/",
          "height": 279
        },
        "id": "VsKjSE2o5Yo_",
        "outputId": "188a9fc3-392c-4d7d-e4f8-ab8f9d9c28db"
      },
      "source": [
        "plt.hist(asian_dataf[\"MAG\"])\n",
        "plt.xlabel(\"MAGNITUDE\")\n",
        "plt.ylabel(\"FREQUENCY OF EVENTS\")\n",
        "plt.show()"
      ],
      "execution_count": 105,
      "outputs": [
        {
          "output_type": "display_data",
          "data": {
            "image/png": "[encoded data removed]",
            "text/plain": [
              "<Figure size 432x288 with 1 Axes>"
            ]
          },
          "metadata": {
            "tags": [],
            "needs_background": "light"
          }
        }
      ]
    },
    {
      "cell_type": "markdown",
      "metadata": {
        "id": "i-dWsHZA5YpR"
      },
      "source": [
        "T VALUES (SEISMICITY INDICATOR)"
      ]
    },
    {
      "cell_type": "code",
      "metadata": {
        "colab": {
          "base_uri": "https://localhost:8080/",
          "height": 279
        },
        "id": "z_KBzzyl5YpT",
        "outputId": "384c22b7-cd10-4884-a90a-8044c79d4bae"
      },
      "source": [
        "plt.plot(asian_dataf.loc[60:,(\"TVAL\")])\n",
        "plt.xlabel(\"EVENT NUMBER\")\n",
        "plt.ylabel(\"T VALUE\")\n",
        "plt.show()"
      ],
      "execution_count": 106,
      "outputs": [
        {
          "output_type": "display_data",
          "data": {
            "image/png": "[encoded data removed]",
            "text/plain": [
              "<Figure size 432x288 with 1 Axes>"
            ]
          },
          "metadata": {
            "tags": [],
            "needs_background": "light"
          }
        }
      ]
    },
    {
      "cell_type": "markdown",
      "metadata": {
        "id": "Lh_HesTD5Ypb"
      },
      "source": [
        "MEAN MAGNITUDE (SEISMICITY INDICATOR)"
      ]
    },
    {
      "cell_type": "code",
      "metadata": {
        "colab": {
          "base_uri": "https://localhost:8080/",
          "height": 279
        },
        "id": "OnHFnGNC5Ypc",
        "outputId": "f953a9c2-6060-4081-9b56-473dd494e076"
      },
      "source": [
        "plt.plot(asian_dataf[\"MEAN_MAG\"])\n",
        "plt.xlabel(\"EVENT NUMBER\")\n",
        "plt.ylabel(\"MEAN MAGNITUDE\")\n",
        "plt.show()"
      ],
      "execution_count": 107,
      "outputs": [
        {
          "output_type": "display_data",
          "data": {
            "image/png": "[encoded data removed]",
            "text/plain": [
              "<Figure size 432x288 with 1 Axes>"
            ]
          },
          "metadata": {
            "tags": [],
            "needs_background": "light"
          }
        }
      ]
    },
    {
      "cell_type": "markdown",
      "metadata": {
        "id": "emywmquu5Ypj"
      },
      "source": [
        "ENERGY ((SEISMICITY INDICATOR)"
      ]
    },
    {
      "cell_type": "code",
      "metadata": {
        "colab": {
          "base_uri": "https://localhost:8080/",
          "height": 290
        },
        "id": "8OAig80d5Ypk",
        "outputId": "8d17f66d-1e60-4167-876f-853311c12921"
      },
      "source": [
        "plt.plot(asian_dataf[\"ENERGY\"])\n",
        "plt.xlabel(\"EVENT NUMBER\")\n",
        "plt.ylabel(\"ENERGY\")\n",
        "plt.show()"
      ],
      "execution_count": 108,
      "outputs": [
        {
          "output_type": "display_data",
          "data": {
            "image/png": "[encoded data removed]",
            "text/plain": [
              "<Figure size 432x288 with 1 Axes>"
            ]
          },
          "metadata": {
            "tags": [],
            "needs_background": "light"
          }
        }
      ]
    },
    {
      "cell_type": "markdown",
      "metadata": {
        "id": "XmOmCo1c5Ypr"
      },
      "source": [
        "ETA VALUE (SEISMICITY INDICATOR)"
      ]
    },
    {
      "cell_type": "code",
      "metadata": {
        "colab": {
          "base_uri": "https://localhost:8080/",
          "height": 279
        },
        "id": "kQJ3scaK5Yps",
        "outputId": "fa35add1-bb4d-473b-a554-f993db9a4fb7"
      },
      "source": [
        "plt.plot(np.array(asian_dataf[\"ETA\"])*-1)\n",
        "plt.xlabel(\"EVENT NUMBER\")\n",
        "plt.ylabel(\"DEVIATION (ETA VALUE)\")\n",
        "plt.show()"
      ],
      "execution_count": 109,
      "outputs": [
        {
          "output_type": "display_data",
          "data": {
            "image/png": "[encoded data removed]",
            "text/plain": [
              "<Figure size 432x288 with 1 Axes>"
            ]
          },
          "metadata": {
            "tags": [],
            "needs_background": "light"
          }
        }
      ]
    },
    {
      "cell_type": "markdown",
      "metadata": {
        "id": "RcHvfiJv5Ypy"
      },
      "source": [
        "MAGNITUDE DEFICIT (SEISMICITY INDICATOR)"
      ]
    },
    {
      "cell_type": "code",
      "metadata": {
        "colab": {
          "base_uri": "https://localhost:8080/",
          "height": 279
        },
        "id": "REYmR3kb5Yp0",
        "outputId": "be93d2e6-a4e9-42b5-f23a-5049c2bf8b02"
      },
      "source": [
        "plt.plot(asian_dataf[\"MAG_DEF\"])\n",
        "plt.xlabel(\"EVENT NUMBER\")\n",
        "plt.ylabel(\"MAGNITUDE DEFICIT\")\n",
        "plt.show()"
      ],
      "execution_count": 110,
      "outputs": [
        {
          "output_type": "display_data",
          "data": {
            "image/png": "[encoded data removed]",
            "text/plain": [
              "<Figure size 432x288 with 1 Axes>"
            ]
          },
          "metadata": {
            "tags": [],
            "needs_background": "light"
          }
        }
      ]
    },
    {
      "cell_type": "markdown",
      "metadata": {
        "id": "3Jzg4X_GZL76"
      },
      "source": [
        "#TRAINING MODELS\n"
      ]
    },
    {
      "cell_type": "markdown",
      "metadata": {
        "id": "X7Qx2cV5ougo"
      },
      "source": [
        "##PREPROCESSING FOR TRAINING"
      ]
    },
    {
      "cell_type": "code",
      "metadata": {
        "id": "CGq-oKMrGk3P"
      },
      "source": [
        "final_himalaya = pd.read_csv(\"himalaya_dataf.csv\",index_col=0)\n",
        "final_sumatra = pd.read_csv(\"sumatra_dataf.csv\",index_col=0)\n",
        "final_central = pd.read_csv(\"central3.5_dataf.csv\",index_col=0)\n",
        "final_sulawesi = pd.read_csv(\"sulawesi3.5_dataf.csv\",index_col=0)\n",
        "final_asian = pd.read_csv(\"asian_dataf.csv\",index_col=0)"
      ],
      "execution_count": null,
      "outputs": []
    },
    {
      "cell_type": "code",
      "metadata": {
        "id": "TiXWMkT5Gk3Q"
      },
      "source": [
        "final_himalaya = final_himalaya[N:][[\"TVAL\",\"MEAN_MAG\",\"ENERGY\",\"b\",\"MAG_DEF\",\"ETA\",\"MU\",\"c\"]]\n",
        "final_sumatra = final_sumatra[N:][[\"TVAL\",\"MEAN_MAG\",\"ENERGY\",\"b\",\"MAG_DEF\",\"ETA\",\"MU\",\"c\"]]\n",
        "final_central = final_central[N:][[\"TVAL\",\"MEAN_MAG\",\"ENERGY\",\"b\",\"MAG_DEF\",\"ETA\",\"MU\",\"c\"]]\n",
        "final_sulawesi = final_sulawesi[N:][[\"TVAL\",\"MEAN_MAG\",\"ENERGY\",\"b\",\"MAG_DEF\",\"ETA\",\"MU\",\"c\"]]\n",
        "final_asian = final_asian[N:][[\"TVAL\",\"MEAN_MAG\",\"ENERGY\",\"b\",\"MAG_DEF\",\"ETA\",\"MU\",\"c\"]]"
      ],
      "execution_count": null,
      "outputs": []
    },
    {
      "cell_type": "code",
      "metadata": {
        "id": "f-2gmOp4Gk3Q"
      },
      "source": [
        "final_himalaya_output = pd.read_csv(\"himalaya5.5_output.csv\",index_col=0)\n",
        "final_sumatra_output = pd.read_csv(\"sumatra5.5_output.csv\",index_col=0)\n",
        "final_central_output = pd.read_csv(\"central5.5_output.csv\",index_col=0)\n",
        "final_sulawesi_output = pd.read_csv(\"sulawesi5.5_output.csv\",index_col=0)\n",
        "final_asian_output = pd.read_csv(\"asian5.5_output.csv\",index_col=0)"
      ],
      "execution_count": null,
      "outputs": []
    },
    {
      "cell_type": "code",
      "metadata": {
        "id": "hZKgGyoPGk3R"
      },
      "source": [
        "final_himalaya_output = final_himalaya_output[N:]\n",
        "final_sumatra_output = final_sumatra_output[N:]\n",
        "final_central_output = final_central_output[N:]\n",
        "final_sulawesi_output = final_sulawesi_output[N:]\n",
        "final_asian_output = final_asian_output[N:]"
      ],
      "execution_count": null,
      "outputs": []
    },
    {
      "cell_type": "code",
      "metadata": {
        "id": "Ybik1ojuGk3R"
      },
      "source": [
        "final_himalaya = final_himalaya.astype(np.double)\n",
        "final_sumatra = final_sumatra.astype(np.double)\n",
        "final_central = final_central.astype(np.double)\n",
        "final_sulawesi = final_sulawesi.astype(np.double)\n",
        "final_asian = final_asian.astype(np.double)"
      ],
      "execution_count": null,
      "outputs": []
    },
    {
      "cell_type": "code",
      "metadata": {
        "id": "HQHhrJ2_aInO"
      },
      "source": [
        "temp_sumatra = pd.concat((final_sumatra,final_sumatra_output),axis=1)\n",
        "temp_central = pd.concat((final_central,final_central_output),axis=1)\n",
        "temp_sulawesi = pd.concat((final_sulawesi,final_sulawesi_output),axis=1)\n",
        "temp_asian = pd.concat((final_asian,final_asian_output),axis=1)"
      ],
      "execution_count": 28,
      "outputs": []
    },
    {
      "cell_type": "code",
      "metadata": {
        "id": "MxvEyk1rZNw6"
      },
      "source": [
        "temp_sumatra = temp_sumatra.replace([np.inf,-np.inf],np.nan).dropna()\n",
        "temp_central = temp_central.replace([np.inf,-np.inf],np.nan).dropna()\n",
        "temp_sulawesi = temp_sulawesi.replace([np.inf,-np.inf],np.nan).dropna()\n",
        "temp_asian = temp_asian.replace([np.inf,-np.inf],np.nan).dropna()"
      ],
      "execution_count": 29,
      "outputs": []
    },
    {
      "cell_type": "code",
      "metadata": {
        "id": "myoeEwMUZxau"
      },
      "source": [
        "final_sumatra_1 = temp_sumatra[[\"TVAL\",\"MEAN_MAG\",\"ENERGY\",\"b\",\"MAG_DEF\",\"ETA\",\"MU\",\"c\"]]\n",
        "final_central_1 = temp_central[[\"TVAL\",\"MEAN_MAG\",\"ENERGY\",\"b\",\"MAG_DEF\",\"ETA\",\"MU\",\"c\"]]\n",
        "final_sulawesi_1 = temp_sulawesi[[\"TVAL\",\"MEAN_MAG\",\"ENERGY\",\"b\",\"MAG_DEF\",\"ETA\",\"MU\",\"c\"]]\n",
        "final_asian_1 = temp_asian[[\"TVAL\",\"MEAN_MAG\",\"ENERGY\",\"b\",\"MAG_DEF\",\"ETA\",\"MU\",\"c\"]]"
      ],
      "execution_count": 30,
      "outputs": []
    },
    {
      "cell_type": "code",
      "metadata": {
        "id": "Yn5q3G5XcCMl"
      },
      "source": [
        "scaler_sumatra = MinMaxScaler()\n",
        "scaler_central = MinMaxScaler()\n",
        "scaler_sulawesi = MinMaxScaler()\n",
        "scaler_asian = MinMaxScaler()"
      ],
      "execution_count": 31,
      "outputs": []
    },
    {
      "cell_type": "code",
      "metadata": {
        "id": "YeKQZJklgt2u"
      },
      "source": [
        "final_sumatra_s1 = final_sumatra_1.copy(deep=True)\n",
        "final_central_s1 = final_central_1.copy(deep=True)\n",
        "final_sulawesi_s1 = final_sulawesi_1.copy(deep=True)\n",
        "final_asian_s1 = final_asian_1.copy(deep=True)"
      ],
      "execution_count": 32,
      "outputs": []
    },
    {
      "cell_type": "code",
      "metadata": {
        "id": "GMFX93-AcR6d"
      },
      "source": [
        "final_sumatra_s1[[\"TVAL\",\"MEAN_MAG\",\"ENERGY\",\"MAG_DEF\",\"ETA\",\"MU\",\"c\"]] = scaler_sumatra.fit_transform(final_sumatra_1[[\"TVAL\",\"MEAN_MAG\",\"ENERGY\",\"MAG_DEF\",\"ETA\",\"MU\",\"c\"]])\n",
        "final_central_s1[[\"TVAL\",\"MEAN_MAG\",\"ENERGY\",\"MAG_DEF\",\"ETA\",\"MU\",\"c\"]] = scaler_central.fit_transform(final_central_1[[\"TVAL\",\"MEAN_MAG\",\"ENERGY\",\"MAG_DEF\",\"ETA\",\"MU\",\"c\"]])\n",
        "final_sulawesi_s1[[\"TVAL\",\"MEAN_MAG\",\"ENERGY\",\"MAG_DEF\",\"ETA\",\"MU\",\"c\"]] = scaler_sulawesi.fit_transform(final_sulawesi_1[[\"TVAL\",\"MEAN_MAG\",\"ENERGY\",\"MAG_DEF\",\"ETA\",\"MU\",\"c\"]])\n",
        "final_asian_s1[[\"TVAL\",\"MEAN_MAG\",\"ENERGY\",\"MAG_DEF\",\"ETA\",\"MU\",\"c\"]] = scaler_asian.fit_transform(final_asian_1[[\"TVAL\",\"MEAN_MAG\",\"ENERGY\",\"MAG_DEF\",\"ETA\",\"MU\",\"c\"]])"
      ],
      "execution_count": 33,
      "outputs": []
    },
    {
      "cell_type": "code",
      "metadata": {
        "id": "ONUI3gFQR-Qh"
      },
      "source": [
        "# final_sumatra_s1[[\"TVAL\",\"ENERGY\"]] = scaler_sumatra.fit_transform(final_sumatra_1[[\"TVAL\",\"ENERGY\"]])\n",
        "# final_central_s1[[\"TVAL\",\"ENERGY\"]] = scaler_central.fit_transform(final_central_1[[\"TVAL\",\"ENERGY\"]])\n",
        "# final_sulawesi_s1[[\"TVAL\",\"ENERGY\"]] = scaler_sulawesi.fit_transform(final_sulawesi_1[[\"TVAL\",\"ENERGY\"]])\n",
        "# final_asian_s1[[\"TVAL\",\"ENERGY\"]] = scaler_asian.fit_transform(final_asian_1[[\"TVAL\",\"ENERGY\"]])"
      ],
      "execution_count": 34,
      "outputs": []
    },
    {
      "cell_type": "code",
      "metadata": {
        "id": "va6ZEhG0bEzm"
      },
      "source": [
        "final_sumatra_output_1 = temp_sumatra[[\"OUTPUT\"]]\n",
        "final_central_output_1 = temp_central[[\"OUTPUT\"]]\n",
        "final_sulawesi_output_1 = temp_sulawesi[[\"OUTPUT\"]]\n",
        "final_asian_output_1 = temp_asian[[\"OUTPUT\"]]"
      ],
      "execution_count": 40,
      "outputs": []
    },
    {
      "cell_type": "code",
      "metadata": {
        "id": "caxTUSvLG0lB"
      },
      "source": [
        "X_train_sumatra,X_val_sumatra,Y_train_sumatra,Y_val_sumatra = train_test_split(final_sumatra_s1,final_sumatra_output_1,stratify=final_sumatra_output_1,random_state=0)\n",
        "X_train_central,X_val_central,Y_train_central,Y_val_central = train_test_split(final_central_s1,final_central_output_1,stratify=final_central_output_1,random_state=0)\n",
        "X_train_sulawesi,X_val_sulawesi,Y_train_sulawesi,Y_val_sulawesi = train_test_split(final_sulawesi_s1,final_sulawesi_output_1,stratify=final_sulawesi_output_1,random_state=0)\n",
        "X_train_asian,X_val_asian,Y_train_asian,Y_val_asian = train_test_split(final_asian_s1,final_asian_output_1,stratify=final_asian_output_1,random_state=0)"
      ],
      "execution_count": null,
      "outputs": []
    },
    {
      "cell_type": "code",
      "metadata": {
        "id": "ozxZqlmse2Vo"
      },
      "source": [
        "X_train_sumatra,X_val_sumatra,Y_train_sumatra,Y_val_sumatra = map(np.array,(X_train_sumatra,X_val_sumatra,Y_train_sumatra,Y_val_sumatra))\n",
        "X_train_central,X_val_central,Y_train_central,Y_val_central = map(np.array,(X_train_central,X_val_central,Y_train_central,Y_val_central))\n",
        "X_train_sulawesi,X_val_sulawesi,Y_train_sulawesi,Y_val_sulawesi = map(np.array,(X_train_sulawesi,X_val_sulawesi,Y_train_sulawesi,Y_val_sulawesi))\n",
        "X_train_asian,X_val_asian,Y_train_asian,Y_val_asian = map(np.array,(X_train_asian,X_val_asian,Y_train_asian,Y_val_asian))"
      ],
      "execution_count": 43,
      "outputs": []
    },
    {
      "cell_type": "code",
      "metadata": {
        "id": "qseLJF42eaJs"
      },
      "source": [
        "X_train_sumatra,X_val_sumatra,Y_train_sumatra,Y_val_sumatra = map(torch.Tensor,(X_train_sumatra,X_val_sumatra,Y_train_sumatra,Y_val_sumatra))\n",
        "X_train_central,X_val_central,Y_train_central,Y_val_central = map(torch.Tensor,(X_train_central,X_val_central,Y_train_central,Y_val_central))\n",
        "X_train_sulawesi,X_val_sulawesi,Y_train_sulawesi,Y_val_sulawesi = map(torch.Tensor,(X_train_sulawesi,X_val_sulawesi,Y_train_sulawesi,Y_val_sulawesi))\n",
        "X_train_asian,X_val_asian,Y_train_asian,Y_val_asian = map(torch.Tensor,(X_train_asian,X_val_asian,Y_train_asian,Y_val_asian))"
      ],
      "execution_count": 44,
      "outputs": []
    },
    {
      "cell_type": "markdown",
      "metadata": {
        "id": "KrFSxemCHtLc"
      },
      "source": [
        "##SUMATRA"
      ]
    },
    {
      "cell_type": "code",
      "metadata": {
        "id": "IzwdL41JopD_"
      },
      "source": [
        "class earthquake_model_sumatra(nn.Module):\n",
        "    def __init__(self):\n",
        "        super().__init__()\n",
        "        self.net = nn.Sequential(\n",
        "            nn.Linear(8,4),\n",
        "            nn.ReLU(),\n",
        "            nn.Linear(4,4),\n",
        "            nn.ReLU(),\n",
        "            nn.Linear(4,1),\n",
        "            nn.Sigmoid()\n",
        "        )\n",
        "    def forward(self,x):\n",
        "        return self.net(x)"
      ],
      "execution_count": 89,
      "outputs": []
    },
    {
      "cell_type": "code",
      "metadata": {
        "id": "2O_ZZIxlo6RU"
      },
      "source": [
        "model_sumatra = earthquake_model_sumatra()"
      ],
      "execution_count": 90,
      "outputs": []
    },
    {
      "cell_type": "code",
      "metadata": {
        "colab": {
          "base_uri": "https://localhost:8080/",
          "height": 380
        },
        "id": "WdTPlJo9o6N9",
        "outputId": "b22b6cdd-f360-4bc5-fd54-d4e065a28695"
      },
      "source": [
        "l_sumatra,b_sumatra = fit_optim(model_sumatra,X_train_sumatra,Y_train_sumatra,1000,0.0001,128)"
      ],
      "execution_count": 93,
      "outputs": [
        {
          "output_type": "stream",
          "text": [
            "Iteration 995 Loss 0.5277016162872314\n"
          ],
          "name": "stdout"
        },
        {
          "output_type": "display_data",
          "data": {
            "image/png": "[encoded data removed]",
            "text/plain": [
              "<Figure size 432x288 with 1 Axes>"
            ]
          },
          "metadata": {
            "tags": [],
            "needs_background": "light"
          }
        },
        {
          "output_type": "stream",
          "text": [
            "\n",
            "\n",
            "\n",
            "The loss before training is0.53666752576828\n",
            "The loss after training istensor(0.4502, grad_fn=<BinaryCrossEntropyBackward>)\n"
          ],
          "name": "stdout"
        }
      ]
    },
    {
      "cell_type": "code",
      "metadata": {
        "colab": {
          "base_uri": "https://localhost:8080/",
          "height": 380
        },
        "id": "IGKMEn71wALz",
        "outputId": "79f0e3cc-948d-42a1-e312-9236de275f9f"
      },
      "source": [
        "l_sumatra,b_sumatra = fit_optim(model_sumatra,X_train_sumatra,Y_train_sumatra,500,0.0001,128)"
      ],
      "execution_count": null,
      "outputs": [
        {
          "output_type": "stream",
          "text": [
            "Iteration 495 Loss 0.5033876895904541\n"
          ],
          "name": "stdout"
        },
        {
          "output_type": "display_data",
          "data": {
            "image/png": "[encoded data removed]",
            "text/plain": [
              "<Figure size 432x288 with 1 Axes>"
            ]
          },
          "metadata": {
            "tags": [],
            "needs_background": "light"
          }
        },
        {
          "output_type": "stream",
          "text": [
            "\n",
            "\n",
            "\n",
            "The loss before training is0.6733927130699158\n",
            "The loss after training istensor(0.4289, grad_fn=<BinaryCrossEntropyBackward>)\n"
          ],
          "name": "stdout"
        }
      ]
    },
    {
      "cell_type": "code",
      "metadata": {
        "colab": {
          "base_uri": "https://localhost:8080/"
        },
        "id": "pyvuq2aiD79c",
        "outputId": "4b9abe80-5a96-48d3-e874-06705b0c450d"
      },
      "source": [
        "calc_metric2(b_sumatra,X_val_sumatra,Y_val_sumatra)"
      ],
      "execution_count": 94,
      "outputs": [
        {
          "output_type": "stream",
          "text": [
            "The f1 accuracy is 0.8129189518586227\n"
          ],
          "name": "stdout"
        }
      ]
    },
    {
      "cell_type": "code",
      "metadata": {
        "id": "QihYjFrAFzpV"
      },
      "source": [
        "# torch.save(b_sumatra,\"sumatra_model_3(f81%)\")"
      ],
      "execution_count": 100,
      "outputs": []
    },
    {
      "cell_type": "markdown",
      "metadata": {
        "id": "OpANEM9YHvPz"
      },
      "source": [
        "##CENTRAL"
      ]
    },
    {
      "cell_type": "code",
      "metadata": {
        "id": "afVkTcHXDhTR"
      },
      "source": [
        "class earthquake_model_central(nn.Module):\n",
        "    def __init__(self):\n",
        "        super().__init__()\n",
        "        self.net = nn.Sequential(\n",
        "            nn.Linear(8,24),\n",
        "            nn.ReLU(),\n",
        "            nn.Linear(24,24),\n",
        "            nn.ReLU(),\n",
        "            nn.Linear(24,12),\n",
        "            nn.ReLU(),\n",
        "            nn.Linear(12,1),\n",
        "            nn.Sigmoid()\n",
        "        )\n",
        "    def forward(self,x):\n",
        "        return self.net(x)"
      ],
      "execution_count": null,
      "outputs": []
    },
    {
      "cell_type": "code",
      "metadata": {
        "id": "cY7yGDSADiv_"
      },
      "source": [
        "model_central = earthquake_model_central()"
      ],
      "execution_count": null,
      "outputs": []
    },
    {
      "cell_type": "code",
      "metadata": {
        "colab": {
          "base_uri": "https://localhost:8080/",
          "height": 384
        },
        "id": "CuRJ8DoMda-G",
        "outputId": "295a4be3-061d-4e52-c495-786ba857a4aa"
      },
      "source": [
        "l_central,b_central = fit_optim(model_central,X_train_central,Y_train_central,200,0.0001,64)"
      ],
      "execution_count": null,
      "outputs": [
        {
          "output_type": "stream",
          "text": [
            "Iteration 195 Loss 0.2824236750602722\n"
          ],
          "name": "stdout"
        },
        {
          "output_type": "display_data",
          "data": {
            "image/png": "[encoded data removed]",
            "text/plain": [
              "<Figure size 432x288 with 1 Axes>"
            ]
          },
          "metadata": {
            "tags": [],
            "needs_background": "light"
          }
        },
        {
          "output_type": "stream",
          "text": [
            "\n",
            "\n",
            "\n",
            "The loss before training is0.5357078909873962\n",
            "The loss after training istensor(0.1993, grad_fn=<BinaryCrossEntropyBackward>)\n"
          ],
          "name": "stdout"
        }
      ]
    },
    {
      "cell_type": "code",
      "metadata": {
        "colab": {
          "base_uri": "https://localhost:8080/"
        },
        "id": "jHgAXGaEdzW6",
        "outputId": "b104a24e-e553-4fc8-eecd-ef0888489fa1"
      },
      "source": [
        "calc_metric(b_central,X_val_central,Y_val_central)"
      ],
      "execution_count": null,
      "outputs": [
        {
          "output_type": "stream",
          "text": [
            "The accuracy is  82.01396973224679\n",
            "The confusion matrix is\n",
            " [[   0  309]\n",
            " [   0 1409]]\n",
            "The f1 score is 0.9011832427246562\n"
          ],
          "name": "stdout"
        }
      ]
    },
    {
      "cell_type": "code",
      "metadata": {
        "colab": {
          "base_uri": "https://localhost:8080/"
        },
        "id": "zUZWDK51DK8H",
        "outputId": "e5e6129a-dc26-40bc-c11a-de5f47b32781"
      },
      "source": [
        "calc_metric2(b_central,X_val_central,Y_val_central)"
      ],
      "execution_count": 88,
      "outputs": [
        {
          "output_type": "stream",
          "text": [
            "The f1 accuracy is 0.9011832427246562\n"
          ],
          "name": "stdout"
        }
      ]
    },
    {
      "cell_type": "code",
      "metadata": {
        "id": "iWSdLalTjGQj"
      },
      "source": [
        "#torch.save(b_central,\"central_model_1(82%)\")"
      ],
      "execution_count": null,
      "outputs": []
    },
    {
      "cell_type": "markdown",
      "metadata": {
        "id": "P0Ykjw-2HwjK"
      },
      "source": [
        "##SULAWESI"
      ]
    },
    {
      "cell_type": "code",
      "metadata": {
        "colab": {
          "base_uri": "https://localhost:8080/",
          "height": 380
        },
        "id": "k84gRC0edbrj",
        "outputId": "f1b7ae0b-fd4c-4f50-f8e3-f25948b53255"
      },
      "source": [
        "l_sulawesi,b_sulawesi = fit_optim(model_sulawesi,X_train_sulawesi,Y_train_sulawesi,3000,0.00001,4096)"
      ],
      "execution_count": null,
      "outputs": [
        {
          "output_type": "stream",
          "text": [
            "Iteration 2995 Loss 0.52061527967453\n"
          ],
          "name": "stdout"
        },
        {
          "output_type": "display_data",
          "data": {
            "image/png": "[encoded data removed]",
            "text/plain": [
              "<Figure size 432x288 with 1 Axes>"
            ]
          },
          "metadata": {
            "tags": [],
            "needs_background": "light"
          }
        },
        {
          "output_type": "stream",
          "text": [
            "\n",
            "\n",
            "\n",
            "The loss before training is0.522469162940979\n",
            "The loss after training istensor(0.5006, grad_fn=<BinaryCrossEntropyBackward>)\n"
          ],
          "name": "stdout"
        }
      ]
    },
    {
      "cell_type": "code",
      "metadata": {
        "colab": {
          "base_uri": "https://localhost:8080/"
        },
        "id": "hJfeIlW2d5p1",
        "outputId": "0afc9739-6c01-4ce6-bb45-432f663f9bc8"
      },
      "source": [
        "calc_metric(b_sulawesi,X_val_sulawesi,Y_val_sulawesi)"
      ],
      "execution_count": null,
      "outputs": [
        {
          "output_type": "stream",
          "text": [
            "The accuracy is  74.20072608033728\n",
            "The confusion matrix is\n",
            " [[2513 1314]\n",
            " [ 889 3823]]\n",
            "The f1 score is 0.776322469286222\n"
          ],
          "name": "stdout"
        }
      ]
    },
    {
      "cell_type": "code",
      "metadata": {
        "id": "KJLpbwBZjONy"
      },
      "source": [
        "torch.save(b_sulawesi,\"sulawesi_model_1(74%)\")"
      ],
      "execution_count": null,
      "outputs": []
    },
    {
      "cell_type": "code",
      "metadata": {
        "id": "-0LzcEsrpxmi"
      },
      "source": [
        "class earthquake_model_sulawesi(nn.Module):\n",
        "    def __init__(self):\n",
        "        super().__init__()\n",
        "        self.net = nn.Sequential(\n",
        "            nn.Linear(8,14),\n",
        "            nn.ReLU(),\n",
        "            nn.Linear(14,12),\n",
        "            nn.ReLU(),\n",
        "            nn.Linear(12,1),\n",
        "            nn.Sigmoid()\n",
        "        )\n",
        "    def forward(self,x):\n",
        "        return self.net(x)"
      ],
      "execution_count": 95,
      "outputs": []
    },
    {
      "cell_type": "code",
      "metadata": {
        "id": "tfzo2kC4p7ED"
      },
      "source": [
        "model_sulawesi = earthquake_model_sulawesi()"
      ],
      "execution_count": 96,
      "outputs": []
    },
    {
      "cell_type": "code",
      "metadata": {
        "colab": {
          "base_uri": "https://localhost:8080/",
          "height": 380
        },
        "id": "29BoCAIjpyaT",
        "outputId": "20e8e430-b99d-4656-df21-8ad50c3564d1"
      },
      "source": [
        "l_sulawesi,b_sulawesi = fit_optim(model_sulawesi,X_train_sulawesi,Y_train_sulawesi,500,0.0001,64)"
      ],
      "execution_count": 97,
      "outputs": [
        {
          "output_type": "stream",
          "text": [
            "Iteration 495 Loss 0.6037675738334656\n"
          ],
          "name": "stdout"
        },
        {
          "output_type": "display_data",
          "data": {
            "image/png": "[encoded data removed]",
            "text/plain": [
              "<Figure size 432x288 with 1 Axes>"
            ]
          },
          "metadata": {
            "tags": [],
            "needs_background": "light"
          }
        },
        {
          "output_type": "stream",
          "text": [
            "\n",
            "\n",
            "\n",
            "The loss before training is0.7128465175628662\n",
            "The loss after training istensor(0.3021, grad_fn=<BinaryCrossEntropyBackward>)\n"
          ],
          "name": "stdout"
        }
      ]
    },
    {
      "cell_type": "code",
      "metadata": {
        "colab": {
          "base_uri": "https://localhost:8080/"
        },
        "id": "1qiGLGoDp14o",
        "outputId": "512bf2a8-3e26-4823-c358-190770fdacbc"
      },
      "source": [
        "calc_metric(b_sulawesi,X_val_sulawesi,Y_val_sulawesi)"
      ],
      "execution_count": 98,
      "outputs": [
        {
          "output_type": "stream",
          "text": [
            "The accuracy is  76.88073394495413\n",
            "The confusion matrix is\n",
            " [[  0 250]\n",
            " [  2 838]]\n",
            "The f1 score is 0.8692946058091287\n"
          ],
          "name": "stdout"
        }
      ]
    },
    {
      "cell_type": "code",
      "metadata": {
        "colab": {
          "base_uri": "https://localhost:8080/"
        },
        "id": "Ua78LgrdE1H8",
        "outputId": "02c2b4ce-6da3-4e66-8976-bf69d10e20ab"
      },
      "source": [
        "calc_metric2(b_sulawesi,X_val_sulawesi,Y_val_sulawesi)"
      ],
      "execution_count": 99,
      "outputs": [
        {
          "output_type": "stream",
          "text": [
            "The f1 accuracy is 0.8692946058091287\n"
          ],
          "name": "stdout"
        }
      ]
    },
    {
      "cell_type": "code",
      "metadata": {
        "id": "VAlTNV1wGNhS"
      },
      "source": [
        "#torch.save(b_sulawesi,\"sulawesi_model_2(f86%)\")"
      ],
      "execution_count": 101,
      "outputs": []
    },
    {
      "cell_type": "markdown",
      "metadata": {
        "id": "EKBamz1YHxwT"
      },
      "source": [
        "##ASIAN\n"
      ]
    },
    {
      "cell_type": "code",
      "metadata": {
        "id": "guT-LLwhhikM"
      },
      "source": [
        "class earthquake_model_asian(nn.Module):\n",
        "    def __init__(self):\n",
        "        super().__init__()\n",
        "        self.net = nn.Sequential(\n",
        "            nn.Linear(8,12),\n",
        "            nn.ReLU(),\n",
        "            nn.Linear(12,12),\n",
        "            nn.ReLU(),\n",
        "            nn.Linear(12,12),\n",
        "            nn.ReLU(),\n",
        "            nn.Linear(12,1),\n",
        "            nn.Sigmoid()\n",
        "        )\n",
        "    def forward(self,x):\n",
        "        return self.net(x)"
      ],
      "execution_count": 72,
      "outputs": []
    },
    {
      "cell_type": "code",
      "metadata": {
        "id": "W9aV8bD6hom-"
      },
      "source": [
        "model_asian = earthquake_model_asian()"
      ],
      "execution_count": 75,
      "outputs": []
    },
    {
      "cell_type": "code",
      "metadata": {
        "colab": {
          "base_uri": "https://localhost:8080/",
          "height": 380
        },
        "id": "VyOFpl0GhlRh",
        "outputId": "8c64cfe0-849a-489b-acc8-4aae3ce090d4"
      },
      "source": [
        "l_asian,b_asian = fit_optim(model_asian,X_train_asian,Y_train_asian,8000,0.00001,256)"
      ],
      "execution_count": 76,
      "outputs": [
        {
          "output_type": "stream",
          "text": [
            "Iteration 7995 Loss 0.556225597858429\n"
          ],
          "name": "stdout"
        },
        {
          "output_type": "display_data",
          "data": {
            "image/png": "[encoded data removed]",
            "text/plain": [
              "<Figure size 432x288 with 1 Axes>"
            ]
          },
          "metadata": {
            "tags": [],
            "needs_background": "light"
          }
        },
        {
          "output_type": "stream",
          "text": [
            "\n",
            "\n",
            "\n",
            "The loss before training is0.7616449594497681\n",
            "The loss after training istensor(0.5195, grad_fn=<BinaryCrossEntropyBackward>)\n"
          ],
          "name": "stdout"
        }
      ]
    },
    {
      "cell_type": "code",
      "metadata": {
        "colab": {
          "base_uri": "https://localhost:8080/"
        },
        "id": "7eTjy536Crog",
        "outputId": "cb51b02b-7562-491a-d446-48318f7f7cd0"
      },
      "source": [
        "calc_metric2(b_asian,X_val_asian,Y_val_asian)"
      ],
      "execution_count": 86,
      "outputs": [
        {
          "output_type": "stream",
          "text": [
            "The f1 accuracy is 0.8557046979865772\n"
          ],
          "name": "stdout"
        }
      ]
    },
    {
      "cell_type": "code",
      "metadata": {
        "id": "hqz35FxUCHvM"
      },
      "source": [
        "#torch.save(b_asian,\"asian_model_2(f85.57%)\")"
      ],
      "execution_count": 84,
      "outputs": []
    }
  ]
}